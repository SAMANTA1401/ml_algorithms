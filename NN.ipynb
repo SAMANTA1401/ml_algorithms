{
 "cells": [
  {
   "cell_type": "code",
   "execution_count": 1,
   "metadata": {},
   "outputs": [],
   "source": [
    "import numpy as np\n",
    "import matplotlib.pyplot as plt"
   ]
  },
  {
   "cell_type": "code",
   "execution_count": 2,
   "metadata": {},
   "outputs": [],
   "source": [
    "K =2 # number of classes \n",
    "N = 100  # number of points per class\n",
    "D = 2 # number of features\n",
    "X = np.zeros((N * K, D))  # data matrix (each row = single example)\n",
    "y = np.zeros(N * K)  # class labels"
   ]
  },
  {
   "cell_type": "code",
   "execution_count": 3,
   "metadata": {},
   "outputs": [],
   "source": [
    "ix = range(N * 0, N * (0 + 1))"
   ]
  },
  {
   "cell_type": "code",
   "execution_count": 4,
   "metadata": {},
   "outputs": [
    {
     "data": {
      "text/plain": [
       "range(0, 100)"
      ]
     },
     "execution_count": 4,
     "metadata": {},
     "output_type": "execute_result"
    }
   ],
   "source": [
    "ix"
   ]
  },
  {
   "cell_type": "code",
   "execution_count": 5,
   "metadata": {},
   "outputs": [],
   "source": [
    "r = np.linspace(0, 1, N) # 100 data points "
   ]
  },
  {
   "cell_type": "code",
   "execution_count": 6,
   "metadata": {},
   "outputs": [
    {
     "data": {
      "text/plain": [
       "array([0.        , 0.01010101, 0.02020202, 0.03030303, 0.04040404,\n",
       "       0.05050505, 0.06060606, 0.07070707, 0.08080808, 0.09090909,\n",
       "       0.1010101 , 0.11111111, 0.12121212, 0.13131313, 0.14141414,\n",
       "       0.15151515, 0.16161616, 0.17171717, 0.18181818, 0.19191919,\n",
       "       0.2020202 , 0.21212121, 0.22222222, 0.23232323, 0.24242424,\n",
       "       0.25252525, 0.26262626, 0.27272727, 0.28282828, 0.29292929,\n",
       "       0.3030303 , 0.31313131, 0.32323232, 0.33333333, 0.34343434,\n",
       "       0.35353535, 0.36363636, 0.37373737, 0.38383838, 0.39393939,\n",
       "       0.4040404 , 0.41414141, 0.42424242, 0.43434343, 0.44444444,\n",
       "       0.45454545, 0.46464646, 0.47474747, 0.48484848, 0.49494949,\n",
       "       0.50505051, 0.51515152, 0.52525253, 0.53535354, 0.54545455,\n",
       "       0.55555556, 0.56565657, 0.57575758, 0.58585859, 0.5959596 ,\n",
       "       0.60606061, 0.61616162, 0.62626263, 0.63636364, 0.64646465,\n",
       "       0.65656566, 0.66666667, 0.67676768, 0.68686869, 0.6969697 ,\n",
       "       0.70707071, 0.71717172, 0.72727273, 0.73737374, 0.74747475,\n",
       "       0.75757576, 0.76767677, 0.77777778, 0.78787879, 0.7979798 ,\n",
       "       0.80808081, 0.81818182, 0.82828283, 0.83838384, 0.84848485,\n",
       "       0.85858586, 0.86868687, 0.87878788, 0.88888889, 0.8989899 ,\n",
       "       0.90909091, 0.91919192, 0.92929293, 0.93939394, 0.94949495,\n",
       "       0.95959596, 0.96969697, 0.97979798, 0.98989899, 1.        ])"
      ]
     },
     "execution_count": 6,
     "metadata": {},
     "output_type": "execute_result"
    }
   ],
   "source": [
    "r"
   ]
  },
  {
   "cell_type": "code",
   "execution_count": 7,
   "metadata": {},
   "outputs": [],
   "source": [
    "t = np.linspace(0 * 4, (0 + 1) * 4, N)"
   ]
  },
  {
   "cell_type": "code",
   "execution_count": 8,
   "metadata": {},
   "outputs": [
    {
     "data": {
      "text/plain": [
       "array([0.        , 0.04040404, 0.08080808, 0.12121212, 0.16161616,\n",
       "       0.2020202 , 0.24242424, 0.28282828, 0.32323232, 0.36363636,\n",
       "       0.4040404 , 0.44444444, 0.48484848, 0.52525253, 0.56565657,\n",
       "       0.60606061, 0.64646465, 0.68686869, 0.72727273, 0.76767677,\n",
       "       0.80808081, 0.84848485, 0.88888889, 0.92929293, 0.96969697,\n",
       "       1.01010101, 1.05050505, 1.09090909, 1.13131313, 1.17171717,\n",
       "       1.21212121, 1.25252525, 1.29292929, 1.33333333, 1.37373737,\n",
       "       1.41414141, 1.45454545, 1.49494949, 1.53535354, 1.57575758,\n",
       "       1.61616162, 1.65656566, 1.6969697 , 1.73737374, 1.77777778,\n",
       "       1.81818182, 1.85858586, 1.8989899 , 1.93939394, 1.97979798,\n",
       "       2.02020202, 2.06060606, 2.1010101 , 2.14141414, 2.18181818,\n",
       "       2.22222222, 2.26262626, 2.3030303 , 2.34343434, 2.38383838,\n",
       "       2.42424242, 2.46464646, 2.50505051, 2.54545455, 2.58585859,\n",
       "       2.62626263, 2.66666667, 2.70707071, 2.74747475, 2.78787879,\n",
       "       2.82828283, 2.86868687, 2.90909091, 2.94949495, 2.98989899,\n",
       "       3.03030303, 3.07070707, 3.11111111, 3.15151515, 3.19191919,\n",
       "       3.23232323, 3.27272727, 3.31313131, 3.35353535, 3.39393939,\n",
       "       3.43434343, 3.47474747, 3.51515152, 3.55555556, 3.5959596 ,\n",
       "       3.63636364, 3.67676768, 3.71717172, 3.75757576, 3.7979798 ,\n",
       "       3.83838384, 3.87878788, 3.91919192, 3.95959596, 4.        ])"
      ]
     },
     "execution_count": 8,
     "metadata": {},
     "output_type": "execute_result"
    }
   ],
   "source": [
    "t"
   ]
  },
  {
   "cell_type": "code",
   "execution_count": 9,
   "metadata": {},
   "outputs": [
    {
     "data": {
      "text/plain": [
       "array([ 0.10827175, -0.05850299,  0.09673974,  0.19422188, -0.21544282,\n",
       "        0.26158839, -0.12455076, -0.32539415, -0.31553418,  0.08690595,\n",
       "        0.07116049, -0.1903463 ,  0.05080543, -0.11341718,  0.1745244 ,\n",
       "        0.08076947,  0.05037532, -0.05972507, -0.0498558 ,  0.34948087,\n",
       "        0.15117606,  0.21597516,  0.18143587,  0.28435717, -0.21787917,\n",
       "       -0.29263079, -0.10346683, -0.17900185,  0.162825  ,  0.16987073,\n",
       "       -0.39528113,  0.03145346,  0.20028192,  0.01439683,  0.25719443,\n",
       "       -0.03126006,  0.01502736, -0.30727749, -0.09894348, -0.1792368 ,\n",
       "       -0.07763332, -0.27953681, -0.06144889,  0.2565704 , -0.33182855,\n",
       "       -0.01566221, -0.08803006,  0.09280335,  0.12297707, -0.22784932,\n",
       "        0.1659529 , -0.11376996, -0.25971969, -0.17015788, -0.41401356,\n",
       "        0.23260707,  0.36073623, -0.04090412, -0.29788875,  0.0378405 ,\n",
       "        0.1654176 , -0.18495097,  0.13069205, -0.16895586, -0.06242565,\n",
       "       -0.0140245 ,  0.01540554, -0.14478233,  0.20274407,  0.23457636,\n",
       "       -0.08151926,  0.23436167, -0.23783623,  0.05925787, -0.13457887,\n",
       "       -0.03150807,  0.22633827, -0.11447284, -0.21498901, -0.6132969 ,\n",
       "       -0.15091295, -0.0390042 , -0.09601273, -0.1880366 ,  0.08367455,\n",
       "        0.35688426, -0.19635743,  0.00699468, -0.23520335, -0.15248457,\n",
       "       -0.26826416,  0.32382164, -0.10546857, -0.22288825, -0.23484233,\n",
       "        0.08015905, -0.29294373,  0.51382175,  0.15489654,  0.29737133])"
      ]
     },
     "execution_count": 9,
     "metadata": {},
     "output_type": "execute_result"
    }
   ],
   "source": [
    "np.random.randn(N) * 0.2"
   ]
  },
  {
   "cell_type": "code",
   "execution_count": 10,
   "metadata": {},
   "outputs": [],
   "source": [
    "t =t + np.random.randn(N)*0.2"
   ]
  },
  {
   "cell_type": "code",
   "execution_count": 11,
   "metadata": {},
   "outputs": [
    {
     "data": {
      "text/plain": [
       "array([ 0.23495432,  0.19647227,  0.34952212,  0.12179691, -0.10419787,\n",
       "        0.39415285,  0.46723101,  0.26616321,  0.51102994,  0.56886418,\n",
       "        0.66095103,  0.63182253,  0.46043529,  0.6677469 ,  0.73157925,\n",
       "        0.68849766,  0.90688117,  0.81218319,  1.00694646,  0.53974514,\n",
       "        0.66165896,  0.83818151,  0.94071515,  0.43804923,  0.914081  ,\n",
       "        0.76312791,  1.0066519 ,  0.95334874,  1.18410326,  1.34145833,\n",
       "        1.02589718,  1.30574235,  1.501953  ,  1.60928134,  1.38675459,\n",
       "        1.36854162,  1.70453065,  1.3154135 ,  1.59562076,  1.34920406,\n",
       "        1.352864  ,  1.61108064,  1.61367106,  1.82021082,  1.29809431,\n",
       "        1.54160977,  1.80079157,  1.95705996,  1.65228153,  1.77426757,\n",
       "        2.01472992,  2.12827209,  1.89132105,  2.29423128,  2.19770437,\n",
       "        1.96900711,  2.32247508,  2.45343594,  2.66628658,  2.72039587,\n",
       "        2.21061267,  2.55712427,  2.34747668,  2.40127853,  2.38135214,\n",
       "        2.67375456,  2.58251301,  2.50612238,  3.04607724,  2.84915873,\n",
       "        2.83121585,  2.71092636,  3.1388976 ,  3.20371412,  2.63715815,\n",
       "        3.10112678,  3.30504813,  3.25383541,  3.27298847,  3.07274974,\n",
       "        3.21083641,  3.61643735,  3.40466364,  3.36383298,  3.16301223,\n",
       "        3.10383785,  3.59834871,  3.42530822,  3.58517302,  3.64205076,\n",
       "        3.55515231,  3.80199701,  3.71003524,  3.65226061,  3.63948001,\n",
       "        3.75255494,  3.85826821,  4.04237416,  4.12362255,  4.16115943])"
      ]
     },
     "execution_count": 11,
     "metadata": {},
     "output_type": "execute_result"
    }
   ],
   "source": [
    "t"
   ]
  },
  {
   "cell_type": "code",
   "execution_count": 12,
   "metadata": {},
   "outputs": [
    {
     "data": {
      "text/plain": [
       "array([ 0.23279856,  0.19521069,  0.34244886,  0.121496  , -0.10400942,\n",
       "        0.38402613,  0.4504158 ,  0.26303169,  0.48907586,  0.53867545,\n",
       "        0.61386788,  0.59061643,  0.44433811,  0.61921838,  0.66804562,\n",
       "        0.63537779,  0.78758574,  0.72579075,  0.84520384,  0.51391738,\n",
       "        0.61442658,  0.74342811,  0.80797968,  0.42417369,  0.79200185,\n",
       "        0.6911853 ,  0.84504638,  0.81535885,  0.92616126,  0.9738171 ,\n",
       "        0.85517957,  0.96507836,  0.99763123,  0.99925954,  0.98311207,\n",
       "        0.97961615,  0.99107088,  0.96756666,  0.99969189,  0.97554873,\n",
       "        0.97634659,  0.9991887 ,  0.99908102,  0.96905711,  0.96304667,\n",
       "        0.9995741 ,  0.97366748,  0.92632312,  0.99668192,  0.97937104,\n",
       "        0.90306919,  0.84859325,  0.94907023,  0.74953635,  0.80984525,\n",
       "        0.92175627,  0.73054354,  0.63511447,  0.45761062,  0.40885293,\n",
       "        0.80220542,  0.55175609,  0.71324425,  0.67451985,  0.68909575,\n",
       "        0.45095774,  0.53040619,  0.59355605,  0.09537025,  0.28828367,\n",
       "        0.30541746,  0.41747634,  0.00269505, -0.06208152,  0.48331245,\n",
       "        0.04045483, -0.16272859, -0.11200723, -0.13101805,  0.06878854,\n",
       "       -0.06918844, -0.45720033, -0.26004711, -0.22041541, -0.02141794,\n",
       "        0.03774583, -0.44103903, -0.2799246 , -0.42917607, -0.47982751,\n",
       "       -0.40187143, -0.61343624, -0.5383202 , -0.48876009, -0.47757045,\n",
       "       -0.57365593, -0.65688169, -0.78381247, -0.83162636, -0.85188121])"
      ]
     },
     "execution_count": 12,
     "metadata": {},
     "output_type": "execute_result"
    }
   ],
   "source": [
    "np.sin(t)"
   ]
  },
  {
   "cell_type": "code",
   "execution_count": 13,
   "metadata": {},
   "outputs": [
    {
     "data": {
      "text/plain": [
       "array([ 0.        ,  0.00197183,  0.00691816,  0.0036817 , -0.0042024 ,\n",
       "        0.01939526,  0.02729793,  0.0185982 ,  0.03952128,  0.0489705 ,\n",
       "        0.06200686,  0.06562405,  0.05385916,  0.0813115 ,  0.0944711 ,\n",
       "        0.09626936,  0.12728658,  0.12463074,  0.15367343,  0.09863061,\n",
       "        0.12412658,  0.15769687,  0.17955104,  0.0985454 ,  0.19200045,\n",
       "        0.17454174,  0.22193137,  0.22237059,  0.2619446 ,  0.28525956,\n",
       "        0.25914532,  0.30219626,  0.32246666,  0.33308651,  0.33763445,\n",
       "        0.34632894,  0.36038941,  0.36161582,  0.38372012,  0.38430708,\n",
       "        0.39448347,  0.41380542,  0.42385255,  0.42090359,  0.42802074,\n",
       "        0.45435186,  0.45241115,  0.43976956,  0.48323972,  0.4847392 ,\n",
       "        0.45609555,  0.4371541 ,  0.49850153,  0.40126693,  0.44173377,\n",
       "        0.51208682,  0.41323675,  0.36567197,  0.26809511,  0.24365983,\n",
       "        0.4861851 ,  0.33997093,  0.44667822,  0.42923991,  0.44547604,\n",
       "        0.29608337,  0.35360413,  0.40169955,  0.06550684,  0.20092498,\n",
       "        0.21595174,  0.29940223,  0.00196003, -0.04577728,  0.36126385,\n",
       "        0.0306476 , -0.12492295, -0.08711673, -0.10322634,  0.05489187,\n",
       "       -0.05590985, -0.374073  , -0.21539255, -0.18479272, -0.0181728 ,\n",
       "        0.03240804, -0.38312482, -0.24599435, -0.38148984, -0.43136009,\n",
       "       -0.36533767, -0.56386563, -0.50025716, -0.45913827, -0.45345073,\n",
       "       -0.55047791, -0.63697619, -0.76797787, -0.82322609, -0.85188121])"
      ]
     },
     "execution_count": 13,
     "metadata": {},
     "output_type": "execute_result"
    }
   ],
   "source": [
    "r * np.sin(t)"
   ]
  },
  {
   "cell_type": "code",
   "execution_count": 14,
   "metadata": {},
   "outputs": [
    {
     "data": {
      "text/plain": [
       "array([ 0.        ,  0.00990668,  0.01898053,  0.03007854,  0.0401849 ,\n",
       "        0.04663244,  0.05411024,  0.06821728,  0.07048414,  0.07659212,\n",
       "        0.07973826,  0.08966138,  0.10858899,  0.10310954,  0.10522914,\n",
       "        0.11700022,  0.0995887 ,  0.11812691,  0.09717165,  0.1646359 ,\n",
       "        0.15938869,  0.14187003,  0.13093563,  0.21038747,  0.14800453,\n",
       "        0.18249434,  0.14042443,  0.15789707,  0.10666239,  0.06659247,\n",
       "        0.15707026,  0.0820283 ,  0.02223482, -0.01282517,  0.06285004,\n",
       "        0.07101768, -0.04848584,  0.09441198, -0.00952759,  0.08658128,\n",
       "        0.08735811, -0.01667889, -0.01818371, -0.10721186,  0.11970426,\n",
       "        0.01326473, -0.1059268 , -0.1788516 , -0.03946427, -0.10001453,\n",
       "       -0.21691671, -0.27253877, -0.16548848, -0.35438433, -0.3199874 ,\n",
       "       -0.21542763, -0.38626771, -0.44472553, -0.52091774, -0.5438729 ,\n",
       "       -0.36184735, -0.51388219, -0.43895723, -0.46979972, -0.46847373,\n",
       "       -0.58601459, -0.56516242, -0.54465765, -0.68373785, -0.66737988,\n",
       "       -0.67328585, -0.65168518, -0.72727009, -0.7359514 , -0.65437522,\n",
       "       -0.75695558, -0.7574443 , -0.77288353, -0.78108726, -0.79608959,\n",
       "       -0.80614433, -0.72766124, -0.79978653, -0.81776471, -0.84829021,\n",
       "       -0.85797401, -0.77963597, -0.84365569, -0.80286298, -0.78874033,\n",
       "       -0.832451  , -0.72592653, -0.78315268, -0.8195444 , -0.83422005,\n",
       "       -0.78600157, -0.73114537, -0.60845219, -0.54972613, -0.52373506])"
      ]
     },
     "execution_count": 14,
     "metadata": {},
     "output_type": "execute_result"
    }
   ],
   "source": [
    "r * np.cos(t)"
   ]
  },
  {
   "cell_type": "code",
   "execution_count": 15,
   "metadata": {},
   "outputs": [],
   "source": [
    "X[ix] = np.c_[r * np.sin(t), r * np.cos(t)]"
   ]
  },
  {
   "cell_type": "code",
   "execution_count": 16,
   "metadata": {},
   "outputs": [
    {
     "data": {
      "text/plain": [
       "array([[ 0.        ,  0.        ],\n",
       "       [ 0.00197183,  0.00990668],\n",
       "       [ 0.00691816,  0.01898053],\n",
       "       [ 0.0036817 ,  0.03007854],\n",
       "       [-0.0042024 ,  0.0401849 ],\n",
       "       [ 0.01939526,  0.04663244],\n",
       "       [ 0.02729793,  0.05411024],\n",
       "       [ 0.0185982 ,  0.06821728],\n",
       "       [ 0.03952128,  0.07048414],\n",
       "       [ 0.0489705 ,  0.07659212],\n",
       "       [ 0.06200686,  0.07973826],\n",
       "       [ 0.06562405,  0.08966138],\n",
       "       [ 0.05385916,  0.10858899],\n",
       "       [ 0.0813115 ,  0.10310954],\n",
       "       [ 0.0944711 ,  0.10522914],\n",
       "       [ 0.09626936,  0.11700022],\n",
       "       [ 0.12728658,  0.0995887 ],\n",
       "       [ 0.12463074,  0.11812691],\n",
       "       [ 0.15367343,  0.09717165],\n",
       "       [ 0.09863061,  0.1646359 ],\n",
       "       [ 0.12412658,  0.15938869],\n",
       "       [ 0.15769687,  0.14187003],\n",
       "       [ 0.17955104,  0.13093563],\n",
       "       [ 0.0985454 ,  0.21038747],\n",
       "       [ 0.19200045,  0.14800453],\n",
       "       [ 0.17454174,  0.18249434],\n",
       "       [ 0.22193137,  0.14042443],\n",
       "       [ 0.22237059,  0.15789707],\n",
       "       [ 0.2619446 ,  0.10666239],\n",
       "       [ 0.28525956,  0.06659247],\n",
       "       [ 0.25914532,  0.15707026],\n",
       "       [ 0.30219626,  0.0820283 ],\n",
       "       [ 0.32246666,  0.02223482],\n",
       "       [ 0.33308651, -0.01282517],\n",
       "       [ 0.33763445,  0.06285004],\n",
       "       [ 0.34632894,  0.07101768],\n",
       "       [ 0.36038941, -0.04848584],\n",
       "       [ 0.36161582,  0.09441198],\n",
       "       [ 0.38372012, -0.00952759],\n",
       "       [ 0.38430708,  0.08658128],\n",
       "       [ 0.39448347,  0.08735811],\n",
       "       [ 0.41380542, -0.01667889],\n",
       "       [ 0.42385255, -0.01818371],\n",
       "       [ 0.42090359, -0.10721186],\n",
       "       [ 0.42802074,  0.11970426],\n",
       "       [ 0.45435186,  0.01326473],\n",
       "       [ 0.45241115, -0.1059268 ],\n",
       "       [ 0.43976956, -0.1788516 ],\n",
       "       [ 0.48323972, -0.03946427],\n",
       "       [ 0.4847392 , -0.10001453],\n",
       "       [ 0.45609555, -0.21691671],\n",
       "       [ 0.4371541 , -0.27253877],\n",
       "       [ 0.49850153, -0.16548848],\n",
       "       [ 0.40126693, -0.35438433],\n",
       "       [ 0.44173377, -0.3199874 ],\n",
       "       [ 0.51208682, -0.21542763],\n",
       "       [ 0.41323675, -0.38626771],\n",
       "       [ 0.36567197, -0.44472553],\n",
       "       [ 0.26809511, -0.52091774],\n",
       "       [ 0.24365983, -0.5438729 ],\n",
       "       [ 0.4861851 , -0.36184735],\n",
       "       [ 0.33997093, -0.51388219],\n",
       "       [ 0.44667822, -0.43895723],\n",
       "       [ 0.42923991, -0.46979972],\n",
       "       [ 0.44547604, -0.46847373],\n",
       "       [ 0.29608337, -0.58601459],\n",
       "       [ 0.35360413, -0.56516242],\n",
       "       [ 0.40169955, -0.54465765],\n",
       "       [ 0.06550684, -0.68373785],\n",
       "       [ 0.20092498, -0.66737988],\n",
       "       [ 0.21595174, -0.67328585],\n",
       "       [ 0.29940223, -0.65168518],\n",
       "       [ 0.00196003, -0.72727009],\n",
       "       [-0.04577728, -0.7359514 ],\n",
       "       [ 0.36126385, -0.65437522],\n",
       "       [ 0.0306476 , -0.75695558],\n",
       "       [-0.12492295, -0.7574443 ],\n",
       "       [-0.08711673, -0.77288353],\n",
       "       [-0.10322634, -0.78108726],\n",
       "       [ 0.05489187, -0.79608959],\n",
       "       [-0.05590985, -0.80614433],\n",
       "       [-0.374073  , -0.72766124],\n",
       "       [-0.21539255, -0.79978653],\n",
       "       [-0.18479272, -0.81776471],\n",
       "       [-0.0181728 , -0.84829021],\n",
       "       [ 0.03240804, -0.85797401],\n",
       "       [-0.38312482, -0.77963597],\n",
       "       [-0.24599435, -0.84365569],\n",
       "       [-0.38148984, -0.80286298],\n",
       "       [-0.43136009, -0.78874033],\n",
       "       [-0.36533767, -0.832451  ],\n",
       "       [-0.56386563, -0.72592653],\n",
       "       [-0.50025716, -0.78315268],\n",
       "       [-0.45913827, -0.8195444 ],\n",
       "       [-0.45345073, -0.83422005],\n",
       "       [-0.55047791, -0.78600157],\n",
       "       [-0.63697619, -0.73114537],\n",
       "       [-0.76797787, -0.60845219],\n",
       "       [-0.82322609, -0.54972613],\n",
       "       [-0.85188121, -0.52373506],\n",
       "       [ 0.        ,  0.        ],\n",
       "       [ 0.        ,  0.        ],\n",
       "       [ 0.        ,  0.        ],\n",
       "       [ 0.        ,  0.        ],\n",
       "       [ 0.        ,  0.        ],\n",
       "       [ 0.        ,  0.        ],\n",
       "       [ 0.        ,  0.        ],\n",
       "       [ 0.        ,  0.        ],\n",
       "       [ 0.        ,  0.        ],\n",
       "       [ 0.        ,  0.        ],\n",
       "       [ 0.        ,  0.        ],\n",
       "       [ 0.        ,  0.        ],\n",
       "       [ 0.        ,  0.        ],\n",
       "       [ 0.        ,  0.        ],\n",
       "       [ 0.        ,  0.        ],\n",
       "       [ 0.        ,  0.        ],\n",
       "       [ 0.        ,  0.        ],\n",
       "       [ 0.        ,  0.        ],\n",
       "       [ 0.        ,  0.        ],\n",
       "       [ 0.        ,  0.        ],\n",
       "       [ 0.        ,  0.        ],\n",
       "       [ 0.        ,  0.        ],\n",
       "       [ 0.        ,  0.        ],\n",
       "       [ 0.        ,  0.        ],\n",
       "       [ 0.        ,  0.        ],\n",
       "       [ 0.        ,  0.        ],\n",
       "       [ 0.        ,  0.        ],\n",
       "       [ 0.        ,  0.        ],\n",
       "       [ 0.        ,  0.        ],\n",
       "       [ 0.        ,  0.        ],\n",
       "       [ 0.        ,  0.        ],\n",
       "       [ 0.        ,  0.        ],\n",
       "       [ 0.        ,  0.        ],\n",
       "       [ 0.        ,  0.        ],\n",
       "       [ 0.        ,  0.        ],\n",
       "       [ 0.        ,  0.        ],\n",
       "       [ 0.        ,  0.        ],\n",
       "       [ 0.        ,  0.        ],\n",
       "       [ 0.        ,  0.        ],\n",
       "       [ 0.        ,  0.        ],\n",
       "       [ 0.        ,  0.        ],\n",
       "       [ 0.        ,  0.        ],\n",
       "       [ 0.        ,  0.        ],\n",
       "       [ 0.        ,  0.        ],\n",
       "       [ 0.        ,  0.        ],\n",
       "       [ 0.        ,  0.        ],\n",
       "       [ 0.        ,  0.        ],\n",
       "       [ 0.        ,  0.        ],\n",
       "       [ 0.        ,  0.        ],\n",
       "       [ 0.        ,  0.        ],\n",
       "       [ 0.        ,  0.        ],\n",
       "       [ 0.        ,  0.        ],\n",
       "       [ 0.        ,  0.        ],\n",
       "       [ 0.        ,  0.        ],\n",
       "       [ 0.        ,  0.        ],\n",
       "       [ 0.        ,  0.        ],\n",
       "       [ 0.        ,  0.        ],\n",
       "       [ 0.        ,  0.        ],\n",
       "       [ 0.        ,  0.        ],\n",
       "       [ 0.        ,  0.        ],\n",
       "       [ 0.        ,  0.        ],\n",
       "       [ 0.        ,  0.        ],\n",
       "       [ 0.        ,  0.        ],\n",
       "       [ 0.        ,  0.        ],\n",
       "       [ 0.        ,  0.        ],\n",
       "       [ 0.        ,  0.        ],\n",
       "       [ 0.        ,  0.        ],\n",
       "       [ 0.        ,  0.        ],\n",
       "       [ 0.        ,  0.        ],\n",
       "       [ 0.        ,  0.        ],\n",
       "       [ 0.        ,  0.        ],\n",
       "       [ 0.        ,  0.        ],\n",
       "       [ 0.        ,  0.        ],\n",
       "       [ 0.        ,  0.        ],\n",
       "       [ 0.        ,  0.        ],\n",
       "       [ 0.        ,  0.        ],\n",
       "       [ 0.        ,  0.        ],\n",
       "       [ 0.        ,  0.        ],\n",
       "       [ 0.        ,  0.        ],\n",
       "       [ 0.        ,  0.        ],\n",
       "       [ 0.        ,  0.        ],\n",
       "       [ 0.        ,  0.        ],\n",
       "       [ 0.        ,  0.        ],\n",
       "       [ 0.        ,  0.        ],\n",
       "       [ 0.        ,  0.        ],\n",
       "       [ 0.        ,  0.        ],\n",
       "       [ 0.        ,  0.        ],\n",
       "       [ 0.        ,  0.        ],\n",
       "       [ 0.        ,  0.        ],\n",
       "       [ 0.        ,  0.        ],\n",
       "       [ 0.        ,  0.        ],\n",
       "       [ 0.        ,  0.        ],\n",
       "       [ 0.        ,  0.        ],\n",
       "       [ 0.        ,  0.        ],\n",
       "       [ 0.        ,  0.        ],\n",
       "       [ 0.        ,  0.        ],\n",
       "       [ 0.        ,  0.        ],\n",
       "       [ 0.        ,  0.        ],\n",
       "       [ 0.        ,  0.        ],\n",
       "       [ 0.        ,  0.        ]])"
      ]
     },
     "execution_count": 16,
     "metadata": {},
     "output_type": "execute_result"
    }
   ],
   "source": [
    "X"
   ]
  },
  {
   "cell_type": "code",
   "execution_count": 17,
   "metadata": {},
   "outputs": [],
   "source": [
    "y[ix] = 0"
   ]
  },
  {
   "cell_type": "code",
   "execution_count": 18,
   "metadata": {},
   "outputs": [
    {
     "data": {
      "text/plain": [
       "array([0., 0., 0., 0., 0., 0., 0., 0., 0., 0., 0., 0., 0., 0., 0., 0., 0.,\n",
       "       0., 0., 0., 0., 0., 0., 0., 0., 0., 0., 0., 0., 0., 0., 0., 0., 0.,\n",
       "       0., 0., 0., 0., 0., 0., 0., 0., 0., 0., 0., 0., 0., 0., 0., 0., 0.,\n",
       "       0., 0., 0., 0., 0., 0., 0., 0., 0., 0., 0., 0., 0., 0., 0., 0., 0.,\n",
       "       0., 0., 0., 0., 0., 0., 0., 0., 0., 0., 0., 0., 0., 0., 0., 0., 0.,\n",
       "       0., 0., 0., 0., 0., 0., 0., 0., 0., 0., 0., 0., 0., 0., 0., 0., 0.,\n",
       "       0., 0., 0., 0., 0., 0., 0., 0., 0., 0., 0., 0., 0., 0., 0., 0., 0.,\n",
       "       0., 0., 0., 0., 0., 0., 0., 0., 0., 0., 0., 0., 0., 0., 0., 0., 0.,\n",
       "       0., 0., 0., 0., 0., 0., 0., 0., 0., 0., 0., 0., 0., 0., 0., 0., 0.,\n",
       "       0., 0., 0., 0., 0., 0., 0., 0., 0., 0., 0., 0., 0., 0., 0., 0., 0.,\n",
       "       0., 0., 0., 0., 0., 0., 0., 0., 0., 0., 0., 0., 0., 0., 0., 0., 0.,\n",
       "       0., 0., 0., 0., 0., 0., 0., 0., 0., 0., 0., 0., 0.])"
      ]
     },
     "execution_count": 18,
     "metadata": {},
     "output_type": "execute_result"
    }
   ],
   "source": [
    "y"
   ]
  },
  {
   "cell_type": "code",
   "execution_count": 19,
   "metadata": {},
   "outputs": [],
   "source": [
    "for j in range(K):\n",
    "    ix = range(N * j, N * (j + 1))\n",
    "    r = np.linspace(0, 1, N)  # radius\n",
    "    t = np.linspace(j * 4, (j + 1) * 4, N) + np.random.randn(N) * 0.2\n",
    "    X[ix] = np.c_[r * np.sin(t), r * np.cos(t)]\n",
    "    y[ix] = j"
   ]
  },
  {
   "cell_type": "code",
   "execution_count": 20,
   "metadata": {},
   "outputs": [],
   "source": [
    "# for j in range(K): Loops through each class label j from 0 to K-1.\n",
    "# ix = range(N * j, N * (j + 1)): Calculates the indices ix for the current class. This selects a contiguous block of N rows in the data matrix X for the current class.\n",
    "# r = np.linspace(0, 1, N): Generates N evenly spaced values for the radius r between 0 and 1.\n",
    "# t = np.linspace(j * 4, (j + 1) * 4, N) + np.random.randn(N) * 0.2: Generates N evenly spaced values for the angle t between j*4 and (j+1)*4 radians, and adds Gaussian noise to simulate irregularities.\n",
    "# X[ix] = np.c_[r * np.sin(t), r * np.cos(t)]: Calculates the x and y coordinates for the current class using the parametric equations for a circle (r * np.sin(t) and r * np.cos(t)), and assigns them to the corresponding rows in the data matrix X.\n",
    "# y[ix] = j: Assigns the class label j to the corresponding rows in the label vector y."
   ]
  },
  {
   "cell_type": "code",
   "execution_count": 21,
   "metadata": {},
   "outputs": [],
   "source": [
    "def create_dataset(N, K=2):\n",
    "    N = 100  # number of points per class\n",
    "    D = 2\n",
    "    X = np.zeros((N * K, D))  # data matrix (each row = single example)\n",
    "    y = np.zeros(N * K)  # class labels\n",
    "\n",
    "    for j in range(K):\n",
    "        ix = range(N * j, N * (j + 1))\n",
    "        r = np.linspace(0, 1, N)  # radius\n",
    "        t = np.linspace(j * 4, (j + 1) * 4, N) + np.random.randn(N) * 0.2\n",
    "        X[ix] = np.c_[r * np.sin(t), r * np.cos(t)]\n",
    "        y[ix] = j\n",
    "    # lets visualize the data:\n",
    "    plt.scatter(X[:, 0], X[:, 1], c=y, s=40, cmap=plt.cm.Spectral)\n",
    "    plt.show()\n",
    "\n",
    "    return X, y"
   ]
  },
  {
   "cell_type": "code",
   "execution_count": 22,
   "metadata": {},
   "outputs": [
    {
     "data": {
      "image/png": "[encoded data removed]",
      "text/plain": [
       "<Figure size 640x480 with 1 Axes>"
      ]
     },
     "metadata": {},
     "output_type": "display_data"
    }
   ],
   "source": [
    "# Generate dataset\n",
    "X, y = create_dataset(300, K=3)\n",
    "y = y.astype(int)"
   ]
  },
  {
   "cell_type": "code",
   "execution_count": 23,
   "metadata": {},
   "outputs": [
    {
     "data": {
      "text/plain": [
       "array([[ 0.00000000e+00,  0.00000000e+00],\n",
       "       [ 8.08163328e-05,  1.01006868e-02],\n",
       "       [-1.68620747e-03,  2.01315256e-02],\n",
       "       [ 7.71011645e-03,  2.93057631e-02],\n",
       "       [ 1.33428317e-02,  3.81373219e-02]])"
      ]
     },
     "execution_count": 23,
     "metadata": {},
     "output_type": "execute_result"
    }
   ],
   "source": [
    "X[:5]"
   ]
  },
  {
   "cell_type": "code",
   "execution_count": 24,
   "metadata": {},
   "outputs": [
    {
     "data": {
      "text/plain": [
       "array([0, 0, 0, 0, 0])"
      ]
     },
     "execution_count": 24,
     "metadata": {},
     "output_type": "execute_result"
    }
   ],
   "source": [
    "y[:5]"
   ]
  },
  {
   "cell_type": "code",
   "execution_count": 25,
   "metadata": {},
   "outputs": [],
   "source": [
    "m, n = X.shape # # m for #training examples and n for #features"
   ]
  },
  {
   "cell_type": "code",
   "execution_count": 26,
   "metadata": {},
   "outputs": [],
   "source": [
    "lambd = 1e-3    # # regularization term lambd (lambda is reserved keyword)\n",
    "learning_rate = 0.1"
   ]
  },
  {
   "cell_type": "code",
   "execution_count": 27,
   "metadata": {},
   "outputs": [],
   "source": [
    "h1 = 25  # # Define size of first hidden-layer and second hidden layer (output layer)\n",
    "h2 = len(np.unique(y))"
   ]
  },
  {
   "cell_type": "code",
   "execution_count": 28,
   "metadata": {},
   "outputs": [],
   "source": [
    " # Kaiming weights\n",
    "w = np.random.randn(n, h1) * np.sqrt(2.0 / n) # feature x hiddenlayer= 2x25\n",
    "b = np.zeros((1, h1))"
   ]
  },
  {
   "cell_type": "code",
   "execution_count": 29,
   "metadata": {},
   "outputs": [
    {
     "data": {
      "text/plain": [
       "array([[ 0.85088738, -1.86421497, -2.28731997,  0.03645557,  0.23136093,\n",
       "        -0.39127911,  0.16637545,  1.15769675,  0.88734387, -0.29540472,\n",
       "        -0.47688555, -0.18374737,  0.14830355, -0.76913144,  0.50142537,\n",
       "         0.50125876,  0.33813597, -0.20235151,  0.70726928, -1.04378113,\n",
       "         0.35378987, -0.84402499,  1.48418607, -0.39377252,  0.27878715],\n",
       "       [-1.1148157 , -0.05918573, -0.28478155,  0.4013214 , -0.42911703,\n",
       "         0.35100596, -0.93365826, -0.9621852 ,  0.10977135, -0.9396172 ,\n",
       "        -0.664149  ,  0.84759263,  0.78859894,  1.75137056, -0.62058909,\n",
       "        -0.15200187, -0.88120465, -0.0113814 , -0.37475877, -0.54615097,\n",
       "         1.98424079,  1.01481358, -1.45975665, -0.93634597,  0.88022587]])"
      ]
     },
     "execution_count": 29,
     "metadata": {},
     "output_type": "execute_result"
    }
   ],
   "source": [
    "w"
   ]
  },
  {
   "cell_type": "code",
   "execution_count": 30,
   "metadata": {},
   "outputs": [
    {
     "data": {
      "text/plain": [
       "array([[0., 0., 0., 0., 0., 0., 0., 0., 0., 0., 0., 0., 0., 0., 0., 0.,\n",
       "        0., 0., 0., 0., 0., 0., 0., 0., 0.]])"
      ]
     },
     "execution_count": 30,
     "metadata": {},
     "output_type": "execute_result"
    }
   ],
   "source": [
    "b"
   ]
  },
  {
   "cell_type": "code",
   "execution_count": 31,
   "metadata": {},
   "outputs": [],
   "source": [
    "w2 = np.random.randn(h1, h2) * np.sqrt(2.0 / h1) # hiddenlayer x output layer = 25 x 3\n",
    "b2 = np.zeros((1, h2))"
   ]
  },
  {
   "cell_type": "code",
   "execution_count": 32,
   "metadata": {},
   "outputs": [],
   "source": [
    "# pack parameters into a dictionary\n",
    "parameters = {}"
   ]
  },
  {
   "cell_type": "code",
   "execution_count": 33,
   "metadata": {},
   "outputs": [],
   "source": [
    "# Unpack from parameters\n",
    "\n",
    "parameters['w1'] = w\n",
    "\n",
    "parameters[\"b1\"] = b"
   ]
  },
  {
   "cell_type": "code",
   "execution_count": 34,
   "metadata": {},
   "outputs": [],
   "source": [
    "# forward prop\n",
    "a0 = X\n",
    "z1 = np.dot(a0, w) + b"
   ]
  },
  {
   "cell_type": "code",
   "execution_count": 35,
   "metadata": {},
   "outputs": [
    {
     "data": {
      "text/plain": [
       "(300, 2)"
      ]
     },
     "execution_count": 35,
     "metadata": {},
     "output_type": "execute_result"
    }
   ],
   "source": [
    "X.shape"
   ]
  },
  {
   "cell_type": "code",
   "execution_count": 36,
   "metadata": {},
   "outputs": [
    {
     "data": {
      "text/plain": [
       "(2, 25)"
      ]
     },
     "execution_count": 36,
     "metadata": {},
     "output_type": "execute_result"
    }
   ],
   "source": [
    "w.shape"
   ]
  },
  {
   "cell_type": "code",
   "execution_count": 37,
   "metadata": {},
   "outputs": [
    {
     "data": {
      "text/plain": [
       "(300, 25)"
      ]
     },
     "execution_count": 37,
     "metadata": {},
     "output_type": "execute_result"
    }
   ],
   "source": [
    "z1.shape"
   ]
  },
  {
   "cell_type": "code",
   "execution_count": 38,
   "metadata": {},
   "outputs": [
    {
     "data": {
      "text/plain": [
       "array([[ 0.00000000e+00,  0.00000000e+00,  0.00000000e+00, ...,\n",
       "         0.00000000e+00,  0.00000000e+00,  0.00000000e+00],\n",
       "       [-1.11916386e-02, -7.48475553e-04, -3.06134204e-03, ...,\n",
       "        -1.46245983e-02, -9.48956059e-03,  8.91341638e-03],\n",
       "       [-2.38777135e-02,  1.95195412e-03, -1.87619105e-03, ...,\n",
       "        -3.18897741e-02, -1.81860907e-02,  1.72501967e-02],\n",
       "       ...,\n",
       "       [-1.31461456e+00,  1.44896389e+00,  1.65644074e+00, ...,\n",
       "        -2.01569683e+00, -2.22487361e-01,  2.81841184e-01],\n",
       "       [-1.37466384e+00,  8.52717073e-01,  8.63143764e-01, ...,\n",
       "        -1.97939718e+00, -6.17207101e-01,  6.24519150e-01],\n",
       "       [-1.38326074e+00,  8.19066794e-01,  8.17404921e-01, ...,\n",
       "        -1.98422143e+00, -6.43697500e-01,  6.47833162e-01]],\n",
       "      shape=(300, 25))"
      ]
     },
     "execution_count": 38,
     "metadata": {},
     "output_type": "execute_result"
    }
   ],
   "source": [
    "z1"
   ]
  },
  {
   "cell_type": "code",
   "execution_count": 39,
   "metadata": {},
   "outputs": [],
   "source": [
    "# apply nonlinearity (relu)\n",
    "a1 = np.maximum(0, z1) # relu\n",
    "z2 = np.dot(a1, w2) + b2"
   ]
  },
  {
   "cell_type": "code",
   "execution_count": 40,
   "metadata": {},
   "outputs": [
    {
     "data": {
      "text/plain": [
       "array([[0.        , 0.        , 0.        , ..., 0.        , 0.        ,\n",
       "        0.        ],\n",
       "       [0.        , 0.        , 0.        , ..., 0.        , 0.        ,\n",
       "        0.00891342],\n",
       "       [0.        , 0.00195195, 0.        , ..., 0.        , 0.        ,\n",
       "        0.0172502 ],\n",
       "       ...,\n",
       "       [0.        , 1.44896389, 1.65644074, ..., 0.        , 0.        ,\n",
       "        0.28184118],\n",
       "       [0.        , 0.85271707, 0.86314376, ..., 0.        , 0.        ,\n",
       "        0.62451915],\n",
       "       [0.        , 0.81906679, 0.81740492, ..., 0.        , 0.        ,\n",
       "        0.64783316]], shape=(300, 25))"
      ]
     },
     "execution_count": 40,
     "metadata": {},
     "output_type": "execute_result"
    }
   ],
   "source": [
    "a1"
   ]
  },
  {
   "cell_type": "code",
   "execution_count": 41,
   "metadata": {},
   "outputs": [
    {
     "data": {
      "text/plain": [
       "(300, 25)"
      ]
     },
     "execution_count": 41,
     "metadata": {},
     "output_type": "execute_result"
    }
   ],
   "source": [
    "a1.shape"
   ]
  },
  {
   "cell_type": "code",
   "execution_count": 42,
   "metadata": {},
   "outputs": [
    {
     "data": {
      "text/plain": [
       "(25, 3)"
      ]
     },
     "execution_count": 42,
     "metadata": {},
     "output_type": "execute_result"
    }
   ],
   "source": [
    "w2.shape"
   ]
  },
  {
   "cell_type": "code",
   "execution_count": 43,
   "metadata": {},
   "outputs": [
    {
     "data": {
      "text/plain": [
       "(1, 3)"
      ]
     },
     "execution_count": 43,
     "metadata": {},
     "output_type": "execute_result"
    }
   ],
   "source": [
    "b2.shape"
   ]
  },
  {
   "cell_type": "code",
   "execution_count": 44,
   "metadata": {},
   "outputs": [
    {
     "data": {
      "text/plain": [
       "(1, 25)"
      ]
     },
     "execution_count": 44,
     "metadata": {},
     "output_type": "execute_result"
    }
   ],
   "source": [
    "b.shape"
   ]
  },
  {
   "cell_type": "code",
   "execution_count": 45,
   "metadata": {},
   "outputs": [],
   "source": [
    " # softmax on the last layer\n",
    "scores = z2\n",
    "exp_scores = np.exp(scores)\n",
    "probs = exp_scores / np.sum(exp_scores, axis=1, keepdims=True)"
   ]
  },
  {
   "cell_type": "code",
   "execution_count": 46,
   "metadata": {},
   "outputs": [
    {
     "data": {
      "text/plain": [
       "array([[0.33333333, 0.33333333, 0.33333333],\n",
       "       [0.33473891, 0.33081483, 0.33444626],\n",
       "       [0.33604588, 0.32831517, 0.33563895],\n",
       "       [0.33699603, 0.32627111, 0.33673287],\n",
       "       [0.33786438, 0.32430245, 0.33783317],\n",
       "       [0.33781064, 0.32043898, 0.34175038],\n",
       "       [0.33952389, 0.32048427, 0.33999184],\n",
       "       [0.33979968, 0.3192887 , 0.34091162],\n",
       "       [0.34351078, 0.31419627, 0.34229295],\n",
       "       [0.34521334, 0.31145776, 0.3433289 ],\n",
       "       [0.34251035, 0.31343965, 0.34405   ],\n",
       "       [0.34321152, 0.31257632, 0.34421216],\n",
       "       [0.34443139, 0.31324148, 0.34232714],\n",
       "       [0.34516532, 0.30784426, 0.34699041],\n",
       "       [0.34605476, 0.30589239, 0.34805285],\n",
       "       [0.34684554, 0.30682183, 0.34633264],\n",
       "       [0.34959469, 0.29958822, 0.3508171 ],\n",
       "       [0.34861247, 0.30069027, 0.35069726],\n",
       "       [0.34984111, 0.30323994, 0.34691895],\n",
       "       [0.35052562, 0.3027349 , 0.34673948],\n",
       "       [0.35098772, 0.29620021, 0.35281206],\n",
       "       [0.35227672, 0.29729404, 0.35042924],\n",
       "       [0.35351444, 0.29727061, 0.34921495],\n",
       "       [0.35386142, 0.29716701, 0.34897157],\n",
       "       [0.35451649, 0.29652   , 0.34896351],\n",
       "       [0.35546461, 0.29475305, 0.34978234],\n",
       "       [0.356425  , 0.29288281, 0.35069219],\n",
       "       [0.36089619, 0.29167187, 0.34743194],\n",
       "       [0.35821334, 0.28952435, 0.35226232],\n",
       "       [0.35818824, 0.28981419, 0.35199756],\n",
       "       [0.35929009, 0.28847493, 0.35223497],\n",
       "       [0.36080296, 0.28485846, 0.35433858],\n",
       "       [0.36519765, 0.28441362, 0.35038873],\n",
       "       [0.37189285, 0.27973245, 0.34837471],\n",
       "       [0.37162241, 0.28094468, 0.34743291],\n",
       "       [0.37403408, 0.27714192, 0.348824  ],\n",
       "       [0.37387274, 0.26673783, 0.35938944],\n",
       "       [0.37692295, 0.27219053, 0.35088653],\n",
       "       [0.3778466 , 0.27144437, 0.35070903],\n",
       "       [0.37805591, 0.27264251, 0.34930158],\n",
       "       [0.37530572, 0.27250888, 0.3521854 ],\n",
       "       [0.38076078, 0.25942977, 0.35980945],\n",
       "       [0.37937638, 0.25241168, 0.36821194],\n",
       "       [0.38407899, 0.26200794, 0.35391307],\n",
       "       [0.38547165, 0.25913554, 0.35539281],\n",
       "       [0.38707146, 0.25577806, 0.35715048],\n",
       "       [0.38361857, 0.24731713, 0.3690643 ],\n",
       "       [0.386104  , 0.24318706, 0.37070894],\n",
       "       [0.38779539, 0.24133467, 0.37086994],\n",
       "       [0.39290258, 0.23950365, 0.36759377],\n",
       "       [0.39507391, 0.23809828, 0.36682781],\n",
       "       [0.39253463, 0.23599948, 0.37146589],\n",
       "       [0.39863562, 0.23815386, 0.36321053],\n",
       "       [0.39944235, 0.23510585, 0.3654518 ],\n",
       "       [0.39328401, 0.23128043, 0.37543556],\n",
       "       [0.40286819, 0.23851534, 0.35861647],\n",
       "       [0.40409736, 0.23732602, 0.35857662],\n",
       "       [0.40464928, 0.23023062, 0.3651201 ],\n",
       "       [0.40654533, 0.23488761, 0.35856705],\n",
       "       [0.40599738, 0.25136148, 0.34264114],\n",
       "       [0.40888805, 0.22978916, 0.36132279],\n",
       "       [0.40990945, 0.22656046, 0.36353009],\n",
       "       [0.41110564, 0.23498537, 0.35390899],\n",
       "       [0.41181762, 0.23730631, 0.35087607],\n",
       "       [0.41191019, 0.24194025, 0.34614956],\n",
       "       [0.4132345 , 0.24098387, 0.34578163],\n",
       "       [0.41576116, 0.23128057, 0.35295828],\n",
       "       [0.41722395, 0.22773245, 0.3550436 ],\n",
       "       [0.41543265, 0.2459785 , 0.33858885],\n",
       "       [0.41818222, 0.23425711, 0.34756066],\n",
       "       [0.41947752, 0.23535075, 0.34517172],\n",
       "       [0.42214508, 0.22128067, 0.35657425],\n",
       "       [0.40800561, 0.24298096, 0.34901343],\n",
       "       [0.42305032, 0.23117669, 0.34577299],\n",
       "       [0.4242209 , 0.2297571 , 0.346022  ],\n",
       "       [0.36319579, 0.2418821 , 0.39492211],\n",
       "       [0.42466082, 0.23778695, 0.33755224],\n",
       "       [0.4168161 , 0.2377413 , 0.3454426 ],\n",
       "       [0.33779537, 0.23972191, 0.42248273],\n",
       "       [0.36673909, 0.23740168, 0.39585923],\n",
       "       [0.29933811, 0.23963474, 0.46102714],\n",
       "       [0.4321706 , 0.22787893, 0.33995047],\n",
       "       [0.38483009, 0.23334616, 0.38182375],\n",
       "       [0.33118058, 0.23452094, 0.43429848],\n",
       "       [0.21846226, 0.22850962, 0.55302812],\n",
       "       [0.34278784, 0.23196434, 0.42524782],\n",
       "       [0.31348867, 0.23179825, 0.45471308],\n",
       "       [0.29093695, 0.23231112, 0.47675194],\n",
       "       [0.2104479 , 0.22307739, 0.56647471],\n",
       "       [0.22732022, 0.22681193, 0.54586785],\n",
       "       [0.29078776, 0.22892992, 0.48028232],\n",
       "       [0.25730912, 0.23008051, 0.51261038],\n",
       "       [0.18274932, 0.21571158, 0.6015391 ],\n",
       "       [0.22777901, 0.22361915, 0.54860184],\n",
       "       [0.19718248, 0.21615498, 0.58666254],\n",
       "       [0.1928715 , 0.21536743, 0.59176107],\n",
       "       [0.201116  , 0.21258203, 0.58630197],\n",
       "       [0.16758566, 0.20293966, 0.62947468],\n",
       "       [0.16343378, 0.19902441, 0.63754181],\n",
       "       [0.18980719, 0.20972444, 0.60046837],\n",
       "       [0.33333333, 0.33333333, 0.33333333],\n",
       "       [0.331496  , 0.33219009, 0.33631391],\n",
       "       [0.32973667, 0.33108731, 0.33917602],\n",
       "       [0.3299158 , 0.33000949, 0.34007471],\n",
       "       [0.32740843, 0.32908407, 0.3435075 ],\n",
       "       [0.32491173, 0.32802244, 0.34706583],\n",
       "       [0.321936  , 0.32613714, 0.35192686],\n",
       "       [0.32068496, 0.32530929, 0.35400575],\n",
       "       [0.31865832, 0.32108846, 0.36025322],\n",
       "       [0.31785317, 0.32345565, 0.35869118],\n",
       "       [0.31370985, 0.32082694, 0.36546321],\n",
       "       [0.31301682, 0.31640616, 0.37057702],\n",
       "       [0.31023357, 0.31847648, 0.37128995],\n",
       "       [0.30992917, 0.31080875, 0.37926208],\n",
       "       [0.31024648, 0.30246961, 0.3872839 ],\n",
       "       [0.30730116, 0.30288793, 0.38981091],\n",
       "       [0.30811599, 0.29333762, 0.3985464 ],\n",
       "       [0.30278323, 0.3020048 , 0.39521197],\n",
       "       [0.30333629, 0.29329326, 0.40337044],\n",
       "       [0.29893763, 0.29877673, 0.40228564],\n",
       "       [0.2965375 , 0.3006996 , 0.4027629 ],\n",
       "       [0.29530725, 0.29424735, 0.4104454 ],\n",
       "       [0.30308468, 0.27316636, 0.42374896],\n",
       "       [0.30038387, 0.27089874, 0.4287174 ],\n",
       "       [0.29350395, 0.275964  , 0.43053205],\n",
       "       [0.29230609, 0.27060697, 0.43708694],\n",
       "       [0.31431   , 0.2606365 , 0.4250535 ],\n",
       "       [0.29636033, 0.25930735, 0.44433232],\n",
       "       [0.29469713, 0.25665194, 0.44865094],\n",
       "       [0.28728424, 0.25693398, 0.45578178],\n",
       "       [0.30635746, 0.24949573, 0.44414682],\n",
       "       [0.29013925, 0.24857802, 0.46128273],\n",
       "       [0.29428512, 0.24456036, 0.46115452],\n",
       "       [0.28925565, 0.24266627, 0.46807809],\n",
       "       [0.30909927, 0.24016709, 0.45073364],\n",
       "       [0.30274923, 0.2367023 , 0.46054847],\n",
       "       [0.28537076, 0.23459332, 0.48003592],\n",
       "       [0.3210153 , 0.23636235, 0.44262235],\n",
       "       [0.2983323 , 0.2289059 , 0.4727618 ],\n",
       "       [0.30411963, 0.22759409, 0.46828628],\n",
       "       [0.32242799, 0.23025146, 0.44732055],\n",
       "       [0.30552887, 0.22341595, 0.47105518],\n",
       "       [0.34193572, 0.23137157, 0.42669271],\n",
       "       [0.34736747, 0.22964172, 0.42299081],\n",
       "       [0.32590195, 0.22295073, 0.45114731],\n",
       "       [0.32684529, 0.22120914, 0.45194558],\n",
       "       [0.37825097, 0.22752758, 0.39422145],\n",
       "       [0.31997896, 0.21480708, 0.46521396],\n",
       "       [0.35168623, 0.21945502, 0.42885876],\n",
       "       [0.37884663, 0.22118569, 0.39996768],\n",
       "       [0.39789268, 0.22088235, 0.38122497],\n",
       "       [0.39877531, 0.21862381, 0.38260088],\n",
       "       [0.35330995, 0.21139548, 0.43529457],\n",
       "       [0.39724158, 0.21738351, 0.38537491],\n",
       "       [0.37142638, 0.20963817, 0.41893545],\n",
       "       [0.3923987 , 0.21904787, 0.38855343],\n",
       "       [0.4045792 , 0.20946971, 0.38595109],\n",
       "       [0.39050974, 0.21877351, 0.39071675],\n",
       "       [0.40785089, 0.2053279 , 0.38682121],\n",
       "       [0.38155053, 0.23052743, 0.38792205],\n",
       "       [0.39624725, 0.20171854, 0.40203421],\n",
       "       [0.40882226, 0.20084388, 0.39033386],\n",
       "       [0.40822451, 0.19993035, 0.39184515],\n",
       "       [0.40471303, 0.20109618, 0.3941908 ],\n",
       "       [0.41043215, 0.19630277, 0.39326507],\n",
       "       [0.40455785, 0.19916199, 0.39628016],\n",
       "       [0.41169323, 0.19324588, 0.39506089],\n",
       "       [0.3908013 , 0.20930514, 0.39989356],\n",
       "       [0.38796513, 0.21440364, 0.39763123],\n",
       "       [0.39036134, 0.22217079, 0.38746787],\n",
       "       [0.4012642 , 0.19710012, 0.40163568],\n",
       "       [0.39248162, 0.20415134, 0.40336704],\n",
       "       [0.3947468 , 0.22639973, 0.37885347],\n",
       "       [0.39584172, 0.22471064, 0.37944764],\n",
       "       [0.39243641, 0.21226478, 0.39529881],\n",
       "       [0.39680167, 0.22318742, 0.38001091],\n",
       "       [0.39305492, 0.20043145, 0.40651363],\n",
       "       [0.3938243 , 0.20088102, 0.40529468],\n",
       "       [0.39858172, 0.22255633, 0.37886195],\n",
       "       [0.39997442, 0.21777901, 0.38224657],\n",
       "       [0.39554228, 0.19474478, 0.40971294],\n",
       "       [0.40091034, 0.21862132, 0.38046834],\n",
       "       [0.40306671, 0.21091615, 0.38601714],\n",
       "       [0.39955915, 0.20210399, 0.39833686],\n",
       "       [0.41225507, 0.21500065, 0.37274428],\n",
       "       [0.43116465, 0.20092721, 0.36790814],\n",
       "       [0.40477382, 0.21194086, 0.38328532],\n",
       "       [0.43078629, 0.20825557, 0.36095814],\n",
       "       [0.43371485, 0.2010258 , 0.36525935],\n",
       "       [0.40709831, 0.20703816, 0.38586353],\n",
       "       [0.40772493, 0.2072028 , 0.38507226],\n",
       "       [0.43616884, 0.20002796, 0.3638032 ],\n",
       "       [0.42989436, 0.20408474, 0.3660209 ],\n",
       "       [0.42552734, 0.20352246, 0.3709502 ],\n",
       "       [0.42349711, 0.20274525, 0.37375764],\n",
       "       [0.44161871, 0.18994664, 0.36843465],\n",
       "       [0.4428653 , 0.18592634, 0.37120836],\n",
       "       [0.44249837, 0.19283705, 0.36466458],\n",
       "       [0.43210587, 0.16915644, 0.39873769],\n",
       "       [0.44314775, 0.17579622, 0.38105603],\n",
       "       [0.33333333, 0.33333333, 0.33333333],\n",
       "       [0.33448653, 0.33170666, 0.33380681],\n",
       "       [0.33577922, 0.32963515, 0.33458563],\n",
       "       [0.33687479, 0.32753877, 0.33558645],\n",
       "       [0.33821075, 0.32599087, 0.33579839],\n",
       "       [0.33908595, 0.32304848, 0.33786557],\n",
       "       [0.34019349, 0.32152976, 0.33827674],\n",
       "       [0.34202548, 0.31881566, 0.33915885],\n",
       "       [0.34248327, 0.31741097, 0.34010575],\n",
       "       [0.34362023, 0.31539749, 0.34098229],\n",
       "       [0.34590173, 0.31271486, 0.34138341],\n",
       "       [0.34755693, 0.31249112, 0.33995194],\n",
       "       [0.34872589, 0.30894298, 0.34233113],\n",
       "       [0.34930684, 0.30664028, 0.34405288],\n",
       "       [0.35136296, 0.30551602, 0.34312101],\n",
       "       [0.35177532, 0.31058268, 0.337642  ],\n",
       "       [0.35301865, 0.30952437, 0.33745699],\n",
       "       [0.35518468, 0.30257938, 0.34223594],\n",
       "       [0.35547474, 0.30614784, 0.33837743],\n",
       "       [0.35775396, 0.29613048, 0.34611556],\n",
       "       [0.35908886, 0.29503962, 0.34587153],\n",
       "       [0.35919502, 0.30210157, 0.33870341],\n",
       "       [0.3609842 , 0.2889679 , 0.3500479 ],\n",
       "       [0.36165307, 0.29845349, 0.33989344],\n",
       "       [0.36368086, 0.29345777, 0.34286138],\n",
       "       [0.36400013, 0.29746555, 0.33853432],\n",
       "       [0.36453059, 0.2983661 , 0.33710331],\n",
       "       [0.36566401, 0.29725056, 0.33708543],\n",
       "       [0.36780916, 0.29259255, 0.33959829],\n",
       "       [0.36773951, 0.29548142, 0.33677907],\n",
       "       [0.36963182, 0.29241157, 0.33795661],\n",
       "       [0.36929411, 0.29324733, 0.33745855],\n",
       "       [0.33603032, 0.29312027, 0.3708494 ],\n",
       "       [0.36506758, 0.28998039, 0.34495203],\n",
       "       [0.33365517, 0.2908937 , 0.37545113],\n",
       "       [0.37245697, 0.28792409, 0.33961894],\n",
       "       [0.33681923, 0.28820829, 0.37497248],\n",
       "       [0.37867686, 0.28149634, 0.3398268 ],\n",
       "       [0.3763118 , 0.28428712, 0.33940108],\n",
       "       [0.38102294, 0.27927376, 0.3397033 ],\n",
       "       [0.3514073 , 0.28237214, 0.36622056],\n",
       "       [0.31567057, 0.28458162, 0.3997478 ],\n",
       "       [0.29005663, 0.28560103, 0.42434234],\n",
       "       [0.34472875, 0.27925984, 0.37601141],\n",
       "       [0.35250664, 0.27757093, 0.36992243],\n",
       "       [0.31209129, 0.28013932, 0.40776939],\n",
       "       [0.29705113, 0.28116909, 0.42177978],\n",
       "       [0.30390569, 0.27885041, 0.4172439 ],\n",
       "       [0.3047394 , 0.27747367, 0.41778693],\n",
       "       [0.24775581, 0.27258589, 0.4796583 ],\n",
       "       [0.37863529, 0.26907286, 0.35229185],\n",
       "       [0.28279628, 0.27560596, 0.44159777],\n",
       "       [0.27391512, 0.27261826, 0.45346662],\n",
       "       [0.25209749, 0.27018396, 0.47771854],\n",
       "       [0.26563264, 0.26884522, 0.46552213],\n",
       "       [0.25128405, 0.26784803, 0.48086792],\n",
       "       [0.23792618, 0.26462202, 0.4974518 ],\n",
       "       [0.28033095, 0.2695561 , 0.45011295],\n",
       "       [0.23070332, 0.25879352, 0.51050316],\n",
       "       [0.24161039, 0.26210892, 0.49628068],\n",
       "       [0.23600657, 0.26009731, 0.50389612],\n",
       "       [0.23490163, 0.25882915, 0.50626922],\n",
       "       [0.21081443, 0.24256161, 0.54662396],\n",
       "       [0.21160793, 0.24300808, 0.54538399],\n",
       "       [0.20743629, 0.23269878, 0.55986493],\n",
       "       [0.20466216, 0.23728362, 0.55805422],\n",
       "       [0.23456397, 0.25359016, 0.51184587],\n",
       "       [0.20349521, 0.22333038, 0.57317441],\n",
       "       [0.2020798 , 0.23476503, 0.56315516],\n",
       "       [0.20125076, 0.21705656, 0.58169268],\n",
       "       [0.2011332 , 0.20921814, 0.58964866],\n",
       "       [0.19935424, 0.20812005, 0.5925257 ],\n",
       "       [0.19694631, 0.18999693, 0.61305676],\n",
       "       [0.19505418, 0.19525222, 0.6096936 ],\n",
       "       [0.19721591, 0.16831093, 0.63447316],\n",
       "       [0.1948002 , 0.1622653 , 0.6429345 ],\n",
       "       [0.19270726, 0.15513407, 0.65215868],\n",
       "       [0.19548367, 0.14257602, 0.66194031],\n",
       "       [0.18886403, 0.15192858, 0.65920739],\n",
       "       [0.18694919, 0.14978044, 0.66327037],\n",
       "       [0.18207083, 0.17828334, 0.63964583],\n",
       "       [0.18313288, 0.14489107, 0.67197604],\n",
       "       [0.18297581, 0.13725317, 0.67977102],\n",
       "       [0.26059311, 0.13636797, 0.60303892],\n",
       "       [0.17564284, 0.15763422, 0.66672295],\n",
       "       [0.2257948 , 0.12631618, 0.64788903],\n",
       "       [0.18204135, 0.1246145 , 0.69334415],\n",
       "       [0.18131602, 0.12261254, 0.69607144],\n",
       "       [0.17069502, 0.13943871, 0.68986626],\n",
       "       [0.21189092, 0.11816415, 0.66994493],\n",
       "       [0.21988328, 0.11807875, 0.66203797],\n",
       "       [0.23890801, 0.12046029, 0.6406317 ],\n",
       "       [0.30265656, 0.13488225, 0.56246119],\n",
       "       [0.23800173, 0.11764759, 0.64435069],\n",
       "       [0.16681433, 0.11070541, 0.72248026],\n",
       "       [0.25518427, 0.11896553, 0.62585021],\n",
       "       [0.25583729, 0.11787612, 0.62628659],\n",
       "       [0.19437443, 0.10444266, 0.70118291],\n",
       "       [0.30194946, 0.12700554, 0.571045  ],\n",
       "       [0.30914779, 0.12769358, 0.56315864]])"
      ]
     },
     "execution_count": 46,
     "metadata": {},
     "output_type": "execute_result"
    }
   ],
   "source": [
    "probs # probability values for 3 classes(0,1,2) of each sample"
   ]
  },
  {
   "cell_type": "code",
   "execution_count": 47,
   "metadata": {},
   "outputs": [],
   "source": [
    "# cache values from forward pass to use for backward pass\n",
    "cache = {\"a0\": X, \"probs\": probs, \"a1\": a1}"
   ]
  },
  {
   "cell_type": "code",
   "execution_count": 48,
   "metadata": {},
   "outputs": [],
   "source": [
    "parameters['w2'] = w2\n",
    "parameters['b2'] = b2"
   ]
  },
  {
   "cell_type": "code",
   "execution_count": 49,
   "metadata": {},
   "outputs": [
    {
     "data": {
      "text/plain": [
       "array([0, 0, 0, 0, 0, 0, 0, 0, 0, 0, 0, 0, 0, 0, 0, 0, 0, 0, 0, 0, 0, 0,\n",
       "       0, 0, 0, 0, 0, 0, 0, 0, 0, 0, 0, 0, 0, 0, 0, 0, 0, 0, 0, 0, 0, 0,\n",
       "       0, 0, 0, 0, 0, 0, 0, 0, 0, 0, 0, 0, 0, 0, 0, 0, 0, 0, 0, 0, 0, 0,\n",
       "       0, 0, 0, 0, 0, 0, 0, 0, 0, 0, 0, 0, 0, 0, 0, 0, 0, 0, 0, 0, 0, 0,\n",
       "       0, 0, 0, 0, 0, 0, 0, 0, 0, 0, 0, 0, 1, 1, 1, 1, 1, 1, 1, 1, 1, 1,\n",
       "       1, 1, 1, 1, 1, 1, 1, 1, 1, 1, 1, 1, 1, 1, 1, 1, 1, 1, 1, 1, 1, 1,\n",
       "       1, 1, 1, 1, 1, 1, 1, 1, 1, 1, 1, 1, 1, 1, 1, 1, 1, 1, 1, 1, 1, 1,\n",
       "       1, 1, 1, 1, 1, 1, 1, 1, 1, 1, 1, 1, 1, 1, 1, 1, 1, 1, 1, 1, 1, 1,\n",
       "       1, 1, 1, 1, 1, 1, 1, 1, 1, 1, 1, 1, 1, 1, 1, 1, 1, 1, 1, 1, 1, 1,\n",
       "       1, 1, 2, 2, 2, 2, 2, 2, 2, 2, 2, 2, 2, 2, 2, 2, 2, 2, 2, 2, 2, 2,\n",
       "       2, 2, 2, 2, 2, 2, 2, 2, 2, 2, 2, 2, 2, 2, 2, 2, 2, 2, 2, 2, 2, 2,\n",
       "       2, 2, 2, 2, 2, 2, 2, 2, 2, 2, 2, 2, 2, 2, 2, 2, 2, 2, 2, 2, 2, 2,\n",
       "       2, 2, 2, 2, 2, 2, 2, 2, 2, 2, 2, 2, 2, 2, 2, 2, 2, 2, 2, 2, 2, 2,\n",
       "       2, 2, 2, 2, 2, 2, 2, 2, 2, 2, 2, 2, 2, 2])"
      ]
     },
     "execution_count": 49,
     "metadata": {},
     "output_type": "execute_result"
    }
   ],
   "source": [
    "y"
   ]
  },
  {
   "cell_type": "code",
   "execution_count": 50,
   "metadata": {},
   "outputs": [
    {
     "data": {
      "text/plain": [
       "array([  0,   1,   2,   3,   4,   5,   6,   7,   8,   9,  10,  11,  12,\n",
       "        13,  14,  15,  16,  17,  18,  19,  20,  21,  22,  23,  24,  25,\n",
       "        26,  27,  28,  29,  30,  31,  32,  33,  34,  35,  36,  37,  38,\n",
       "        39,  40,  41,  42,  43,  44,  45,  46,  47,  48,  49,  50,  51,\n",
       "        52,  53,  54,  55,  56,  57,  58,  59,  60,  61,  62,  63,  64,\n",
       "        65,  66,  67,  68,  69,  70,  71,  72,  73,  74,  75,  76,  77,\n",
       "        78,  79,  80,  81,  82,  83,  84,  85,  86,  87,  88,  89,  90,\n",
       "        91,  92,  93,  94,  95,  96,  97,  98,  99, 100, 101, 102, 103,\n",
       "       104, 105, 106, 107, 108, 109, 110, 111, 112, 113, 114, 115, 116,\n",
       "       117, 118, 119, 120, 121, 122, 123, 124, 125, 126, 127, 128, 129,\n",
       "       130, 131, 132, 133, 134, 135, 136, 137, 138, 139, 140, 141, 142,\n",
       "       143, 144, 145, 146, 147, 148, 149, 150, 151, 152, 153, 154, 155,\n",
       "       156, 157, 158, 159, 160, 161, 162, 163, 164, 165, 166, 167, 168,\n",
       "       169, 170, 171, 172, 173, 174, 175, 176, 177, 178, 179, 180, 181,\n",
       "       182, 183, 184, 185, 186, 187, 188, 189, 190, 191, 192, 193, 194,\n",
       "       195, 196, 197, 198, 199, 200, 201, 202, 203, 204, 205, 206, 207,\n",
       "       208, 209, 210, 211, 212, 213, 214, 215, 216, 217, 218, 219, 220,\n",
       "       221, 222, 223, 224, 225, 226, 227, 228, 229, 230, 231, 232, 233,\n",
       "       234, 235, 236, 237, 238, 239, 240, 241, 242, 243, 244, 245, 246,\n",
       "       247, 248, 249, 250, 251, 252, 253, 254, 255, 256, 257, 258, 259,\n",
       "       260, 261, 262, 263, 264, 265, 266, 267, 268, 269, 270, 271, 272,\n",
       "       273, 274, 275, 276, 277, 278, 279, 280, 281, 282, 283, 284, 285,\n",
       "       286, 287, 288, 289, 290, 291, 292, 293, 294, 295, 296, 297, 298,\n",
       "       299])"
      ]
     },
     "execution_count": 50,
     "metadata": {},
     "output_type": "execute_result"
    }
   ],
   "source": [
    "np.arange(m)"
   ]
  },
  {
   "cell_type": "code",
   "execution_count": 51,
   "metadata": {},
   "outputs": [
    {
     "data": {
      "text/plain": [
       "array([0.33333333, 0.33473891, 0.33604588, 0.33699603, 0.33786438,\n",
       "       0.33781064, 0.33952389, 0.33979968, 0.34351078, 0.34521334,\n",
       "       0.34251035, 0.34321152, 0.34443139, 0.34516532, 0.34605476,\n",
       "       0.34684554, 0.34959469, 0.34861247, 0.34984111, 0.35052562,\n",
       "       0.35098772, 0.35227672, 0.35351444, 0.35386142, 0.35451649,\n",
       "       0.35546461, 0.356425  , 0.36089619, 0.35821334, 0.35818824,\n",
       "       0.35929009, 0.36080296, 0.36519765, 0.37189285, 0.37162241,\n",
       "       0.37403408, 0.37387274, 0.37692295, 0.3778466 , 0.37805591,\n",
       "       0.37530572, 0.38076078, 0.37937638, 0.38407899, 0.38547165,\n",
       "       0.38707146, 0.38361857, 0.386104  , 0.38779539, 0.39290258,\n",
       "       0.39507391, 0.39253463, 0.39863562, 0.39944235, 0.39328401,\n",
       "       0.40286819, 0.40409736, 0.40464928, 0.40654533, 0.40599738,\n",
       "       0.40888805, 0.40990945, 0.41110564, 0.41181762, 0.41191019,\n",
       "       0.4132345 , 0.41576116, 0.41722395, 0.41543265, 0.41818222,\n",
       "       0.41947752, 0.42214508, 0.40800561, 0.42305032, 0.4242209 ,\n",
       "       0.36319579, 0.42466082, 0.4168161 , 0.33779537, 0.36673909,\n",
       "       0.29933811, 0.4321706 , 0.38483009, 0.33118058, 0.21846226,\n",
       "       0.34278784, 0.31348867, 0.29093695, 0.2104479 , 0.22732022,\n",
       "       0.29078776, 0.25730912, 0.18274932, 0.22777901, 0.19718248,\n",
       "       0.1928715 , 0.201116  , 0.16758566, 0.16343378, 0.18980719,\n",
       "       0.33333333, 0.33219009, 0.33108731, 0.33000949, 0.32908407,\n",
       "       0.32802244, 0.32613714, 0.32530929, 0.32108846, 0.32345565,\n",
       "       0.32082694, 0.31640616, 0.31847648, 0.31080875, 0.30246961,\n",
       "       0.30288793, 0.29333762, 0.3020048 , 0.29329326, 0.29877673,\n",
       "       0.3006996 , 0.29424735, 0.27316636, 0.27089874, 0.275964  ,\n",
       "       0.27060697, 0.2606365 , 0.25930735, 0.25665194, 0.25693398,\n",
       "       0.24949573, 0.24857802, 0.24456036, 0.24266627, 0.24016709,\n",
       "       0.2367023 , 0.23459332, 0.23636235, 0.2289059 , 0.22759409,\n",
       "       0.23025146, 0.22341595, 0.23137157, 0.22964172, 0.22295073,\n",
       "       0.22120914, 0.22752758, 0.21480708, 0.21945502, 0.22118569,\n",
       "       0.22088235, 0.21862381, 0.21139548, 0.21738351, 0.20963817,\n",
       "       0.21904787, 0.20946971, 0.21877351, 0.2053279 , 0.23052743,\n",
       "       0.20171854, 0.20084388, 0.19993035, 0.20109618, 0.19630277,\n",
       "       0.19916199, 0.19324588, 0.20930514, 0.21440364, 0.22217079,\n",
       "       0.19710012, 0.20415134, 0.22639973, 0.22471064, 0.21226478,\n",
       "       0.22318742, 0.20043145, 0.20088102, 0.22255633, 0.21777901,\n",
       "       0.19474478, 0.21862132, 0.21091615, 0.20210399, 0.21500065,\n",
       "       0.20092721, 0.21194086, 0.20825557, 0.2010258 , 0.20703816,\n",
       "       0.2072028 , 0.20002796, 0.20408474, 0.20352246, 0.20274525,\n",
       "       0.18994664, 0.18592634, 0.19283705, 0.16915644, 0.17579622,\n",
       "       0.33333333, 0.33380681, 0.33458563, 0.33558645, 0.33579839,\n",
       "       0.33786557, 0.33827674, 0.33915885, 0.34010575, 0.34098229,\n",
       "       0.34138341, 0.33995194, 0.34233113, 0.34405288, 0.34312101,\n",
       "       0.337642  , 0.33745699, 0.34223594, 0.33837743, 0.34611556,\n",
       "       0.34587153, 0.33870341, 0.3500479 , 0.33989344, 0.34286138,\n",
       "       0.33853432, 0.33710331, 0.33708543, 0.33959829, 0.33677907,\n",
       "       0.33795661, 0.33745855, 0.3708494 , 0.34495203, 0.37545113,\n",
       "       0.33961894, 0.37497248, 0.3398268 , 0.33940108, 0.3397033 ,\n",
       "       0.36622056, 0.3997478 , 0.42434234, 0.37601141, 0.36992243,\n",
       "       0.40776939, 0.42177978, 0.4172439 , 0.41778693, 0.4796583 ,\n",
       "       0.35229185, 0.44159777, 0.45346662, 0.47771854, 0.46552213,\n",
       "       0.48086792, 0.4974518 , 0.45011295, 0.51050316, 0.49628068,\n",
       "       0.50389612, 0.50626922, 0.54662396, 0.54538399, 0.55986493,\n",
       "       0.55805422, 0.51184587, 0.57317441, 0.56315516, 0.58169268,\n",
       "       0.58964866, 0.5925257 , 0.61305676, 0.6096936 , 0.63447316,\n",
       "       0.6429345 , 0.65215868, 0.66194031, 0.65920739, 0.66327037,\n",
       "       0.63964583, 0.67197604, 0.67977102, 0.60303892, 0.66672295,\n",
       "       0.64788903, 0.69334415, 0.69607144, 0.68986626, 0.66994493,\n",
       "       0.66203797, 0.6406317 , 0.56246119, 0.64435069, 0.72248026,\n",
       "       0.62585021, 0.62628659, 0.70118291, 0.571045  , 0.56315864])"
      ]
     },
     "execution_count": 51,
     "metadata": {},
     "output_type": "execute_result"
    }
   ],
   "source": [
    "probs[np.arange(m), y] # truth value (y>0,1,2 class) probabilites for 300 samples\n",
    "# this probability should be 1"
   ]
  },
  {
   "cell_type": "code",
   "execution_count": 52,
   "metadata": {},
   "outputs": [],
   "source": [
    "data_loss = np.sum(-np.log(probs[np.arange(m), y]) / m) # average"
   ]
  },
  {
   "cell_type": "code",
   "execution_count": 53,
   "metadata": {},
   "outputs": [],
   "source": [
    "\n",
    "# This line of code calculates the data loss (also known as the cross-entropy loss) for a classification model.\n",
    "# Breakdown:\n",
    "# probs[np.arange(m), y]: Selects the predicted probabilities for the correct class labels y from the probability matrix probs. The np.arange(m) part creates an array of indices from 0 to m-1, where m is the number of training examples.\n",
    "# -np.log(...): Calculates the negative logarithm of the predicted probabilities. This gives the cross-entropy loss for each example.\n",
    "# np.sum(...): Sums up the cross-entropy losses for all examples.\n",
    "# / m: Divides the total loss by the number of training examples m, giving the average loss per example.\n",
    "# Cross-Entropy Loss:\n",
    "# The cross-entropy loss measures the difference between the predicted probabilities and the true class labels. It is a common loss function used in classification problems."
   ]
  },
  {
   "cell_type": "code",
   "execution_count": 54,
   "metadata": {},
   "outputs": [
    {
     "data": {
      "text/plain": [
       "np.float64(1.0991470423839018)"
      ]
     },
     "execution_count": 54,
     "metadata": {},
     "output_type": "execute_result"
    }
   ],
   "source": [
    "data_loss"
   ]
  },
  {
   "cell_type": "code",
   "execution_count": 55,
   "metadata": {},
   "outputs": [],
   "source": [
    "reg_loss = 0.5 * lambd * np.sum(w * w) + 0.5 * lambd * np.sum(w2 * w2)"
   ]
  },
  {
   "cell_type": "code",
   "execution_count": 56,
   "metadata": {},
   "outputs": [
    {
     "data": {
      "text/plain": [
       "np.float64(0.021638089799604538)"
      ]
     },
     "execution_count": 56,
     "metadata": {},
     "output_type": "execute_result"
    }
   ],
   "source": [
    "reg_loss"
   ]
  },
  {
   "cell_type": "code",
   "execution_count": 57,
   "metadata": {},
   "outputs": [],
   "source": [
    "\n",
    "# This line of code calculates the regularization loss for a linear regression model with L2 regularization (also known as Ridge regression).\n",
    "# Breakdown:\n",
    "# 0.5 * lambd * np.sum(w * w): Calculates the L2 regularization term for the weights w. This term encourages the model to have small weights.\n",
    "# 0.5 * lambd * np.sum(w2 * w2): Calculates the L2 regularization term for the weights w2. This term encourages the model to have small weights.\n",
    "# L2 Regularization:\n",
    "# L2 regularization adds a penalty term to the loss function to discourage large weights. The penalty term is proportional to the square of the magnitude of the weights.\n",
    "# Purpose:\n",
    "# The purpose of L2 regularization is to:\n",
    "# Prevent overfitting by discouraging large weights\n",
    "# Encourage the model to have small weights, which can improve generalization\n",
    "# Hyperparameter:\n",
    "# lambd: The regularization strength. A larger value of lambd means stronger regularization"
   ]
  },
  {
   "cell_type": "code",
   "execution_count": 58,
   "metadata": {},
   "outputs": [],
   "source": [
    "# total cost J\n",
    "total_cost = data_loss + reg_loss"
   ]
  },
  {
   "cell_type": "code",
   "execution_count": 59,
   "metadata": {},
   "outputs": [],
   "source": [
    " # Unpack from parameters\n",
    "W2 = parameters[\"w2\"]\n",
    "W1 = parameters[\"w1\"]\n",
    "b2 = parameters[\"b2\"]\n",
    "b1 = parameters[\"b1\"]"
   ]
  },
  {
   "cell_type": "code",
   "execution_count": 60,
   "metadata": {},
   "outputs": [],
   "source": [
    "# Unpack from forward prop\n",
    "a0 = cache[\"a0\"]\n",
    "a1 = cache[\"a1\"]\n",
    "probs = cache[\"probs\"]"
   ]
  },
  {
   "cell_type": "code",
   "execution_count": 61,
   "metadata": {},
   "outputs": [],
   "source": [
    "dz2 = probs\n",
    "dz2[np.arange(m), y] -= 1 # prpbablity error = probablity - 1 ( whicch should be) get from output layer\n",
    "dz2 /= m  # normalize probablity error"
   ]
  },
  {
   "cell_type": "code",
   "execution_count": 62,
   "metadata": {},
   "outputs": [
    {
     "data": {
      "text/plain": [
       "array([[-0.00222222,  0.00111111,  0.00111111],\n",
       "       [-0.00221754,  0.00110272,  0.00111482],\n",
       "       [-0.00221318,  0.00109438,  0.0011188 ],\n",
       "       [-0.00221001,  0.00108757,  0.00112244],\n",
       "       [-0.00220712,  0.00108101,  0.00112611]])"
      ]
     },
     "execution_count": 62,
     "metadata": {},
     "output_type": "execute_result"
    }
   ],
   "source": [
    "dz2[:5]"
   ]
  },
  {
   "attachments": {
    "image.png": {
     "image/png": "[encoded data removed]"
    }
   },
   "cell_type": "markdown",
   "metadata": {},
   "source": [
    "![image.png](attachment:image.png)"
   ]
  },
  {
   "cell_type": "markdown",
   "metadata": {},
   "source": [
    "z2 = np.dot(a1, W2) + b2"
   ]
  },
  {
   "cell_type": "markdown",
   "metadata": {},
   "source": [
    "dz2 probability error"
   ]
  },
  {
   "cell_type": "code",
   "execution_count": 63,
   "metadata": {},
   "outputs": [],
   "source": [
    "# backprop through values dW2 and db2\n",
    "dW2 = np.dot(a1.T, dz2) + lambd * W2 # error wrt w2\n",
    "db2 = np.sum(dz2, axis=0, keepdims=True)"
   ]
  },
  {
   "cell_type": "code",
   "execution_count": 64,
   "metadata": {},
   "outputs": [],
   "source": [
    "# dW2 = np.dot(a1.T, dz2) + self.lambd * W2:\n",
    "# np.dot(a1.T, dz2): Computes the dot product of the transpose of the activations of the first layer (a1.T) and the error gradients of the second layer (dz2). This gives the gradient of the loss with respect to the weights (W2) without regularization.\n",
    "# self.lambd * W2: Adds L2 regularization to the weights, where self.lambd is the regularization strength.\n",
    "# db2 = np.sum(dz2, axis=0, keepdims=True):\n",
    "# np.sum(dz2, axis=0, keepdims=True): Computes the sum of the error gradients of the second layer (dz2) along the first axis (i.e., the batch axis). The keepdims=True argument ensures that the result has the same number of dimensions as the input.\n",
    "# Purpose:\n",
    "# These gradients are used to update the weights and biases of the second layer during training, using an optimization algorithm such as stochastic gradient descent (SGD)."
   ]
  },
  {
   "cell_type": "markdown",
   "metadata": {},
   "source": [
    "z1 = np.dot(X, w) + b"
   ]
  },
  {
   "cell_type": "markdown",
   "metadata": {},
   "source": [
    "z2 = np.dot(a1, W2) + b2"
   ]
  },
  {
   "cell_type": "code",
   "execution_count": 68,
   "metadata": {},
   "outputs": [],
   "source": [
    "# Back to the (only) hidden layer in this case\n",
    "dz1 = np.dot(dz2, W2.T)    # error from hidden layer\n",
    "dz1 = dz1 * (a1 > 0)  # ReLU derivative"
   ]
  },
  {
   "cell_type": "code",
   "execution_count": 66,
   "metadata": {},
   "outputs": [],
   "source": [
    "# dz1 = np.dot(dz2, W2.T):\n",
    "# Computes the dot product of the error gradients of the output layer (dz2) and the transpose of the weights of the output layer (W2.T). This gives the error gradients of the hidden layer (dz1) before applying the activation function derivative.\n",
    "# dz1 = dz1 * (a1 > 0):\n",
    "# Applies the derivative of the ReLU (Rectified Linear Unit) activation function to the error gradients of the hidden layer (dz1).\n",
    "# The ReLU derivative is 1 for positive inputs and 0 for negative inputs. This is implemented using the expression (a1 > 0), which creates a binary mask where positive values in a1 are set to 1 and negative values are set to 0."
   ]
  },
  {
   "cell_type": "markdown",
   "metadata": {},
   "source": [
    "z1 = np.dot(a0, w) + b"
   ]
  },
  {
   "cell_type": "code",
   "execution_count": null,
   "metadata": {},
   "outputs": [],
   "source": [
    "# backprop through values dW1, db1\n",
    "dW1 = np.dot(a0.T, dz1) + lambd * W1  # error wrt w1\n",
    "db1 = np.sum(dz1, axis=0, keepdims=True)"
   ]
  },
  {
   "cell_type": "code",
   "execution_count": 76,
   "metadata": {},
   "outputs": [],
   "source": [
    "# dW1 = np.dot(a0.T, dz1) + lambd * W1:\n",
    "# np.dot(a0.T, dz1): Computes the dot product of the transpose of the input activations (a0.T) and the error gradients of the first layer (dz1). This gives the gradient of the loss with respect to the weights (W1) without regularization.\n",
    "# lambd * W1: Adds L2 regularization to the weights, where lambd is the regularization strength.\n",
    "# db1 = np.sum(dz1, axis=0, keepdims=True):\n",
    "# np.sum(dz1, axis=0, keepdims=True): Computes the sum of the error gradients of the first layer (dz1) along the first axis (i.e., the batch axis). The keepdims=True argument ensures that the result has the same number of dimensions as the input.\n",
    "# Purpose:\n",
    "# These gradients are used to update the weights and biases of the first layer during training, using an optimization algorithm such as stochastic gradient descent (SGD)."
   ]
  },
  {
   "cell_type": "code",
   "execution_count": 70,
   "metadata": {},
   "outputs": [],
   "source": [
    "grads = {\"dW1\": dW1, \"dW2\": dW2, \"db1\": db1, \"db2\": db2}"
   ]
  },
  {
   "cell_type": "code",
   "execution_count": 72,
   "metadata": {},
   "outputs": [],
   "source": [
    "W2 = parameters[\"w2\"]\n",
    "W1 = parameters[\"w1\"]\n",
    "b2 = parameters[\"b2\"]\n",
    "b1 = parameters[\"b1\"]\n",
    "\n",
    "dW2 = grads[\"dW2\"]\n",
    "dW1 = grads[\"dW1\"]\n",
    "db2 = grads[\"db2\"]\n",
    "db1 = grads[\"db1\"]"
   ]
  },
  {
   "cell_type": "code",
   "execution_count": 73,
   "metadata": {},
   "outputs": [],
   "source": [
    "# Do gradient descent step\n",
    "W2 -= learning_rate * dW2\n",
    "W1 -= learning_rate * dW1\n",
    "b2 -= learning_rate * db2\n",
    "b1 -= learning_rate * db1"
   ]
  },
  {
   "cell_type": "code",
   "execution_count": 74,
   "metadata": {},
   "outputs": [],
   "source": [
    "# store back weights in parameters\n",
    "parameters = {\"w1\": W1, \"w2\": W2, \"b1\": b1, \"b2\": b2}"
   ]
  },
  {
   "cell_type": "code",
   "execution_count": 75,
   "metadata": {},
   "outputs": [
    {
     "data": {
      "text/plain": [
       "{'w1': array([[ 0.85006952, -1.86450396, -2.28748564,  0.03572601,  0.23097528,\n",
       "         -0.39089444,  0.16480417,  1.1590504 ,  0.88664389, -0.29569116,\n",
       "         -0.47677984, -0.18443772,  0.14810555, -0.76871158,  0.50053635,\n",
       "          0.50186516,  0.33865057, -0.20228088,  0.70535244, -1.0439194 ,\n",
       "          0.35292873, -0.8448278 ,  1.48334068, -0.39265982,  0.27810935],\n",
       "        [-1.11571521, -0.05748548, -0.28540371,  0.3995239 , -0.42814873,\n",
       "          0.34957447, -0.93400031, -0.96139826,  0.11121896, -0.93729116,\n",
       "         -0.6628625 ,  0.84792486,  0.78750937,  1.74917118, -0.62332698,\n",
       "         -0.15037397, -0.88105095, -0.01098522, -0.37972744, -0.5477643 ,\n",
       "          1.98409374,  1.01578273, -1.45996276, -0.93695379,  0.87616033]]),\n",
       " 'w2': array([[ 0.07972441, -0.15103624,  0.06151316],\n",
       "        [-0.24669654,  0.1021029 ,  0.25218981],\n",
       "        [-0.11192806, -0.2994931 ,  0.16636156],\n",
       "        [ 0.04235679, -0.26522575, -0.07219142],\n",
       "        [-0.4490856 , -0.32279099, -0.1361311 ],\n",
       "        [ 0.22356174, -0.10441948, -0.04921074],\n",
       "        [-0.22890385, -0.49008751,  0.23187493],\n",
       "        [ 0.12702253,  0.25512143, -0.12076811],\n",
       "        [-0.58294071, -0.17776716, -0.09040794],\n",
       "        [-0.40169294,  0.03985114, -0.04993841],\n",
       "        [-0.16788508,  0.11706003, -0.15012705],\n",
       "        [-0.39462414, -0.17840734, -0.06113495],\n",
       "        [-0.05426621, -0.26250675, -0.20634498],\n",
       "        [ 0.18195156, -0.26732888, -0.16560551],\n",
       "        [ 0.5569705 ,  0.00264847,  0.19067072],\n",
       "        [-0.09276608,  0.23662902,  0.06889759],\n",
       "        [ 0.17728579,  0.22670764,  0.0187823 ],\n",
       "        [ 0.01418685,  0.1129172 ,  0.00226324],\n",
       "        [ 0.60886078, -0.40814808,  0.05264777],\n",
       "        [-0.01779984, -0.45132956,  0.03805493],\n",
       "        [ 0.07834337,  0.24212867,  0.38593144],\n",
       "        [-0.40485491, -0.03177362,  0.07821327],\n",
       "        [-0.20260713, -0.29551947, -0.10503648],\n",
       "        [ 0.00730523,  0.02151824, -0.61957072],\n",
       "        [ 0.18047151, -0.72786395, -0.54673423]]),\n",
       " 'b1': array([[ 0.00150983,  0.0015125 , -0.00137505, -0.00331729, -0.00060419,\n",
       "         -0.00254617,  0.00268767, -0.00021124, -0.00280958, -0.00120453,\n",
       "         -0.00065632, -0.00047053, -0.00132376, -0.00343379,  0.00337727,\n",
       "         -0.00134626, -0.00054552,  0.00063872,  0.00521606, -0.00080837,\n",
       "         -0.00160597,  0.00124674,  0.00030617, -0.00220568, -0.00403969]]),\n",
       " 'b2': array([[ 8.46911116e-05,  8.51203675e-03, -8.59672786e-03]])}"
      ]
     },
     "execution_count": 75,
     "metadata": {},
     "output_type": "execute_result"
    }
   ],
   "source": [
    "parameters"
   ]
  },
  {
   "cell_type": "code",
   "execution_count": 77,
   "metadata": {},
   "outputs": [],
   "source": [
    "import numpy as np\n",
    "from utils import create_dataset, plot_contour\n",
    "\n",
    "\n",
    "class NeuralNetwork:\n",
    "    def __init__(self, X, y):\n",
    "        # m for #training examples and n for #features\n",
    "        self.m, self.n = X.shape\n",
    "\n",
    "        # regularization term lambd (lambda is reserved keyword)\n",
    "        self.lambd = 1e-3\n",
    "        self.learning_rate = 0.1\n",
    "\n",
    "        # Define size of first hidden-layer and second hidden layer (output layer)\n",
    "        self.h1 = 25\n",
    "        self.h2 = len(np.unique(y))\n",
    "\n",
    "    def init_kaiming_weights(self, l0, l1):\n",
    "        # Kaiming weights\n",
    "        w = np.random.randn(l0, l1) * np.sqrt(2.0 / l0)\n",
    "        b = np.zeros((1, l1))\n",
    "\n",
    "        return w, b\n",
    "\n",
    "    def forward_prop(self, X, parameters):\n",
    "        W2 = parameters[\"W2\"]\n",
    "        W1 = parameters[\"W1\"]\n",
    "        b2 = parameters[\"b2\"]\n",
    "        b1 = parameters[\"b1\"]\n",
    "\n",
    "        # forward prop\n",
    "        a0 = X\n",
    "        z1 = np.dot(a0, W1) + b1\n",
    "\n",
    "        # apply nonlinearity (relu)\n",
    "        a1 = np.maximum(0, z1)\n",
    "        z2 = np.dot(a1, W2) + b2\n",
    "\n",
    "        # softmax on the last layer\n",
    "        scores = z2\n",
    "        exp_scores = np.exp(scores)\n",
    "        probs = exp_scores / np.sum(exp_scores, axis=1, keepdims=True)\n",
    "\n",
    "        # cache values from forward pass to use for backward pass\n",
    "        cache = {\"a0\": X, \"probs\": probs, \"a1\": a1}\n",
    "\n",
    "        return cache, probs\n",
    "\n",
    "    def compute_cost(self, y, probs, parameters):\n",
    "        W2 = parameters[\"W2\"]\n",
    "        W1 = parameters[\"W1\"]\n",
    "\n",
    "        y = y.astype(int)\n",
    "        data_loss = np.sum(-np.log(probs[np.arange(self.m), y]) / self.m)\n",
    "        reg_loss = 0.5 * self.lambd * np.sum(W1 * W1) + 0.5 * self.lambd * np.sum(\n",
    "            W2 * W2\n",
    "        )\n",
    "\n",
    "        # total cost J\n",
    "        total_cost = data_loss + reg_loss\n",
    "\n",
    "        return total_cost\n",
    "\n",
    "    def back_prop(self, cache, parameters, y):\n",
    "        # Unpack from parameters\n",
    "        W2 = parameters[\"W2\"]\n",
    "        W1 = parameters[\"W1\"]\n",
    "        b2 = parameters[\"b2\"]\n",
    "        b1 = parameters[\"b1\"]\n",
    "\n",
    "        # Unpack from forward prop\n",
    "        a0 = cache[\"a0\"]\n",
    "        a1 = cache[\"a1\"]\n",
    "        probs = cache[\"probs\"]\n",
    "\n",
    "        dz2 = probs\n",
    "        dz2[np.arange(self.m), y] -= 1\n",
    "        dz2 /= self.m\n",
    "\n",
    "        # backprop through values dW2 and db2\n",
    "        dW2 = np.dot(a1.T, dz2) + self.lambd * W2\n",
    "        db2 = np.sum(dz2, axis=0, keepdims=True)\n",
    "\n",
    "        # Back to the (only) hidden layer in this case\n",
    "        dz1 = np.dot(dz2, W2.T)\n",
    "        dz1 = dz1 * (a1 > 0)\n",
    "\n",
    "        # backprop through values dW1, db1\n",
    "        dW1 = np.dot(a0.T, dz1) + self.lambd * W1\n",
    "        db1 = np.sum(dz1, axis=0, keepdims=True)\n",
    "\n",
    "        grads = {\"dW1\": dW1, \"dW2\": dW2, \"db1\": db1, \"db2\": db2}\n",
    "\n",
    "        return grads\n",
    "\n",
    "    def update_parameters(self, parameters, grads):\n",
    "        learning_rate = self.learning_rate\n",
    "\n",
    "        W2 = parameters[\"W2\"]\n",
    "        W1 = parameters[\"W1\"]\n",
    "        b2 = parameters[\"b2\"]\n",
    "        b1 = parameters[\"b1\"]\n",
    "\n",
    "        dW2 = grads[\"dW2\"]\n",
    "        dW1 = grads[\"dW1\"]\n",
    "        db2 = grads[\"db2\"]\n",
    "        db1 = grads[\"db1\"]\n",
    "\n",
    "        # Do gradient descent step\n",
    "        W2 -= learning_rate * dW2\n",
    "        W1 -= learning_rate * dW1\n",
    "        b2 -= learning_rate * db2\n",
    "        b1 -= learning_rate * db1\n",
    "\n",
    "        # store back weights in parameters\n",
    "        parameters = {\"W1\": W1, \"W2\": W2, \"b1\": b1, \"b2\": b2}\n",
    "\n",
    "        return parameters\n",
    "\n",
    "    def main(self, X, y, num_iter=10000):\n",
    "        # initialize our weights\n",
    "        W1, b1 = self.init_kaiming_weights(self.n, self.h1)\n",
    "        W2, b2 = self.init_kaiming_weights(self.h1, self.h2)\n",
    "\n",
    "        # pack parameters into a dictionary\n",
    "        parameters = {\"W1\": W1, \"W2\": W2, \"b1\": b1, \"b2\": b2}\n",
    "\n",
    "        # How many gradient descent updates we want to do\n",
    "        for it in range(num_iter + 1):\n",
    "\n",
    "            # forward prop\n",
    "            cache, probs = self.forward_prop(X, parameters)\n",
    "\n",
    "            # calculate cost\n",
    "            cost = self.compute_cost(y, probs, parameters)\n",
    "\n",
    "            # print cost sometimes\n",
    "            if it % 2500 == 0:\n",
    "                print(f\"At iteration {it} we have a cost of {cost}\")\n",
    "\n",
    "            # back prop\n",
    "            grads = self.back_prop(cache, parameters, y)\n",
    "\n",
    "            # update parameters\n",
    "            parameters = self.update_parameters(parameters, grads)\n",
    "\n",
    "        return parameters\n"
   ]
  },
  {
   "cell_type": "code",
   "execution_count": 94,
   "metadata": {},
   "outputs": [
    {
     "data": {
      "image/png": "[encoded data removed]",
      "text/plain": [
       "<Figure size 640x480 with 1 Axes>"
      ]
     },
     "metadata": {},
     "output_type": "display_data"
    },
    {
     "name": "stdout",
     "output_type": "stream",
     "text": [
      "At iteration 0 we have a cost of 1.2217602653800568\n",
      "At iteration 2500 we have a cost of 0.2935642722979342\n",
      "At iteration 5000 we have a cost of 0.25969645207125536\n",
      "At iteration 7500 we have a cost of 0.24884920892081863\n",
      "At iteration 10000 we have a cost of 0.24644543254964166\n"
     ]
    }
   ],
   "source": [
    "X, y = create_dataset(300, K=3)\n",
    "y = y.astype(int)\n",
    "\n",
    "# Train network\n",
    "NN = NeuralNetwork(X, y)\n",
    "trained_parameters = NN.main(X, y)\n",
    "\n",
    "# Get trained parameters\n",
    "W2 = trained_parameters[\"W2\"]\n",
    "W1 = trained_parameters[\"W1\"]\n",
    "b2 = trained_parameters[\"b2\"]\n",
    "b1 = trained_parameters[\"b1\"]"
   ]
  },
  {
   "cell_type": "code",
   "execution_count": 91,
   "metadata": {},
   "outputs": [
    {
     "data": {
      "image/png": "[encoded data removed]",
      "text/plain": [
       "<Figure size 640x480 with 2 Axes>"
      ]
     },
     "metadata": {},
     "output_type": "display_data"
    }
   ],
   "source": [
    "# import numpy as np\n",
    "# import matplotlib.pyplot as plt\n",
    "\n",
    "# # Create a 2D grid of points\n",
    "# x = np.linspace(-10, 10, 100)\n",
    "# y = np.linspace(-10, 10, 100)\n",
    "# X, Y = np.meshgrid(x, y)\n",
    "\n",
    "# # Create a 2D array of values\n",
    "# Z = np.sin(np.sqrt(X**2 + Y**2)) \n",
    "\n",
    "# # Create a filled contour plot\n",
    "# plt.contourf(X, Y, Z, cmap='viridis')\n",
    "# plt.colorbar()\n",
    "# plt.show()"
   ]
  },
  {
   "cell_type": "code",
   "execution_count": 95,
   "metadata": {},
   "outputs": [],
   "source": [
    "# plot the resulting classifier\n",
    "h = 0.02\n",
    "x_min, x_max = X[:, 0].min() - 1, X[:, 0].max() + 1\n",
    "y_min, y_max = X[:, 1].min() - 1, X[:, 1].max() + 1"
   ]
  },
  {
   "cell_type": "code",
   "execution_count": 96,
   "metadata": {},
   "outputs": [],
   "source": [
    "# h = 0.02: Sets the step size h to 0.02, which determines the resolution of the grid.\n",
    "# x_min, x_max = X[:, 0].min() - 1, X[:, 0].max() + 1:\n",
    "# X[:, 0].min(): Finds the minimum value of the first feature (x-axis) in the dataset X.\n",
    "# X[:, 0].max(): Finds the maximum value of the first feature (x-axis) in the dataset X.\n",
    "# x_min and x_max are set to be 1 unit less than the minimum and 1 unit more than the maximum, respectively, to create some padding around the data.\n",
    "# y_min, y_max = X[:, 1].min() - 1, X[:, 1].max() + 1:\n",
    "# Similarly, finds the minimum and maximum values of the second feature (y-axis) in the dataset X, and sets y_min and y_max with some padding."
   ]
  },
  {
   "cell_type": "code",
   "execution_count": 97,
   "metadata": {},
   "outputs": [],
   "source": [
    "xx, yy = np.meshgrid(np.arange(x_min, x_max, h), np.arange(y_min, y_max, h))"
   ]
  },
  {
   "cell_type": "code",
   "execution_count": 98,
   "metadata": {},
   "outputs": [],
   "source": [
    "# np.arange(x_min, x_max, h): Creates an array of x-coordinates ranging from x_min to x_max with a step size of h.\n",
    "# np.arange(y_min, y_max, h): Creates an array of y-coordinates ranging from y_min to y_max with a step size of h.\n",
    "# np.meshgrid(...): Creates a 2D grid of points by combining the x and y coordinate arrays.\n",
    "# Output:\n",
    "# The np.meshgrid function returns two 2D arrays:\n",
    "# xx: A 2D array of x-coordinates, where each row corresponds to a constant y-value and each column corresponds to a constant x-value.\n",
    "# yy: A 2D array of y-coordinates, where each row corresponds to a constant y-value and each column corresponds to a constant x-value."
   ]
  },
  {
   "cell_type": "code",
   "execution_count": 99,
   "metadata": {},
   "outputs": [],
   "source": [
    "points = np.c_[xx.ravel(), yy.ravel()]"
   ]
  },
  {
   "cell_type": "code",
   "execution_count": 100,
   "metadata": {},
   "outputs": [],
   "source": [
    "# xx.ravel(): Flattens the 2D array xx into a 1D array.\n",
    "# yy.ravel(): Flattens the 2D array yy into a 1D array.\n",
    "# np.c_: Concatenates the two 1D arrays into a 2D array, where each row represents a single point."
   ]
  },
  {
   "cell_type": "code",
   "execution_count": 101,
   "metadata": {},
   "outputs": [],
   "source": [
    " # forward prop with our trained parameters\n",
    "_, Z = NN.forward_prop(points, trained_parameters)"
   ]
  },
  {
   "cell_type": "code",
   "execution_count": 102,
   "metadata": {},
   "outputs": [
    {
     "data": {
      "text/plain": [
       "<matplotlib.contour.QuadContourSet at 0x18f233edb90>"
      ]
     },
     "execution_count": 102,
     "metadata": {},
     "output_type": "execute_result"
    },
    {
     "data": {
      "image/png": "[encoded data removed]",
      "text/plain": [
       "<Figure size 640x480 with 1 Axes>"
      ]
     },
     "metadata": {},
     "output_type": "display_data"
    }
   ],
   "source": [
    "# classify into highest prob\n",
    "Z = np.argmax(Z, axis=1)\n",
    "Z = Z.reshape(xx.shape)\n",
    "plt.contourf(xx, yy, Z, cmap='viridis', alpha=0.8)"
   ]
  },
  {
   "cell_type": "code",
   "execution_count": 89,
   "metadata": {},
   "outputs": [
    {
     "data": {
      "text/plain": [
       "<matplotlib.collections.PathCollection at 0x18f1f078410>"
      ]
     },
     "execution_count": 89,
     "metadata": {},
     "output_type": "execute_result"
    },
    {
     "data": {
      "image/png": "[encoded data removed]",
      "text/plain": [
       "<Figure size 640x480 with 1 Axes>"
      ]
     },
     "metadata": {},
     "output_type": "display_data"
    }
   ],
   "source": [
    "# plt the points\n",
    "plt.scatter(X[:, 0], X[:, 1], c=y, s=40, cmap=plt.cm.Spectral)\n",
    "# fig.savefig('spiral_net.png')"
   ]
  }
 ],
 "metadata": {
  "kernelspec": {
   "display_name": "Python 3",
   "language": "python",
   "name": "python3"
  },
  "language_info": {
   "codemirror_mode": {
    "name": "ipython",
    "version": 3
   },
   "file_extension": ".py",
   "mimetype": "text/x-python",
   "name": "python",
   "nbconvert_exporter": "python",
   "pygments_lexer": "ipython3",
   "version": "3.11.0"
  }
 },
 "nbformat": 4,
 "nbformat_minor": 2
}
