{
 "cells": [
  {
   "cell_type": "code",
   "execution_count": 1,
   "metadata": {},
   "outputs": [],
   "source": [
    "from random import randrange\n",
    "from random import randint\n",
    "import numpy as np\n",
    "from decision_tree import DecisionTree\n"
   ]
  },
  {
   "cell_type": "code",
   "execution_count": 2,
   "metadata": {},
   "outputs": [],
   "source": [
    "# Training data\n",
    "train_data = np.loadtxt(\"data.txt\", delimiter=\",\")\n",
    "train_y = np.loadtxt(\"target.txt\")\n",
    "\n",
    "mock_train = np.loadtxt(\"mock_data.csv\", delimiter=\",\")\n",
    "mock_y = mock_train[ : , -1]"
   ]
  },
  {
   "cell_type": "code",
   "execution_count": 3,
   "metadata": {},
   "outputs": [],
   "source": [
    "# fold size (% of dataset size) e.g. 3 means 30%\n",
    "FOLD_SIZE = 10\n",
    "# number of trees\n",
    "N_TREES = 20\n",
    "# max tree depth\n",
    "MAX_DEPTH = 30\n",
    "# min size of tree node\n",
    "MIN_NODE = 1"
   ]
  },
  {
   "cell_type": "code",
   "execution_count": 4,
   "metadata": {},
   "outputs": [],
   "source": [
    "trees = list()"
   ]
  },
  {
   "cell_type": "code",
   "execution_count": 5,
   "metadata": {},
   "outputs": [],
   "source": [
    "dataset_split = list()\n",
    "sample_size_fold = int(len(mock_train)*N_TREES/10) # number of training examples per fold"
   ]
  },
  {
   "cell_type": "code",
   "execution_count": 6,
   "metadata": {},
   "outputs": [
    {
     "data": {
      "text/plain": [
       "200"
      ]
     },
     "execution_count": 6,
     "metadata": {},
     "output_type": "execute_result"
    }
   ],
   "source": [
    "sample_size_fold"
   ]
  },
  {
   "cell_type": "code",
   "execution_count": 7,
   "metadata": {},
   "outputs": [],
   "source": [
    "fold = list()"
   ]
  },
  {
   "cell_type": "code",
   "execution_count": 8,
   "metadata": {},
   "outputs": [],
   "source": [
    "while len(fold) < sample_size_fold:\n",
    "    index = randrange(len(mock_train)) # cchoose randomly within range\n",
    "    fold.append(mock_train[index])"
   ]
  },
  {
   "cell_type": "code",
   "execution_count": 9,
   "metadata": {},
   "outputs": [
    {
     "data": {
      "text/plain": [
       "52"
      ]
     },
     "execution_count": 9,
     "metadata": {},
     "output_type": "execute_result"
    }
   ],
   "source": [
    "index"
   ]
  },
  {
   "cell_type": "code",
   "execution_count": 10,
   "metadata": {},
   "outputs": [
    {
     "data": {
      "text/plain": [
       "[array([864., 939., 191., 620., 431.,   1.]),\n",
       " array([402.,  97., 283., 569., 638.,   3.]),\n",
       " array([131., 912., 803., 232., 852.,   1.]),\n",
       " array([326., 195., 651., 727.,  85.,   3.]),\n",
       " array([938., 800., 911., 345.,  49.,   3.]),\n",
       " array([399.,  51., 285., 973., 509.,   1.]),\n",
       " array([335., 219., 596., 763., 231.,   1.]),\n",
       " array([831., 290., 228., 586., 971.,   1.]),\n",
       " array([466.,  16., 897., 222., 731.,   1.]),\n",
       " array([870., 704., 430., 270., 327.,   2.]),\n",
       " array([ 95., 537., 106., 490., 518.,   2.]),\n",
       " array([146., 512.,  87., 344., 233.,   3.]),\n",
       " array([991., 968., 886.,  43., 883.,   1.]),\n",
       " array([117., 609., 290., 133., 357.,   2.]),\n",
       " array([207., 812., 788., 182., 494.,   1.]),\n",
       " array([207., 812., 788., 182., 494.,   1.]),\n",
       " array([701., 478., 227., 863., 963.,   2.]),\n",
       " array([662., 951., 947., 923., 112.,   3.]),\n",
       " array([648., 715., 288., 619., 293.,   1.]),\n",
       " array([146., 512.,  87., 344., 233.,   3.]),\n",
       " array([845., 833., 998., 211., 684.,   2.]),\n",
       " array([666., 530., 683., 234., 439.,   1.]),\n",
       " array([203.,  53., 995., 704., 927.,   2.]),\n",
       " array([249., 376., 830., 628., 812.,   2.]),\n",
       " array([652., 325., 903., 471., 224.,   3.]),\n",
       " array([537., 979., 966., 729.,   8.,   3.]),\n",
       " array([646., 133., 388., 896., 971.,   1.]),\n",
       " array([176., 843., 479., 952., 898.,   2.]),\n",
       " array([184., 602., 673., 825., 741.,   1.]),\n",
       " array([289., 302., 416., 364., 920.,   2.]),\n",
       " array([176., 843., 479., 952., 898.,   2.]),\n",
       " array([833., 945., 311.,  12., 859.,   1.]),\n",
       " array([567., 734., 460., 429., 689.,   1.]),\n",
       " array([907., 364., 776., 490., 502.,   2.]),\n",
       " array([ 27.,  77., 860., 458., 643.,   3.]),\n",
       " array([249., 894.,  84.,  81., 643.,   1.]),\n",
       " array([146., 512.,  87., 344., 233.,   3.]),\n",
       " array([165., 968., 151., 672., 452.,   3.]),\n",
       " array([ 47., 477.,  78., 423., 616.,   3.]),\n",
       " array([214., 978., 396., 428.,  14.,   1.]),\n",
       " array([ 54., 165.,   3., 638., 816.,   2.]),\n",
       " array([567., 734., 460., 429., 689.,   1.]),\n",
       " array([824., 571., 159., 516., 594.,   2.]),\n",
       " array([837., 667., 957., 150., 508.,   3.]),\n",
       " array([946., 247., 684., 191., 332.,   2.]),\n",
       " array([652., 325., 903., 471., 224.,   3.]),\n",
       " array([ 47., 477.,  78., 423., 616.,   3.]),\n",
       " array([718., 456., 883., 281., 840.,   1.]),\n",
       " array([302., 495., 294., 362., 169.,   2.]),\n",
       " array([938., 800., 911., 345.,  49.,   3.]),\n",
       " array([865., 418., 866., 824., 370.,   3.]),\n",
       " array([ 125.,  626.,  553.,   74., 1000.,    3.]),\n",
       " array([182., 837., 144., 664., 460.,   2.]),\n",
       " array([510.,  23., 385., 711., 701.,   1.]),\n",
       " array([ 14., 517., 514., 257., 129.,   2.]),\n",
       " array([837., 667., 957., 150., 508.,   3.]),\n",
       " array([837., 667., 957., 150., 508.,   3.]),\n",
       " array([ 14., 517., 514., 257., 129.,   2.]),\n",
       " array([536., 280.,  21., 292., 518.,   1.]),\n",
       " array([ 63., 330., 199., 280., 608.,   2.]),\n",
       " array([ 27.,  77., 860., 458., 643.,   3.]),\n",
       " array([289., 302., 416., 364., 920.,   2.]),\n",
       " array([131., 912., 803., 232., 852.,   1.]),\n",
       " array([537., 979., 966., 729.,   8.,   3.]),\n",
       " array([402.,  97., 283., 569., 638.,   3.]),\n",
       " array([ 42., 319., 830., 447., 727.,   2.]),\n",
       " array([848., 543., 171., 420.,  73.,   1.]),\n",
       " array([991., 968., 886.,  43., 883.,   1.]),\n",
       " array([ 19., 280., 187.,  44., 639.,   1.]),\n",
       " array([845., 833., 998., 211., 684.,   2.]),\n",
       " array([304., 997., 141., 208., 615.,   3.]),\n",
       " array([536., 280.,  21., 292., 518.,   1.]),\n",
       " array([182., 837., 144., 664., 460.,   2.]),\n",
       " array([987., 105., 747., 931., 413.,   3.]),\n",
       " array([233., 146., 667., 886., 771.,   1.]),\n",
       " array([833., 945., 311.,  12., 859.,   1.]),\n",
       " array([240., 837., 836., 277., 177.,   1.]),\n",
       " array([833., 945., 311.,  12., 859.,   1.]),\n",
       " array([849., 817., 294., 491., 397.,   2.]),\n",
       " array([864., 939., 191., 620., 431.,   1.]),\n",
       " array([ 14., 517., 514., 257., 129.,   2.]),\n",
       " array([ 47., 477.,  78., 423., 616.,   3.]),\n",
       " array([222., 502., 427., 944., 732.,   1.]),\n",
       " array([207., 812., 788., 182., 494.,   1.]),\n",
       " array([870., 704., 430., 270., 327.,   2.]),\n",
       " array([ 47., 477.,  78., 423., 616.,   3.]),\n",
       " array([466.,  16., 897., 222., 731.,   1.]),\n",
       " array([733., 939.,  71., 388.,  56.,   1.]),\n",
       " array([701., 478., 227., 863., 963.,   2.]),\n",
       " array([870., 704., 430., 270., 327.,   2.]),\n",
       " array([ 125.,  626.,  553.,   74., 1000.,    3.]),\n",
       " array([553., 253., 980., 868.,  26.,   1.]),\n",
       " array([ 96., 147., 210., 493., 586.,   2.]),\n",
       " array([833., 945., 311.,  12., 859.,   1.]),\n",
       " array([249., 894.,  84.,  81., 643.,   1.]),\n",
       " array([362., 886., 558., 531., 735.,   1.]),\n",
       " array([  8., 465., 403., 376., 761.,   2.]),\n",
       " array([907., 364., 776., 490., 502.,   2.]),\n",
       " array([383., 173., 991., 815., 368.,   3.]),\n",
       " array([ 125.,  626.,  553.,   74., 1000.,    3.]),\n",
       " array([ 71., 573.,   9., 305., 351.,   2.]),\n",
       " array([ 54., 165.,   3., 638., 816.,   2.]),\n",
       " array([466.,  16., 897., 222., 731.,   1.]),\n",
       " array([513., 318., 709., 435., 367.,   2.]),\n",
       " array([848., 543., 171., 420.,  73.,   1.]),\n",
       " array([567., 734., 460., 429., 689.,   1.]),\n",
       " array([752., 298.,  95., 143., 134.,   2.]),\n",
       " array([402.,  97., 283., 569., 638.,   3.]),\n",
       " array([287., 266., 195.,  30., 344.,   3.]),\n",
       " array([ 98., 593.,  43., 583., 684.,   1.]),\n",
       " array([824., 571., 159., 516., 594.,   2.]),\n",
       " array([233., 146., 667., 886., 771.,   1.]),\n",
       " array([854., 973., 274., 315., 897.,   3.]),\n",
       " array([987., 105., 747., 931., 413.,   3.]),\n",
       " array([712., 230., 215., 805., 341.,   1.]),\n",
       " array([ 95., 537., 106., 490., 518.,   2.]),\n",
       " array([287., 266., 195.,  30., 344.,   3.]),\n",
       " array([486., 713., 917., 324., 855.,   2.]),\n",
       " array([905., 337., 200., 400.,  77.,   2.]),\n",
       " array([870., 704., 430., 270., 327.,   2.]),\n",
       " array([280., 279., 275., 305., 123.,   1.]),\n",
       " array([302., 495., 294., 362., 169.,   2.]),\n",
       " array([270., 432., 457., 978., 794.,   1.]),\n",
       " array([ 96., 147., 210., 493., 586.,   2.]),\n",
       " array([249., 376., 830., 628., 812.,   2.]),\n",
       " array([866., 519., 331., 241., 972.,   1.]),\n",
       " array([326., 195., 651., 727.,  85.,   3.]),\n",
       " array([203.,  53., 995., 704., 927.,   2.]),\n",
       " array([ 19., 280., 187.,  44., 639.,   1.]),\n",
       " array([752., 298.,  95., 143., 134.,   2.]),\n",
       " array([987., 105., 747., 931., 413.,   3.]),\n",
       " array([848., 543., 171., 420.,  73.,   1.]),\n",
       " array([712., 230., 215., 805., 341.,   1.]),\n",
       " array([646., 133., 388., 896., 971.,   1.]),\n",
       " array([833., 945., 311.,  12., 859.,   1.]),\n",
       " array([324., 969., 514.,  55., 722.,   2.]),\n",
       " array([402.,  97., 283., 569., 638.,   3.]),\n",
       " array([757., 580., 974., 667., 620.,   1.]),\n",
       " array([280., 279., 275., 305., 123.,   1.]),\n",
       " array([182., 837., 144., 664., 460.,   2.]),\n",
       " array([383., 173., 991., 815., 368.,   3.]),\n",
       " array([304., 997., 141., 208., 615.,   3.]),\n",
       " array([ 63., 330., 199., 280., 608.,   2.]),\n",
       " array([337., 401., 557., 667., 642.,   1.]),\n",
       " array([383., 173., 991., 815., 368.,   3.]),\n",
       " array([287., 266., 195.,  30., 344.,   3.]),\n",
       " array([553., 253., 980., 868.,  26.,   1.]),\n",
       " array([639., 677., 204., 385., 236.,   2.]),\n",
       " array([348., 479., 406., 605., 595.,   2.]),\n",
       " array([946., 247., 684., 191., 332.,   2.]),\n",
       " array([946., 247., 684., 191., 332.,   2.]),\n",
       " array([553., 253., 980., 868.,  26.,   1.]),\n",
       " array([513., 318., 709., 435., 367.,   2.]),\n",
       " array([466.,  16., 897., 222., 731.,   1.]),\n",
       " array([718., 456., 883., 281., 840.,   1.]),\n",
       " array([383., 173., 991., 815., 368.,   3.]),\n",
       " array([222., 502., 427., 944., 732.,   1.]),\n",
       " array([ 42., 319., 830., 447., 727.,   2.]),\n",
       " array([718., 456., 883., 281., 840.,   1.]),\n",
       " array([348., 479., 406., 605., 595.,   2.]),\n",
       " array([757., 580., 974., 667., 620.,   1.]),\n",
       " array([752., 298.,  95., 143., 134.,   2.]),\n",
       " array([  4., 877., 743., 242., 266.,   1.]),\n",
       " array([ 125.,  626.,  553.,   74., 1000.,    3.]),\n",
       " array([648., 715., 288., 619., 293.,   1.]),\n",
       " array([849., 817., 294., 491., 397.,   2.]),\n",
       " array([178., 951., 965., 164.,   1.,   3.]),\n",
       " array([833., 945., 311.,  12., 859.,   1.]),\n",
       " array([240., 837., 836., 277., 177.,   1.]),\n",
       " array([ 42., 319., 830., 447., 727.,   2.]),\n",
       " array([326., 195., 651., 727.,  85.,   3.]),\n",
       " array([302., 495., 294., 362., 169.,   2.]),\n",
       " array([662., 951., 947., 923., 112.,   3.]),\n",
       " array([943.,  55., 709., 269., 425.,   1.]),\n",
       " array([718., 456., 883., 281., 840.,   1.]),\n",
       " array([824., 571., 159., 516., 594.,   2.]),\n",
       " array([ 14., 517., 514., 257., 129.,   2.]),\n",
       " array([289., 302., 416., 364., 920.,   2.]),\n",
       " array([831., 290., 228., 586., 971.,   1.]),\n",
       " array([302., 495., 294., 362., 169.,   2.]),\n",
       " array([300., 100., 292., 978., 115.,   3.]),\n",
       " array([249., 376., 830., 628., 812.,   2.]),\n",
       " array([324., 969., 514.,  55., 722.,   2.]),\n",
       " array([280., 279., 275., 305., 123.,   1.]),\n",
       " array([348., 479., 406., 605., 595.,   2.]),\n",
       " array([833., 945., 311.,  12., 859.,   1.]),\n",
       " array([646., 133., 388., 896., 971.,   1.]),\n",
       " array([466.,  16., 897., 222., 731.,   1.]),\n",
       " array([864., 939., 191., 620., 431.,   1.]),\n",
       " array([882., 533., 203., 776.,  56.,   3.]),\n",
       " array([337., 401., 557., 667., 642.,   1.]),\n",
       " array([117., 609., 290., 133., 357.,   2.]),\n",
       " array([189., 597., 866.,  73., 397.,   3.]),\n",
       " array([302., 495., 294., 362., 169.,   2.]),\n",
       " array([824., 571., 159., 516., 594.,   2.]),\n",
       " array([845., 833., 998., 211., 684.,   2.]),\n",
       " array([870., 704., 430., 270., 327.,   2.]),\n",
       " array([287., 266., 195.,  30., 344.,   3.]),\n",
       " array([567., 734., 460., 429., 689.,   1.]),\n",
       " array([203.,  53., 995., 704., 927.,   2.])]"
      ]
     },
     "execution_count": 10,
     "metadata": {},
     "output_type": "execute_result"
    }
   ],
   "source": [
    "fold"
   ]
  },
  {
   "cell_type": "code",
   "execution_count": 11,
   "metadata": {},
   "outputs": [
    {
     "data": {
      "text/plain": [
       "200"
      ]
     },
     "execution_count": 11,
     "metadata": {},
     "output_type": "execute_result"
    }
   ],
   "source": [
    "len(fold)"
   ]
  },
  {
   "cell_type": "code",
   "execution_count": 12,
   "metadata": {},
   "outputs": [],
   "source": [
    "set1 = np.array(fold)\n",
    "dataset_split.append(set1)"
   ]
  },
  {
   "cell_type": "code",
   "execution_count": 13,
   "metadata": {},
   "outputs": [
    {
     "data": {
      "text/plain": [
       "array([[864., 939., 191., 620., 431.,   1.],\n",
       "       [402.,  97., 283., 569., 638.,   3.],\n",
       "       [131., 912., 803., 232., 852.,   1.],\n",
       "       ...,\n",
       "       [287., 266., 195.,  30., 344.,   3.],\n",
       "       [567., 734., 460., 429., 689.,   1.],\n",
       "       [203.,  53., 995., 704., 927.,   2.]], shape=(200, 6))"
      ]
     },
     "execution_count": 13,
     "metadata": {},
     "output_type": "execute_result"
    }
   ],
   "source": [
    "set1"
   ]
  },
  {
   "cell_type": "code",
   "execution_count": 14,
   "metadata": {},
   "outputs": [
    {
     "data": {
      "text/plain": [
       "[array([[864., 939., 191., 620., 431.,   1.],\n",
       "        [402.,  97., 283., 569., 638.,   3.],\n",
       "        [131., 912., 803., 232., 852.,   1.],\n",
       "        ...,\n",
       "        [287., 266., 195.,  30., 344.,   3.],\n",
       "        [567., 734., 460., 429., 689.,   1.],\n",
       "        [203.,  53., 995., 704., 927.,   2.]], shape=(200, 6))]"
      ]
     },
     "execution_count": 14,
     "metadata": {},
     "output_type": "execute_result"
    }
   ],
   "source": [
    "dataset_split # inside this there are 10 fold each fold contain 200 samples"
   ]
  },
  {
   "cell_type": "code",
   "execution_count": 15,
   "metadata": {},
   "outputs": [
    {
     "data": {
      "text/plain": [
       "array([864., 939., 191., 620., 431.,   1.])"
      ]
     },
     "execution_count": 15,
     "metadata": {},
     "output_type": "execute_result"
    }
   ],
   "source": [
    "dataset_split[0][0]"
   ]
  },
  {
   "attachments": {
    "image.png": {
     "image/png": "[encoded data removed]"
    }
   },
   "cell_type": "markdown",
   "metadata": {},
   "source": [
    "![image.png](attachment:image.png)"
   ]
  },
  {
   "cell_type": "code",
   "execution_count": 62,
   "metadata": {},
   "outputs": [],
   "source": [
    "def cross_validation_split(dataset, n_folds, n_tree):\n",
    "    \"\"\"\n",
    "        This function splits the given dataset into n-folds with replacement. The number of folds is equal to the number of the trees that will be trained.\n",
    "        Each tree will have one fold as input. The size of the folds is a percentage (p) of the size of the original dataset. \n",
    "\n",
    "        Parameters:\n",
    "        dataset: np array of the given dataset\n",
    "        n_folds (int): number of folds in which the dataset should be split. Must be equal to the number of trees the user wants to train\n",
    "        p (int): suggests the percentage of the dataset's size the size of a single fold should be.\n",
    "\n",
    "        Returns list of np arrays: list with the k-folds \n",
    "\n",
    "    \"\"\"\n",
    "    dataset_split = list()\n",
    "    sample_per_fold = int(len(dataset)*n_tree/10)\n",
    "    for i in range(n_folds):\n",
    "        fold = list()\n",
    "        while len(fold) < sample_per_fold:\n",
    "            index = randrange(len(dataset))\n",
    "            fold.append(dataset[index])\n",
    "        set1 = np.array(fold)\n",
    "        dataset_split.append(set1)\n",
    "    return dataset_split"
   ]
  },
  {
   "cell_type": "code",
   "execution_count": 17,
   "metadata": {},
   "outputs": [],
   "source": [
    "l = len(dataset_split[0][0]) # no of columns in each sample of fold of dataset_split"
   ]
  },
  {
   "cell_type": "code",
   "execution_count": 18,
   "metadata": {},
   "outputs": [
    {
     "data": {
      "text/plain": [
       "6"
      ]
     },
     "execution_count": 18,
     "metadata": {},
     "output_type": "execute_result"
    }
   ],
   "source": [
    "l"
   ]
  },
  {
   "cell_type": "code",
   "execution_count": 19,
   "metadata": {},
   "outputs": [],
   "source": [
    "n_features = int((l-1)*5/10) # chosen 2 features randomly"
   ]
  },
  {
   "cell_type": "code",
   "execution_count": 20,
   "metadata": {},
   "outputs": [
    {
     "data": {
      "text/plain": [
       "2"
      ]
     },
     "execution_count": 20,
     "metadata": {},
     "output_type": "execute_result"
    }
   ],
   "source": [
    "n_features"
   ]
  },
  {
   "cell_type": "code",
   "execution_count": 21,
   "metadata": {},
   "outputs": [],
   "source": [
    "rng = list(range(len(dataset_split[0][0]) - 1)) # range of features columns index except target columns"
   ]
  },
  {
   "cell_type": "code",
   "execution_count": 22,
   "metadata": {},
   "outputs": [
    {
     "data": {
      "text/plain": [
       "[0, 1, 2, 3, 4]"
      ]
     },
     "execution_count": 22,
     "metadata": {},
     "output_type": "execute_result"
    }
   ],
   "source": [
    "rng"
   ]
  },
  {
   "cell_type": "code",
   "execution_count": 23,
   "metadata": {},
   "outputs": [
    {
     "data": {
      "text/plain": [
       "0"
      ]
     },
     "execution_count": 23,
     "metadata": {},
     "output_type": "execute_result"
    }
   ],
   "source": [
    "randint(0,len(rng)-1) # select random no within 0 to 4 columns index"
   ]
  },
  {
   "cell_type": "code",
   "execution_count": 24,
   "metadata": {},
   "outputs": [],
   "source": [
    "selected = rng.pop(randint(0,len(rng)-1)) # pop selected column index"
   ]
  },
  {
   "cell_type": "code",
   "execution_count": 25,
   "metadata": {},
   "outputs": [
    {
     "data": {
      "text/plain": [
       "3"
      ]
     },
     "execution_count": 25,
     "metadata": {},
     "output_type": "execute_result"
    }
   ],
   "source": [
    "selected"
   ]
  },
  {
   "cell_type": "code",
   "execution_count": 26,
   "metadata": {},
   "outputs": [
    {
     "data": {
      "text/plain": [
       "[0, 1, 2, 4]"
      ]
     },
     "execution_count": 26,
     "metadata": {},
     "output_type": "execute_result"
    }
   ],
   "source": [
    "rng  # rest no of columns after popping"
   ]
  },
  {
   "cell_type": "code",
   "execution_count": 27,
   "metadata": {},
   "outputs": [
    {
     "data": {
      "text/plain": [
       "array([[864., 939., 191., 620., 431.,   1.],\n",
       "       [402.,  97., 283., 569., 638.,   3.],\n",
       "       [131., 912., 803., 232., 852.,   1.],\n",
       "       ...,\n",
       "       [287., 266., 195.,  30., 344.,   3.],\n",
       "       [567., 734., 460., 429., 689.,   1.],\n",
       "       [203.,  53., 995., 704., 927.,   2.]], shape=(200, 6))"
      ]
     },
     "execution_count": 27,
     "metadata": {},
     "output_type": "execute_result"
    }
   ],
   "source": [
    "dataset_split[0]"
   ]
  },
  {
   "cell_type": "code",
   "execution_count": 28,
   "metadata": {},
   "outputs": [],
   "source": [
    "split = np.delete(dataset_split[0], selected, 1) # selected column index 3 deleted"
   ]
  },
  {
   "cell_type": "code",
   "execution_count": 29,
   "metadata": {},
   "outputs": [
    {
     "data": {
      "text/plain": [
       "array([[864., 939., 191., 431.,   1.],\n",
       "       [402.,  97., 283., 638.,   3.],\n",
       "       [131., 912., 803., 852.,   1.],\n",
       "       [326., 195., 651.,  85.,   3.],\n",
       "       [938., 800., 911.,  49.,   3.]])"
      ]
     },
     "execution_count": 29,
     "metadata": {},
     "output_type": "execute_result"
    }
   ],
   "source": [
    "split[:5]"
   ]
  },
  {
   "cell_type": "code",
   "execution_count": 30,
   "metadata": {},
   "outputs": [
    {
     "data": {
      "text/plain": [
       "(200, 5)"
      ]
     },
     "execution_count": 30,
     "metadata": {},
     "output_type": "execute_result"
    }
   ],
   "source": [
    "split.shape"
   ]
  },
  {
   "cell_type": "code",
   "execution_count": 31,
   "metadata": {},
   "outputs": [],
   "source": [
    "dataset_split1 = list()"
   ]
  },
  {
   "cell_type": "code",
   "execution_count": 32,
   "metadata": {},
   "outputs": [],
   "source": [
    "set2 = np.array(split)"
   ]
  },
  {
   "cell_type": "code",
   "execution_count": 33,
   "metadata": {},
   "outputs": [
    {
     "data": {
      "text/plain": [
       "array([[ 864.,  939.,  191.,  431.,    1.],\n",
       "       [ 402.,   97.,  283.,  638.,    3.],\n",
       "       [ 131.,  912.,  803.,  852.,    1.],\n",
       "       [ 326.,  195.,  651.,   85.,    3.],\n",
       "       [ 938.,  800.,  911.,   49.,    3.],\n",
       "       [ 399.,   51.,  285.,  509.,    1.],\n",
       "       [ 335.,  219.,  596.,  231.,    1.],\n",
       "       [ 831.,  290.,  228.,  971.,    1.],\n",
       "       [ 466.,   16.,  897.,  731.,    1.],\n",
       "       [ 870.,  704.,  430.,  327.,    2.],\n",
       "       [  95.,  537.,  106.,  518.,    2.],\n",
       "       [ 146.,  512.,   87.,  233.,    3.],\n",
       "       [ 991.,  968.,  886.,  883.,    1.],\n",
       "       [ 117.,  609.,  290.,  357.,    2.],\n",
       "       [ 207.,  812.,  788.,  494.,    1.],\n",
       "       [ 207.,  812.,  788.,  494.,    1.],\n",
       "       [ 701.,  478.,  227.,  963.,    2.],\n",
       "       [ 662.,  951.,  947.,  112.,    3.],\n",
       "       [ 648.,  715.,  288.,  293.,    1.],\n",
       "       [ 146.,  512.,   87.,  233.,    3.],\n",
       "       [ 845.,  833.,  998.,  684.,    2.],\n",
       "       [ 666.,  530.,  683.,  439.,    1.],\n",
       "       [ 203.,   53.,  995.,  927.,    2.],\n",
       "       [ 249.,  376.,  830.,  812.,    2.],\n",
       "       [ 652.,  325.,  903.,  224.,    3.],\n",
       "       [ 537.,  979.,  966.,    8.,    3.],\n",
       "       [ 646.,  133.,  388.,  971.,    1.],\n",
       "       [ 176.,  843.,  479.,  898.,    2.],\n",
       "       [ 184.,  602.,  673.,  741.,    1.],\n",
       "       [ 289.,  302.,  416.,  920.,    2.],\n",
       "       [ 176.,  843.,  479.,  898.,    2.],\n",
       "       [ 833.,  945.,  311.,  859.,    1.],\n",
       "       [ 567.,  734.,  460.,  689.,    1.],\n",
       "       [ 907.,  364.,  776.,  502.,    2.],\n",
       "       [  27.,   77.,  860.,  643.,    3.],\n",
       "       [ 249.,  894.,   84.,  643.,    1.],\n",
       "       [ 146.,  512.,   87.,  233.,    3.],\n",
       "       [ 165.,  968.,  151.,  452.,    3.],\n",
       "       [  47.,  477.,   78.,  616.,    3.],\n",
       "       [ 214.,  978.,  396.,   14.,    1.],\n",
       "       [  54.,  165.,    3.,  816.,    2.],\n",
       "       [ 567.,  734.,  460.,  689.,    1.],\n",
       "       [ 824.,  571.,  159.,  594.,    2.],\n",
       "       [ 837.,  667.,  957.,  508.,    3.],\n",
       "       [ 946.,  247.,  684.,  332.,    2.],\n",
       "       [ 652.,  325.,  903.,  224.,    3.],\n",
       "       [  47.,  477.,   78.,  616.,    3.],\n",
       "       [ 718.,  456.,  883.,  840.,    1.],\n",
       "       [ 302.,  495.,  294.,  169.,    2.],\n",
       "       [ 938.,  800.,  911.,   49.,    3.],\n",
       "       [ 865.,  418.,  866.,  370.,    3.],\n",
       "       [ 125.,  626.,  553., 1000.,    3.],\n",
       "       [ 182.,  837.,  144.,  460.,    2.],\n",
       "       [ 510.,   23.,  385.,  701.,    1.],\n",
       "       [  14.,  517.,  514.,  129.,    2.],\n",
       "       [ 837.,  667.,  957.,  508.,    3.],\n",
       "       [ 837.,  667.,  957.,  508.,    3.],\n",
       "       [  14.,  517.,  514.,  129.,    2.],\n",
       "       [ 536.,  280.,   21.,  518.,    1.],\n",
       "       [  63.,  330.,  199.,  608.,    2.],\n",
       "       [  27.,   77.,  860.,  643.,    3.],\n",
       "       [ 289.,  302.,  416.,  920.,    2.],\n",
       "       [ 131.,  912.,  803.,  852.,    1.],\n",
       "       [ 537.,  979.,  966.,    8.,    3.],\n",
       "       [ 402.,   97.,  283.,  638.,    3.],\n",
       "       [  42.,  319.,  830.,  727.,    2.],\n",
       "       [ 848.,  543.,  171.,   73.,    1.],\n",
       "       [ 991.,  968.,  886.,  883.,    1.],\n",
       "       [  19.,  280.,  187.,  639.,    1.],\n",
       "       [ 845.,  833.,  998.,  684.,    2.],\n",
       "       [ 304.,  997.,  141.,  615.,    3.],\n",
       "       [ 536.,  280.,   21.,  518.,    1.],\n",
       "       [ 182.,  837.,  144.,  460.,    2.],\n",
       "       [ 987.,  105.,  747.,  413.,    3.],\n",
       "       [ 233.,  146.,  667.,  771.,    1.],\n",
       "       [ 833.,  945.,  311.,  859.,    1.],\n",
       "       [ 240.,  837.,  836.,  177.,    1.],\n",
       "       [ 833.,  945.,  311.,  859.,    1.],\n",
       "       [ 849.,  817.,  294.,  397.,    2.],\n",
       "       [ 864.,  939.,  191.,  431.,    1.],\n",
       "       [  14.,  517.,  514.,  129.,    2.],\n",
       "       [  47.,  477.,   78.,  616.,    3.],\n",
       "       [ 222.,  502.,  427.,  732.,    1.],\n",
       "       [ 207.,  812.,  788.,  494.,    1.],\n",
       "       [ 870.,  704.,  430.,  327.,    2.],\n",
       "       [  47.,  477.,   78.,  616.,    3.],\n",
       "       [ 466.,   16.,  897.,  731.,    1.],\n",
       "       [ 733.,  939.,   71.,   56.,    1.],\n",
       "       [ 701.,  478.,  227.,  963.,    2.],\n",
       "       [ 870.,  704.,  430.,  327.,    2.],\n",
       "       [ 125.,  626.,  553., 1000.,    3.],\n",
       "       [ 553.,  253.,  980.,   26.,    1.],\n",
       "       [  96.,  147.,  210.,  586.,    2.],\n",
       "       [ 833.,  945.,  311.,  859.,    1.],\n",
       "       [ 249.,  894.,   84.,  643.,    1.],\n",
       "       [ 362.,  886.,  558.,  735.,    1.],\n",
       "       [   8.,  465.,  403.,  761.,    2.],\n",
       "       [ 907.,  364.,  776.,  502.,    2.],\n",
       "       [ 383.,  173.,  991.,  368.,    3.],\n",
       "       [ 125.,  626.,  553., 1000.,    3.],\n",
       "       [  71.,  573.,    9.,  351.,    2.],\n",
       "       [  54.,  165.,    3.,  816.,    2.],\n",
       "       [ 466.,   16.,  897.,  731.,    1.],\n",
       "       [ 513.,  318.,  709.,  367.,    2.],\n",
       "       [ 848.,  543.,  171.,   73.,    1.],\n",
       "       [ 567.,  734.,  460.,  689.,    1.],\n",
       "       [ 752.,  298.,   95.,  134.,    2.],\n",
       "       [ 402.,   97.,  283.,  638.,    3.],\n",
       "       [ 287.,  266.,  195.,  344.,    3.],\n",
       "       [  98.,  593.,   43.,  684.,    1.],\n",
       "       [ 824.,  571.,  159.,  594.,    2.],\n",
       "       [ 233.,  146.,  667.,  771.,    1.],\n",
       "       [ 854.,  973.,  274.,  897.,    3.],\n",
       "       [ 987.,  105.,  747.,  413.,    3.],\n",
       "       [ 712.,  230.,  215.,  341.,    1.],\n",
       "       [  95.,  537.,  106.,  518.,    2.],\n",
       "       [ 287.,  266.,  195.,  344.,    3.],\n",
       "       [ 486.,  713.,  917.,  855.,    2.],\n",
       "       [ 905.,  337.,  200.,   77.,    2.],\n",
       "       [ 870.,  704.,  430.,  327.,    2.],\n",
       "       [ 280.,  279.,  275.,  123.,    1.],\n",
       "       [ 302.,  495.,  294.,  169.,    2.],\n",
       "       [ 270.,  432.,  457.,  794.,    1.],\n",
       "       [  96.,  147.,  210.,  586.,    2.],\n",
       "       [ 249.,  376.,  830.,  812.,    2.],\n",
       "       [ 866.,  519.,  331.,  972.,    1.],\n",
       "       [ 326.,  195.,  651.,   85.,    3.],\n",
       "       [ 203.,   53.,  995.,  927.,    2.],\n",
       "       [  19.,  280.,  187.,  639.,    1.],\n",
       "       [ 752.,  298.,   95.,  134.,    2.],\n",
       "       [ 987.,  105.,  747.,  413.,    3.],\n",
       "       [ 848.,  543.,  171.,   73.,    1.],\n",
       "       [ 712.,  230.,  215.,  341.,    1.],\n",
       "       [ 646.,  133.,  388.,  971.,    1.],\n",
       "       [ 833.,  945.,  311.,  859.,    1.],\n",
       "       [ 324.,  969.,  514.,  722.,    2.],\n",
       "       [ 402.,   97.,  283.,  638.,    3.],\n",
       "       [ 757.,  580.,  974.,  620.,    1.],\n",
       "       [ 280.,  279.,  275.,  123.,    1.],\n",
       "       [ 182.,  837.,  144.,  460.,    2.],\n",
       "       [ 383.,  173.,  991.,  368.,    3.],\n",
       "       [ 304.,  997.,  141.,  615.,    3.],\n",
       "       [  63.,  330.,  199.,  608.,    2.],\n",
       "       [ 337.,  401.,  557.,  642.,    1.],\n",
       "       [ 383.,  173.,  991.,  368.,    3.],\n",
       "       [ 287.,  266.,  195.,  344.,    3.],\n",
       "       [ 553.,  253.,  980.,   26.,    1.],\n",
       "       [ 639.,  677.,  204.,  236.,    2.],\n",
       "       [ 348.,  479.,  406.,  595.,    2.],\n",
       "       [ 946.,  247.,  684.,  332.,    2.],\n",
       "       [ 946.,  247.,  684.,  332.,    2.],\n",
       "       [ 553.,  253.,  980.,   26.,    1.],\n",
       "       [ 513.,  318.,  709.,  367.,    2.],\n",
       "       [ 466.,   16.,  897.,  731.,    1.],\n",
       "       [ 718.,  456.,  883.,  840.,    1.],\n",
       "       [ 383.,  173.,  991.,  368.,    3.],\n",
       "       [ 222.,  502.,  427.,  732.,    1.],\n",
       "       [  42.,  319.,  830.,  727.,    2.],\n",
       "       [ 718.,  456.,  883.,  840.,    1.],\n",
       "       [ 348.,  479.,  406.,  595.,    2.],\n",
       "       [ 757.,  580.,  974.,  620.,    1.],\n",
       "       [ 752.,  298.,   95.,  134.,    2.],\n",
       "       [   4.,  877.,  743.,  266.,    1.],\n",
       "       [ 125.,  626.,  553., 1000.,    3.],\n",
       "       [ 648.,  715.,  288.,  293.,    1.],\n",
       "       [ 849.,  817.,  294.,  397.,    2.],\n",
       "       [ 178.,  951.,  965.,    1.,    3.],\n",
       "       [ 833.,  945.,  311.,  859.,    1.],\n",
       "       [ 240.,  837.,  836.,  177.,    1.],\n",
       "       [  42.,  319.,  830.,  727.,    2.],\n",
       "       [ 326.,  195.,  651.,   85.,    3.],\n",
       "       [ 302.,  495.,  294.,  169.,    2.],\n",
       "       [ 662.,  951.,  947.,  112.,    3.],\n",
       "       [ 943.,   55.,  709.,  425.,    1.],\n",
       "       [ 718.,  456.,  883.,  840.,    1.],\n",
       "       [ 824.,  571.,  159.,  594.,    2.],\n",
       "       [  14.,  517.,  514.,  129.,    2.],\n",
       "       [ 289.,  302.,  416.,  920.,    2.],\n",
       "       [ 831.,  290.,  228.,  971.,    1.],\n",
       "       [ 302.,  495.,  294.,  169.,    2.],\n",
       "       [ 300.,  100.,  292.,  115.,    3.],\n",
       "       [ 249.,  376.,  830.,  812.,    2.],\n",
       "       [ 324.,  969.,  514.,  722.,    2.],\n",
       "       [ 280.,  279.,  275.,  123.,    1.],\n",
       "       [ 348.,  479.,  406.,  595.,    2.],\n",
       "       [ 833.,  945.,  311.,  859.,    1.],\n",
       "       [ 646.,  133.,  388.,  971.,    1.],\n",
       "       [ 466.,   16.,  897.,  731.,    1.],\n",
       "       [ 864.,  939.,  191.,  431.,    1.],\n",
       "       [ 882.,  533.,  203.,   56.,    3.],\n",
       "       [ 337.,  401.,  557.,  642.,    1.],\n",
       "       [ 117.,  609.,  290.,  357.,    2.],\n",
       "       [ 189.,  597.,  866.,  397.,    3.],\n",
       "       [ 302.,  495.,  294.,  169.,    2.],\n",
       "       [ 824.,  571.,  159.,  594.,    2.],\n",
       "       [ 845.,  833.,  998.,  684.,    2.],\n",
       "       [ 870.,  704.,  430.,  327.,    2.],\n",
       "       [ 287.,  266.,  195.,  344.,    3.],\n",
       "       [ 567.,  734.,  460.,  689.,    1.],\n",
       "       [ 203.,   53.,  995.,  927.,    2.]])"
      ]
     },
     "execution_count": 33,
     "metadata": {},
     "output_type": "execute_result"
    }
   ],
   "source": [
    "set2"
   ]
  },
  {
   "cell_type": "code",
   "execution_count": 34,
   "metadata": {},
   "outputs": [],
   "source": [
    "dataset_split1.append(set2)  # store same as less one   column"
   ]
  },
  {
   "cell_type": "code",
   "execution_count": 35,
   "metadata": {},
   "outputs": [
    {
     "data": {
      "text/plain": [
       "array([[ 864.,  939.,  191.,  431.,    1.],\n",
       "       [ 402.,   97.,  283.,  638.,    3.],\n",
       "       [ 131.,  912.,  803.,  852.,    1.],\n",
       "       [ 326.,  195.,  651.,   85.,    3.],\n",
       "       [ 938.,  800.,  911.,   49.,    3.],\n",
       "       [ 399.,   51.,  285.,  509.,    1.],\n",
       "       [ 335.,  219.,  596.,  231.,    1.],\n",
       "       [ 831.,  290.,  228.,  971.,    1.],\n",
       "       [ 466.,   16.,  897.,  731.,    1.],\n",
       "       [ 870.,  704.,  430.,  327.,    2.],\n",
       "       [  95.,  537.,  106.,  518.,    2.],\n",
       "       [ 146.,  512.,   87.,  233.,    3.],\n",
       "       [ 991.,  968.,  886.,  883.,    1.],\n",
       "       [ 117.,  609.,  290.,  357.,    2.],\n",
       "       [ 207.,  812.,  788.,  494.,    1.],\n",
       "       [ 207.,  812.,  788.,  494.,    1.],\n",
       "       [ 701.,  478.,  227.,  963.,    2.],\n",
       "       [ 662.,  951.,  947.,  112.,    3.],\n",
       "       [ 648.,  715.,  288.,  293.,    1.],\n",
       "       [ 146.,  512.,   87.,  233.,    3.],\n",
       "       [ 845.,  833.,  998.,  684.,    2.],\n",
       "       [ 666.,  530.,  683.,  439.,    1.],\n",
       "       [ 203.,   53.,  995.,  927.,    2.],\n",
       "       [ 249.,  376.,  830.,  812.,    2.],\n",
       "       [ 652.,  325.,  903.,  224.,    3.],\n",
       "       [ 537.,  979.,  966.,    8.,    3.],\n",
       "       [ 646.,  133.,  388.,  971.,    1.],\n",
       "       [ 176.,  843.,  479.,  898.,    2.],\n",
       "       [ 184.,  602.,  673.,  741.,    1.],\n",
       "       [ 289.,  302.,  416.,  920.,    2.],\n",
       "       [ 176.,  843.,  479.,  898.,    2.],\n",
       "       [ 833.,  945.,  311.,  859.,    1.],\n",
       "       [ 567.,  734.,  460.,  689.,    1.],\n",
       "       [ 907.,  364.,  776.,  502.,    2.],\n",
       "       [  27.,   77.,  860.,  643.,    3.],\n",
       "       [ 249.,  894.,   84.,  643.,    1.],\n",
       "       [ 146.,  512.,   87.,  233.,    3.],\n",
       "       [ 165.,  968.,  151.,  452.,    3.],\n",
       "       [  47.,  477.,   78.,  616.,    3.],\n",
       "       [ 214.,  978.,  396.,   14.,    1.],\n",
       "       [  54.,  165.,    3.,  816.,    2.],\n",
       "       [ 567.,  734.,  460.,  689.,    1.],\n",
       "       [ 824.,  571.,  159.,  594.,    2.],\n",
       "       [ 837.,  667.,  957.,  508.,    3.],\n",
       "       [ 946.,  247.,  684.,  332.,    2.],\n",
       "       [ 652.,  325.,  903.,  224.,    3.],\n",
       "       [  47.,  477.,   78.,  616.,    3.],\n",
       "       [ 718.,  456.,  883.,  840.,    1.],\n",
       "       [ 302.,  495.,  294.,  169.,    2.],\n",
       "       [ 938.,  800.,  911.,   49.,    3.],\n",
       "       [ 865.,  418.,  866.,  370.,    3.],\n",
       "       [ 125.,  626.,  553., 1000.,    3.],\n",
       "       [ 182.,  837.,  144.,  460.,    2.],\n",
       "       [ 510.,   23.,  385.,  701.,    1.],\n",
       "       [  14.,  517.,  514.,  129.,    2.],\n",
       "       [ 837.,  667.,  957.,  508.,    3.],\n",
       "       [ 837.,  667.,  957.,  508.,    3.],\n",
       "       [  14.,  517.,  514.,  129.,    2.],\n",
       "       [ 536.,  280.,   21.,  518.,    1.],\n",
       "       [  63.,  330.,  199.,  608.,    2.],\n",
       "       [  27.,   77.,  860.,  643.,    3.],\n",
       "       [ 289.,  302.,  416.,  920.,    2.],\n",
       "       [ 131.,  912.,  803.,  852.,    1.],\n",
       "       [ 537.,  979.,  966.,    8.,    3.],\n",
       "       [ 402.,   97.,  283.,  638.,    3.],\n",
       "       [  42.,  319.,  830.,  727.,    2.],\n",
       "       [ 848.,  543.,  171.,   73.,    1.],\n",
       "       [ 991.,  968.,  886.,  883.,    1.],\n",
       "       [  19.,  280.,  187.,  639.,    1.],\n",
       "       [ 845.,  833.,  998.,  684.,    2.],\n",
       "       [ 304.,  997.,  141.,  615.,    3.],\n",
       "       [ 536.,  280.,   21.,  518.,    1.],\n",
       "       [ 182.,  837.,  144.,  460.,    2.],\n",
       "       [ 987.,  105.,  747.,  413.,    3.],\n",
       "       [ 233.,  146.,  667.,  771.,    1.],\n",
       "       [ 833.,  945.,  311.,  859.,    1.],\n",
       "       [ 240.,  837.,  836.,  177.,    1.],\n",
       "       [ 833.,  945.,  311.,  859.,    1.],\n",
       "       [ 849.,  817.,  294.,  397.,    2.],\n",
       "       [ 864.,  939.,  191.,  431.,    1.],\n",
       "       [  14.,  517.,  514.,  129.,    2.],\n",
       "       [  47.,  477.,   78.,  616.,    3.],\n",
       "       [ 222.,  502.,  427.,  732.,    1.],\n",
       "       [ 207.,  812.,  788.,  494.,    1.],\n",
       "       [ 870.,  704.,  430.,  327.,    2.],\n",
       "       [  47.,  477.,   78.,  616.,    3.],\n",
       "       [ 466.,   16.,  897.,  731.,    1.],\n",
       "       [ 733.,  939.,   71.,   56.,    1.],\n",
       "       [ 701.,  478.,  227.,  963.,    2.],\n",
       "       [ 870.,  704.,  430.,  327.,    2.],\n",
       "       [ 125.,  626.,  553., 1000.,    3.],\n",
       "       [ 553.,  253.,  980.,   26.,    1.],\n",
       "       [  96.,  147.,  210.,  586.,    2.],\n",
       "       [ 833.,  945.,  311.,  859.,    1.],\n",
       "       [ 249.,  894.,   84.,  643.,    1.],\n",
       "       [ 362.,  886.,  558.,  735.,    1.],\n",
       "       [   8.,  465.,  403.,  761.,    2.],\n",
       "       [ 907.,  364.,  776.,  502.,    2.],\n",
       "       [ 383.,  173.,  991.,  368.,    3.],\n",
       "       [ 125.,  626.,  553., 1000.,    3.],\n",
       "       [  71.,  573.,    9.,  351.,    2.],\n",
       "       [  54.,  165.,    3.,  816.,    2.],\n",
       "       [ 466.,   16.,  897.,  731.,    1.],\n",
       "       [ 513.,  318.,  709.,  367.,    2.],\n",
       "       [ 848.,  543.,  171.,   73.,    1.],\n",
       "       [ 567.,  734.,  460.,  689.,    1.],\n",
       "       [ 752.,  298.,   95.,  134.,    2.],\n",
       "       [ 402.,   97.,  283.,  638.,    3.],\n",
       "       [ 287.,  266.,  195.,  344.,    3.],\n",
       "       [  98.,  593.,   43.,  684.,    1.],\n",
       "       [ 824.,  571.,  159.,  594.,    2.],\n",
       "       [ 233.,  146.,  667.,  771.,    1.],\n",
       "       [ 854.,  973.,  274.,  897.,    3.],\n",
       "       [ 987.,  105.,  747.,  413.,    3.],\n",
       "       [ 712.,  230.,  215.,  341.,    1.],\n",
       "       [  95.,  537.,  106.,  518.,    2.],\n",
       "       [ 287.,  266.,  195.,  344.,    3.],\n",
       "       [ 486.,  713.,  917.,  855.,    2.],\n",
       "       [ 905.,  337.,  200.,   77.,    2.],\n",
       "       [ 870.,  704.,  430.,  327.,    2.],\n",
       "       [ 280.,  279.,  275.,  123.,    1.],\n",
       "       [ 302.,  495.,  294.,  169.,    2.],\n",
       "       [ 270.,  432.,  457.,  794.,    1.],\n",
       "       [  96.,  147.,  210.,  586.,    2.],\n",
       "       [ 249.,  376.,  830.,  812.,    2.],\n",
       "       [ 866.,  519.,  331.,  972.,    1.],\n",
       "       [ 326.,  195.,  651.,   85.,    3.],\n",
       "       [ 203.,   53.,  995.,  927.,    2.],\n",
       "       [  19.,  280.,  187.,  639.,    1.],\n",
       "       [ 752.,  298.,   95.,  134.,    2.],\n",
       "       [ 987.,  105.,  747.,  413.,    3.],\n",
       "       [ 848.,  543.,  171.,   73.,    1.],\n",
       "       [ 712.,  230.,  215.,  341.,    1.],\n",
       "       [ 646.,  133.,  388.,  971.,    1.],\n",
       "       [ 833.,  945.,  311.,  859.,    1.],\n",
       "       [ 324.,  969.,  514.,  722.,    2.],\n",
       "       [ 402.,   97.,  283.,  638.,    3.],\n",
       "       [ 757.,  580.,  974.,  620.,    1.],\n",
       "       [ 280.,  279.,  275.,  123.,    1.],\n",
       "       [ 182.,  837.,  144.,  460.,    2.],\n",
       "       [ 383.,  173.,  991.,  368.,    3.],\n",
       "       [ 304.,  997.,  141.,  615.,    3.],\n",
       "       [  63.,  330.,  199.,  608.,    2.],\n",
       "       [ 337.,  401.,  557.,  642.,    1.],\n",
       "       [ 383.,  173.,  991.,  368.,    3.],\n",
       "       [ 287.,  266.,  195.,  344.,    3.],\n",
       "       [ 553.,  253.,  980.,   26.,    1.],\n",
       "       [ 639.,  677.,  204.,  236.,    2.],\n",
       "       [ 348.,  479.,  406.,  595.,    2.],\n",
       "       [ 946.,  247.,  684.,  332.,    2.],\n",
       "       [ 946.,  247.,  684.,  332.,    2.],\n",
       "       [ 553.,  253.,  980.,   26.,    1.],\n",
       "       [ 513.,  318.,  709.,  367.,    2.],\n",
       "       [ 466.,   16.,  897.,  731.,    1.],\n",
       "       [ 718.,  456.,  883.,  840.,    1.],\n",
       "       [ 383.,  173.,  991.,  368.,    3.],\n",
       "       [ 222.,  502.,  427.,  732.,    1.],\n",
       "       [  42.,  319.,  830.,  727.,    2.],\n",
       "       [ 718.,  456.,  883.,  840.,    1.],\n",
       "       [ 348.,  479.,  406.,  595.,    2.],\n",
       "       [ 757.,  580.,  974.,  620.,    1.],\n",
       "       [ 752.,  298.,   95.,  134.,    2.],\n",
       "       [   4.,  877.,  743.,  266.,    1.],\n",
       "       [ 125.,  626.,  553., 1000.,    3.],\n",
       "       [ 648.,  715.,  288.,  293.,    1.],\n",
       "       [ 849.,  817.,  294.,  397.,    2.],\n",
       "       [ 178.,  951.,  965.,    1.,    3.],\n",
       "       [ 833.,  945.,  311.,  859.,    1.],\n",
       "       [ 240.,  837.,  836.,  177.,    1.],\n",
       "       [  42.,  319.,  830.,  727.,    2.],\n",
       "       [ 326.,  195.,  651.,   85.,    3.],\n",
       "       [ 302.,  495.,  294.,  169.,    2.],\n",
       "       [ 662.,  951.,  947.,  112.,    3.],\n",
       "       [ 943.,   55.,  709.,  425.,    1.],\n",
       "       [ 718.,  456.,  883.,  840.,    1.],\n",
       "       [ 824.,  571.,  159.,  594.,    2.],\n",
       "       [  14.,  517.,  514.,  129.,    2.],\n",
       "       [ 289.,  302.,  416.,  920.,    2.],\n",
       "       [ 831.,  290.,  228.,  971.,    1.],\n",
       "       [ 302.,  495.,  294.,  169.,    2.],\n",
       "       [ 300.,  100.,  292.,  115.,    3.],\n",
       "       [ 249.,  376.,  830.,  812.,    2.],\n",
       "       [ 324.,  969.,  514.,  722.,    2.],\n",
       "       [ 280.,  279.,  275.,  123.,    1.],\n",
       "       [ 348.,  479.,  406.,  595.,    2.],\n",
       "       [ 833.,  945.,  311.,  859.,    1.],\n",
       "       [ 646.,  133.,  388.,  971.,    1.],\n",
       "       [ 466.,   16.,  897.,  731.,    1.],\n",
       "       [ 864.,  939.,  191.,  431.,    1.],\n",
       "       [ 882.,  533.,  203.,   56.,    3.],\n",
       "       [ 337.,  401.,  557.,  642.,    1.],\n",
       "       [ 117.,  609.,  290.,  357.,    2.],\n",
       "       [ 189.,  597.,  866.,  397.,    3.],\n",
       "       [ 302.,  495.,  294.,  169.,    2.],\n",
       "       [ 824.,  571.,  159.,  594.,    2.],\n",
       "       [ 845.,  833.,  998.,  684.,    2.],\n",
       "       [ 870.,  704.,  430.,  327.,    2.],\n",
       "       [ 287.,  266.,  195.,  344.,    3.],\n",
       "       [ 567.,  734.,  460.,  689.,    1.],\n",
       "       [ 203.,   53.,  995.,  927.,    2.]])"
      ]
     },
     "execution_count": 35,
     "metadata": {},
     "output_type": "execute_result"
    }
   ],
   "source": [
    "dataset_split1[0]"
   ]
  },
  {
   "cell_type": "code",
   "execution_count": 55,
   "metadata": {},
   "outputs": [
    {
     "data": {
      "text/plain": [
       "1"
      ]
     },
     "execution_count": 55,
     "metadata": {},
     "output_type": "execute_result"
    }
   ],
   "source": [
    "len(dataset_split1)"
   ]
  },
  {
   "cell_type": "code",
   "execution_count": 56,
   "metadata": {},
   "outputs": [
    {
     "data": {
      "text/plain": [
       "(200, 5)"
      ]
     },
     "execution_count": 56,
     "metadata": {},
     "output_type": "execute_result"
    }
   ],
   "source": [
    "dataset_split1[0].shape"
   ]
  },
  {
   "cell_type": "markdown",
   "metadata": {},
   "source": [
    "note : we can reuse same data variable name  if previous data variable is no longer needed to save space that is\n",
    "memory optimization"
   ]
  },
  {
   "attachments": {
    "image.png": {
     "image/png": "[encoded data removed]"
    }
   },
   "cell_type": "markdown",
   "metadata": {},
   "source": [
    "![image.png](attachment:image.png)"
   ]
  },
  {
   "cell_type": "code",
   "execution_count": 61,
   "metadata": {},
   "outputs": [],
   "source": [
    "def randomize_features(splits):\n",
    "    \"\"\"\n",
    "    This function randomizes the selection of the features each tree will be trained on.\n",
    "\n",
    "    Parameters:\n",
    "        splits list of np arrays: list of folds\n",
    "        \n",
    "\n",
    "    Returns list of np arrays: list with the k-folds with some features randomly removed\n",
    "\n",
    "    \"\"\"\n",
    "    dataset_split = list()  # initiate same list var name which is used in dataset_split to save space as previous dataset\n",
    "    # split list is no longer needed > space optimization\n",
    "    l = len(splits[0][0])\n",
    "    n_features = int((l-1)*5/10)\n",
    "    for split in splits:\n",
    "        for i in range(n_features):\n",
    "            rng = list(range(len(split[0]) - 1))\n",
    "            selected = rng.pop(randint(0,len(rng)-1))\n",
    "            split = np.delete(split, selected, 1)\n",
    "        set2 = np.array(split)\n",
    "        dataset_split.append(set2)\n",
    "    return dataset_split\n"
   ]
  },
  {
   "cell_type": "code",
   "execution_count": 37,
   "metadata": {},
   "outputs": [],
   "source": [
    "for fold in dataset_split1:\n",
    "    dt = DecisionTree(MAX_DEPTH, MIN_NODE)\n",
    "    dt.train(fold)\n",
    "    trees.append(dt)"
   ]
  },
  {
   "cell_type": "code",
   "execution_count": 38,
   "metadata": {},
   "outputs": [
    {
     "data": {
      "text/plain": [
       "<decision_tree.DecisionTree at 0x1c74763c110>"
      ]
     },
     "execution_count": 38,
     "metadata": {},
     "output_type": "execute_result"
    }
   ],
   "source": [
    "dt"
   ]
  },
  {
   "cell_type": "code",
   "execution_count": 39,
   "metadata": {},
   "outputs": [
    {
     "data": {
      "text/plain": [
       "[<decision_tree.DecisionTree at 0x1c74763c110>]"
      ]
     },
     "execution_count": 39,
     "metadata": {},
     "output_type": "execute_result"
    }
   ],
   "source": [
    "trees"
   ]
  },
  {
   "cell_type": "code",
   "execution_count": 40,
   "metadata": {},
   "outputs": [
    {
     "name": "stdout",
     "output_type": "stream",
     "text": [
      "<decision_tree.DecisionTree object at 0x000001C74763C110>\n"
     ]
    }
   ],
   "source": [
    "for tree in trees:\n",
    "    print(tree)"
   ]
  },
  {
   "cell_type": "code",
   "execution_count": 63,
   "metadata": {},
   "outputs": [],
   "source": [
    "def train(X):\n",
    "    \"\"\"\n",
    "    Iteratively train each decision tree.\n",
    "    Parameters:\n",
    "    X (np.array): Training data\n",
    "\n",
    "    \"\"\"\n",
    "    train_x =cross_validation_split(X,n_tree=N_TREES,n_folds=FOLD_SIZE)\n",
    "    train_x =randomize_features(train_x)\n",
    "    for fold in train_x:\n",
    "        dt = DecisionTree(MAX_DEPTH, MIN_NODE)\n",
    "        dt.train(fold)\n",
    "    trees.append(dt)"
   ]
  },
  {
   "cell_type": "code",
   "execution_count": 42,
   "metadata": {},
   "outputs": [],
   "source": [
    "predicts = list()"
   ]
  },
  {
   "cell_type": "code",
   "execution_count": 43,
   "metadata": {},
   "outputs": [],
   "source": [
    "final_predicts = list()"
   ]
  },
  {
   "cell_type": "code",
   "execution_count": 44,
   "metadata": {},
   "outputs": [],
   "source": [
    "for tree in trees:\n",
    "    # tree.predict(mock_train)\n",
    "    predicts.append(tree.predict(mock_train)) # prediction for all trees or fold"
   ]
  },
  {
   "cell_type": "code",
   "execution_count": 45,
   "metadata": {},
   "outputs": [
    {
     "data": {
      "text/plain": [
       "<decision_tree.DecisionTree at 0x1c74763c110>"
      ]
     },
     "execution_count": 45,
     "metadata": {},
     "output_type": "execute_result"
    }
   ],
   "source": [
    "tree"
   ]
  },
  {
   "cell_type": "code",
   "execution_count": 46,
   "metadata": {},
   "outputs": [
    {
     "data": {
      "text/plain": [
       "[array([2., 2., 1., 2., 1., 3., 1., 2., 3., 3., 2., 2., 2., 1., 2., 3., 1.,\n",
       "        1., 1., 1., 3., 1., 2., 2., 2., 2., 2., 1., 2., 1., 2., 1., 3., 3.,\n",
       "        1., 1., 1., 3., 2., 1., 1., 1., 2., 2., 3., 3., 2., 2., 3., 2., 2.,\n",
       "        1., 2., 3., 1., 3., 1., 2., 2., 1., 2., 1., 2., 2., 1., 2., 2., 2.,\n",
       "        1., 2., 1., 1., 2., 3., 2., 1., 3., 1., 1., 1., 1., 1., 1., 2., 1.,\n",
       "        2., 2., 3., 2., 2., 2., 2., 1., 1., 2., 1., 1., 2., 2., 1.])]"
      ]
     },
     "execution_count": 46,
     "metadata": {},
     "output_type": "execute_result"
    }
   ],
   "source": [
    "predicts # prediction for all tree and all fold sample there has 10 fold ( here only one is shown)"
   ]
  },
  {
   "cell_type": "code",
   "execution_count": 47,
   "metadata": {},
   "outputs": [
    {
     "data": {
      "text/plain": [
       "array([2., 2., 1., 2., 1., 3., 1., 2., 3., 3., 2., 2., 2., 1., 2., 3., 1.,\n",
       "       1., 1., 1., 3., 1., 2., 2., 2., 2., 2., 1., 2., 1., 2., 1., 3., 3.,\n",
       "       1., 1., 1., 3., 2., 1., 1., 1., 2., 2., 3., 3., 2., 2., 3., 2., 2.,\n",
       "       1., 2., 3., 1., 3., 1., 2., 2., 1., 2., 1., 2., 2., 1., 2., 2., 2.,\n",
       "       1., 2., 1., 1., 2., 3., 2., 1., 3., 1., 1., 1., 1., 1., 1., 2., 1.,\n",
       "       2., 2., 3., 2., 2., 2., 2., 1., 1., 2., 1., 1., 2., 2., 1.])"
      ]
     },
     "execution_count": 47,
     "metadata": {},
     "output_type": "execute_result"
    }
   ],
   "source": [
    "predicts[0] # prediction for one fold contain 100 samples"
   ]
  },
  {
   "cell_type": "code",
   "execution_count": 57,
   "metadata": {},
   "outputs": [
    {
     "data": {
      "text/plain": [
       "(100,)"
      ]
     },
     "execution_count": 57,
     "metadata": {},
     "output_type": "execute_result"
    }
   ],
   "source": [
    "predicts[0].shape"
   ]
  },
  {
   "cell_type": "code",
   "execution_count": 48,
   "metadata": {},
   "outputs": [],
   "source": [
    "values = list()"
   ]
  },
  {
   "cell_type": "code",
   "execution_count": 49,
   "metadata": {},
   "outputs": [],
   "source": [
    "values.append(predicts[0][0]) # collect all predictions for same sample data for 10 trees or folds"
   ]
  },
  {
   "cell_type": "code",
   "execution_count": 50,
   "metadata": {},
   "outputs": [
    {
     "data": {
      "text/plain": [
       "[np.float64(2.0)]"
      ]
     },
     "execution_count": 50,
     "metadata": {},
     "output_type": "execute_result"
    }
   ],
   "source": [
    "values"
   ]
  },
  {
   "cell_type": "code",
   "execution_count": 51,
   "metadata": {},
   "outputs": [
    {
     "data": {
      "text/plain": [
       "np.float64(2.0)"
      ]
     },
     "execution_count": 51,
     "metadata": {},
     "output_type": "execute_result"
    }
   ],
   "source": [
    "max(set(values), key=values.count) # for maximum predictions or votes for same sample"
   ]
  },
  {
   "cell_type": "code",
   "execution_count": null,
   "metadata": {},
   "outputs": [],
   "source": [
    "# set(values): Converts the collection of values into a set, which removes duplicates.\n",
    "# max(...): Finds the maximum value in the set, based on a custom key function.\n",
    "# key=values.count: Specifies a key function that returns the count of each value in the original collection.\n",
    "# How it works:\n",
    "# The max function iterates over the unique values in the set.\n",
    "# For each value, it calls the count method on the original collection, which returns the number of occurrences of that value.\n",
    "# The max function then returns the value with the highest count.\n",
    "# Example:\n",
    "# Python\n",
    "# values = [1, 2, 2, 3, 3, 3, 4, 4, 4, 4]\n",
    "# most_frequent = max(set(values), key=values.count)\n",
    "# print(most_frequent)  # Output: 4"
   ]
  },
  {
   "cell_type": "code",
   "execution_count": 52,
   "metadata": {},
   "outputs": [],
   "source": [
    "final_predicts.append(max(set(values), key=values.count)) # results of vote for all samples"
   ]
  },
  {
   "cell_type": "code",
   "execution_count": 53,
   "metadata": {},
   "outputs": [
    {
     "data": {
      "text/plain": [
       "[np.float64(2.0)]"
      ]
     },
     "execution_count": 53,
     "metadata": {},
     "output_type": "execute_result"
    }
   ],
   "source": [
    "final_predicts"
   ]
  },
  {
   "cell_type": "code",
   "execution_count": 64,
   "metadata": {},
   "outputs": [],
   "source": [
    "def predict(X):\n",
    "    \"\"\"\n",
    "    This function outputs the class value for each instance of the given dataset as predicted by the random forest algorithm.\n",
    "    Parameters:\n",
    "    X (np.array): Dataset with labels\n",
    "\n",
    "    Returns y (np.array): array with the predicted class values of the dataset\n",
    "    \"\"\"\n",
    "    predicts = list()\n",
    "    final_predicts = list()\n",
    "    for tree in trees:\n",
    "        predicts.append(tree.predict(X))\n",
    "    # iterate through each tree's class prediction and find the most frequent for each instance\n",
    "    for i in range(len(predicts[0])):\n",
    "        values = list()\n",
    "        for j in range(len(predicts)):\n",
    "            values.append(predicts[j][i])\n",
    "        final_predicts.append(max(set(values), key=values.count))\n",
    "    return final_predicts,predicts\n"
   ]
  },
  {
   "cell_type": "code",
   "execution_count": 65,
   "metadata": {},
   "outputs": [],
   "source": [
    "train(mock_train)"
   ]
  },
  {
   "cell_type": "code",
   "execution_count": 66,
   "metadata": {},
   "outputs": [
    {
     "name": "stdout",
     "output_type": "stream",
     "text": [
      "Accuracy of random forest: 0.53\n",
      "\n",
      "Accuracy for each individual tree:\n"
     ]
    }
   ],
   "source": [
    "y_pred,y_pred_ind = predict(mock_train)\n",
    "print(f\"Accuracy of random forest: {sum(y_pred == mock_y) / mock_y.shape[0]}\")\n",
    "print(\"\\nAccuracy for each individual tree:\")"
   ]
  },
  {
   "cell_type": "code",
   "execution_count": 67,
   "metadata": {},
   "outputs": [
    {
     "name": "stdout",
     "output_type": "stream",
     "text": [
      "\n",
      "Tree 1\n",
      "Accuracy: 0.54\n",
      "\n",
      "Tree 2\n",
      "Accuracy: 0.36\n"
     ]
    }
   ],
   "source": [
    "c = 1\n",
    "for i in y_pred_ind:\n",
    "    print(\"\\nTree\",c)\n",
    "    print(f\"Accuracy: {sum(i == mock_y) / mock_y.shape[0]}\")\n",
    "    c = c+1"
   ]
  }
 ],
 "metadata": {
  "kernelspec": {
   "display_name": "Python 3",
   "language": "python",
   "name": "python3"
  },
  "language_info": {
   "codemirror_mode": {
    "name": "ipython",
    "version": 3
   },
   "file_extension": ".py",
   "mimetype": "text/x-python",
   "name": "python",
   "nbconvert_exporter": "python",
   "pygments_lexer": "ipython3",
   "version": "3.11.0"
  }
 },
 "nbformat": 4,
 "nbformat_minor": 2
}
