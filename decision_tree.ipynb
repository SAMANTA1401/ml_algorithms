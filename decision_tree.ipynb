{
 "cells": [
  {
   "cell_type": "code",
   "execution_count": 1,
   "metadata": {},
   "outputs": [],
   "source": [
    "import numpy as np\n",
    "from  collections import Counter"
   ]
  },
  {
   "cell_type": "code",
   "execution_count": 2,
   "metadata": {},
   "outputs": [],
   "source": [
    "X = np.array([[1, 1,0], [3, 1, 0], [1, 4, 0], [2, 4, 1], [3, 3, 1], [5, 1, 1]])\n",
    "y = np.array([0, 0, 0, 1, 1, 1])\n"
   ]
  },
  {
   "cell_type": "code",
   "execution_count": 3,
   "metadata": {},
   "outputs": [],
   "source": [
    "# root        #                                                      0\n",
    "# 1st feature #                   1             |                2               |                3              |                 5\n",
    "# 2nd feature #   1    |    3    |    4    ||     1     |   3   |      4    ||     1    |    3    |     4   ||     1    |    3   |   4\n",
    "# target/leaf #   0      1||  0    1 ||  0   1 ||  0     1 ||  0 1  ||  0    1  ||  0    1 ||  0    1 ||  0   1 ||   0   1 ||  0  1 || 0   1\n"
   ]
  },
  {
   "cell_type": "code",
   "execution_count": 4,
   "metadata": {},
   "outputs": [],
   "source": [
    "max_depth = 5\n",
    "min_node_size = 1"
   ]
  },
  {
   "cell_type": "code",
   "execution_count": 5,
   "metadata": {},
   "outputs": [],
   "source": [
    "final_tree = {}"
   ]
  },
  {
   "cell_type": "markdown",
   "metadata": {},
   "source": [
    "To find best value of best feature as per min gini index which split data into classes approximately same count or row\n",
    "that means if there is 2  classes and 4 row then it will be splitted into 2 and 2 into 2 classes"
   ]
  },
  {
   "cell_type": "markdown",
   "metadata": {},
   "source": [
    "Metric used to apply the split on the data is the Gini index which is calculated for each feature's single value\n",
    "in order to find the best split on each step. This means there is room for improvement performance wise as this\n",
    "process is O(n^2) and can be reduced to linear complexity."
   ]
  },
  {
   "cell_type": "code",
   "execution_count": 6,
   "metadata": {},
   "outputs": [],
   "source": [
    "\n",
    "# The Gini Index is a measure of impurity or diversity in a dataset, commonly used in Decision Trees and Random Forests. It calculates the probability of incorrectly classifying a randomly chosen element from the dataset.\n",
    "# Gini Index Formula:\n",
    "# The Gini Index is calculated using the following formula:\n",
    "# Gini(D) = 1 - ∑(p^2)\n",
    "# where:\n",
    "# Gini(D) is the Gini Index of the dataset D.\n",
    "# p is the proportion of each class in the dataset.\n",
    "# How it works:\n",
    "# Calculate the proportion of each class in the dataset.\n",
    "# Square each proportion (p^2).\n",
    "# Sum up the squared proportions.\n",
    "# Subtract the sum from 1 to get the Gini Index.\n",
    "# Interpretation:\n",
    "# A Gini Index of:\n",
    "# 0 indicates that all elements belong to the same class (perfectly pure).\n",
    "# 1 indicates that the elements are evenly distributed among all classes (perfectly impure).\n",
    "# A value between 0 and 1 indicates the level of impurity.\n",
    "# Example:\n",
    "# Suppose we have a dataset with two classes, A and B, with proportions:\n",
    "# Class A: 0.4 (40%)\n",
    "# Class B: 0.6 (60%)\n",
    "# The Gini Index would be:\n",
    "# Gini(D) = 1 - (0.4^2 + 0.6^2)\n",
    "# = 1 - (0.16 + 0.36)\n",
    "# = 1 - 0.52\n",
    "# = 0.48\n",
    "# This indicates that the dataset has a moderate level of impurity."
   ]
  },
  {
   "cell_type": "code",
   "execution_count": 7,
   "metadata": {},
   "outputs": [],
   "source": [
    "train_data = np.loadtxt(\"data.txt\", delimiter=\",\")"
   ]
  },
  {
   "cell_type": "code",
   "execution_count": 8,
   "metadata": {},
   "outputs": [
    {
     "data": {
      "text/plain": [
       "array([[ 1.1107, -2.1079,  1.    ],\n",
       "       [-0.5498,  0.0943,  1.    ],\n",
       "       [-0.0382,  1.8829,  1.    ],\n",
       "       [ 0.0555, -0.6139,  1.    ],\n",
       "       [ 0.587 , -1.2067,  1.    ]])"
      ]
     },
     "execution_count": 8,
     "metadata": {},
     "output_type": "execute_result"
    }
   ],
   "source": [
    "train_data[:5]"
   ]
  },
  {
   "cell_type": "code",
   "execution_count": 9,
   "metadata": {},
   "outputs": [],
   "source": [
    "train_y = np.loadtxt(\"target.txt\")"
   ]
  },
  {
   "cell_type": "code",
   "execution_count": 10,
   "metadata": {},
   "outputs": [
    {
     "data": {
      "text/plain": [
       "array([1., 1., 1., 1., 1.])"
      ]
     },
     "execution_count": 10,
     "metadata": {},
     "output_type": "execute_result"
    }
   ],
   "source": [
    "train_y[:5]"
   ]
  },
  {
   "cell_type": "code",
   "execution_count": 11,
   "metadata": {},
   "outputs": [
    {
     "data": {
      "text/plain": [
       "(90, 3)"
      ]
     },
     "execution_count": 11,
     "metadata": {},
     "output_type": "execute_result"
    }
   ],
   "source": [
    "train_data.shape"
   ]
  },
  {
   "cell_type": "code",
   "execution_count": 12,
   "metadata": {},
   "outputs": [
    {
     "data": {
      "text/plain": [
       "90"
      ]
     },
     "execution_count": 12,
     "metadata": {},
     "output_type": "execute_result"
    }
   ],
   "source": [
    "len(train_data)"
   ]
  },
  {
   "cell_type": "code",
   "execution_count": 13,
   "metadata": {},
   "outputs": [
    {
     "data": {
      "text/plain": [
       "array([ 1.1107, -2.1079,  1.    ])"
      ]
     },
     "execution_count": 13,
     "metadata": {},
     "output_type": "execute_result"
    }
   ],
   "source": [
    "train_data[0]"
   ]
  },
  {
   "cell_type": "code",
   "execution_count": 14,
   "metadata": {},
   "outputs": [
    {
     "data": {
      "text/plain": [
       "3"
      ]
     },
     "execution_count": 14,
     "metadata": {},
     "output_type": "execute_result"
    }
   ],
   "source": [
    "len(train_data[0]) # len of first row of training data"
   ]
  },
  {
   "cell_type": "code",
   "execution_count": 15,
   "metadata": {},
   "outputs": [],
   "source": [
    "no_of_features = len(train_data[0])-1 # 2 features 1 target column"
   ]
  },
  {
   "cell_type": "code",
   "execution_count": 16,
   "metadata": {},
   "outputs": [
    {
     "data": {
      "text/plain": [
       "2"
      ]
     },
     "execution_count": 16,
     "metadata": {},
     "output_type": "execute_result"
    }
   ],
   "source": [
    "no_of_features"
   ]
  },
  {
   "cell_type": "code",
   "execution_count": 17,
   "metadata": {},
   "outputs": [],
   "source": [
    "gini_score = 1000\n",
    "f_index = 0\n",
    "f_value = 0"
   ]
  },
  {
   "cell_type": "code",
   "execution_count": 18,
   "metadata": {},
   "outputs": [],
   "source": [
    "# for 1st iteration: 1st value as threshod\n",
    "row = 0\n",
    "column = 0 # feature index\n",
    "\n",
    "value = train_data[row][column]  # threshold value"
   ]
  },
  {
   "cell_type": "code",
   "execution_count": 19,
   "metadata": {},
   "outputs": [
    {
     "data": {
      "text/plain": [
       "np.float64(1.1107)"
      ]
     },
     "execution_count": 19,
     "metadata": {},
     "output_type": "execute_result"
    }
   ],
   "source": [
    "value"
   ]
  },
  {
   "cell_type": "code",
   "execution_count": 20,
   "metadata": {},
   "outputs": [
    {
     "data": {
      "text/plain": [
       "array([[ 1.1107, -2.1079,  1.    ],\n",
       "       [-0.5498,  0.0943,  1.    ],\n",
       "       [-0.0382,  1.8829,  1.    ],\n",
       "       [ 0.0555, -0.6139,  1.    ],\n",
       "       [ 0.587 , -1.2067,  1.    ]])"
      ]
     },
     "execution_count": 20,
     "metadata": {},
     "output_type": "execute_result"
    }
   ],
   "source": [
    "train_data[:5]"
   ]
  },
  {
   "cell_type": "code",
   "execution_count": 21,
   "metadata": {},
   "outputs": [],
   "source": [
    "instances = train_data.tolist()"
   ]
  },
  {
   "cell_type": "code",
   "execution_count": 22,
   "metadata": {},
   "outputs": [
    {
     "data": {
      "text/plain": [
       "[[1.1107, -2.1079, 1.0],\n",
       " [-0.5498, 0.0943, 1.0],\n",
       " [-0.0382, 1.8829, 1.0],\n",
       " [0.0555, -0.6139, 1.0],\n",
       " [0.587, -1.2067, 1.0]]"
      ]
     },
     "execution_count": 22,
     "metadata": {},
     "output_type": "execute_result"
    }
   ],
   "source": [
    "instances[:5]"
   ]
  },
  {
   "cell_type": "markdown",
   "metadata": {},
   "source": [
    "apply split"
   ]
  },
  {
   "cell_type": "code",
   "execution_count": 23,
   "metadata": {},
   "outputs": [],
   "source": [
    "left_child = []\n",
    "\n",
    "right_child = []\n"
   ]
  },
  {
   "cell_type": "code",
   "execution_count": 24,
   "metadata": {},
   "outputs": [],
   "source": [
    "if instances[0][0] < value:\n",
    "    left_child.append(instances[0])\n",
    "else:\n",
    "    right_child.append(instances[0])"
   ]
  },
  {
   "cell_type": "code",
   "execution_count": 25,
   "metadata": {},
   "outputs": [
    {
     "data": {
      "text/plain": [
       "[]"
      ]
     },
     "execution_count": 25,
     "metadata": {},
     "output_type": "execute_result"
    }
   ],
   "source": [
    "left_child"
   ]
  },
  {
   "cell_type": "code",
   "execution_count": 26,
   "metadata": {},
   "outputs": [
    {
     "data": {
      "text/plain": [
       "[[1.1107, -2.1079, 1.0]]"
      ]
     },
     "execution_count": 26,
     "metadata": {},
     "output_type": "execute_result"
    }
   ],
   "source": [
    "right_child"
   ]
  },
  {
   "cell_type": "code",
   "execution_count": 27,
   "metadata": {},
   "outputs": [],
   "source": [
    "for row in instances:\n",
    "    if row[0] < value:\n",
    "        left_child.append(row)\n",
    "    else:\n",
    "        right_child.append(row)"
   ]
  },
  {
   "cell_type": "code",
   "execution_count": 28,
   "metadata": {},
   "outputs": [
    {
     "data": {
      "text/plain": [
       "[[-0.5498, 0.0943, 1.0],\n",
       " [-0.0382, 1.8829, 1.0],\n",
       " [0.0555, -0.6139, 1.0],\n",
       " [0.587, -1.2067, 1.0],\n",
       " [0.5453, 0.2509, 1.0],\n",
       " [-0.3927, -0.622, 1.0],\n",
       " [-1.1905, -1.8785, 1.0],\n",
       " [-0.424, 0.7772, 1.0],\n",
       " [-0.7139, 1.5846, 1.0],\n",
       " [-0.8883, 2.1408, 1.0],\n",
       " [-0.6922, 0.0993, 1.0],\n",
       " [-0.7576, 0.7386, 1.0],\n",
       " [-1.1144, -1.7059, 1.0],\n",
       " [0.6612, -1.7296, 1.0],\n",
       " [-2.1381, -0.06, 1.0],\n",
       " [-1.4951, 0.0373, 1.0],\n",
       " [0.8029, 0.9739, 1.0],\n",
       " [0.8563, -1.4245, 1.0],\n",
       " [0.0397, -1.3799, 1.0],\n",
       " [-2.0015, 0.8355, 1.0],\n",
       " [-0.3428, -0.478, 1.0],\n",
       " [-0.8891, 1.2634, 1.0],\n",
       " [0.3832, -0.1189, 1.0],\n",
       " [0.4172, 1.0132, 1.0],\n",
       " [-0.8695, -0.7947, 1.0],\n",
       " [0.1166, 0.9435, 2.0],\n",
       " [0.6896, 3.916, 2.0],\n",
       " [0.929, 3.3611, 2.0],\n",
       " [1.0101, 1.8737, 2.0],\n",
       " [0.4212, 3.5322, 2.0],\n",
       " [0.338, 2.0947, 2.0],\n",
       " [-0.5332, 3.1421, 2.0],\n",
       " [0.338, 3.0801, 2.0],\n",
       " [0.0988, 1.9522, 2.0],\n",
       " [0.3688, 2.8904, 2.0],\n",
       " [0.8358, -2.3349, 3.0],\n",
       " [0.5365, -3.6555, 3.0],\n",
       " [0.8168, -3.1133, 3.0],\n",
       " [1.1039, -2.2261, 3.0],\n",
       " [0.6757, -2.5379, 3.0],\n",
       " [-0.2029, -3.842, 3.0],\n",
       " [1.0335, -2.6042, 3.0],\n",
       " [0.9638, -2.9449, 3.0],\n",
       " [-0.8198, -5.4449, 3.0],\n",
       " [0.3505, -3.1887, 3.0],\n",
       " [0.5994, -3.0513, 3.0]]"
      ]
     },
     "execution_count": 28,
     "metadata": {},
     "output_type": "execute_result"
    }
   ],
   "source": [
    "left_child"
   ]
  },
  {
   "cell_type": "code",
   "execution_count": 29,
   "metadata": {},
   "outputs": [
    {
     "data": {
      "text/plain": [
       "[[1.1107, -2.1079, 1.0],\n",
       " [1.1107, -2.1079, 1.0],\n",
       " [1.435, 1.2334, 1.0],\n",
       " [1.3857, 1.2178, 1.0],\n",
       " [1.5607, 1.5862, 1.0],\n",
       " [1.2331, 1.7421, 1.0],\n",
       " [2.9737, 3.6438, 2.0],\n",
       " [3.768, 1.8649, 2.0],\n",
       " [1.2234, 2.9899, 2.0],\n",
       " [2.3009, 0.415, 2.0],\n",
       " [3.7693, 3.8027, 2.0],\n",
       " [1.945, 3.4208, 2.0],\n",
       " [5.0027, 2.787, 2.0],\n",
       " [2.0751, 2.2628, 2.0],\n",
       " [1.9113, 3.6777, 2.0],\n",
       " [2.3127, 3.913, 2.0],\n",
       " [1.9392, 2.3976, 2.0],\n",
       " [3.1218, 2.5495, 2.0],\n",
       " [1.7032, 1.1509, 2.0],\n",
       " [2.7686, 0.9402, 2.0],\n",
       " [2.1696, 2.9285, 2.0],\n",
       " [3.6886, 0.4054, 2.0],\n",
       " [2.6315, 3.1962, 2.0],\n",
       " [1.403, 1.1841, 2.0],\n",
       " [2.8739, 2.7777, 2.0],\n",
       " [1.1254, 3.2404, 2.0],\n",
       " [1.4758, -1.6387, 3.0],\n",
       " [1.9289, -1.8191, 3.0],\n",
       " [2.5741, -1.3213, 3.0],\n",
       " [2.1917, -1.2852, 3.0],\n",
       " [2.6863, -1.8834, 3.0],\n",
       " [3.1102, -0.4854, 3.0],\n",
       " [3.7073, -0.6466, 3.0],\n",
       " [3.6394, -0.4097, 3.0],\n",
       " [2.9295, -0.3819, 3.0],\n",
       " [1.3432, -1.7717, 3.0],\n",
       " [1.3754, -2.2236, 3.0],\n",
       " [2.421, -1.9788, 3.0],\n",
       " [1.9552, -1.553, 3.0],\n",
       " [2.4943, -1.8116, 3.0],\n",
       " [1.9761, -1.0664, 3.0],\n",
       " [2.2076, -1.6728, 3.0],\n",
       " [1.9941, -1.8826, 3.0],\n",
       " [1.7487, -2.9644, 3.0],\n",
       " [1.416, -2.4234, 3.0]]"
      ]
     },
     "execution_count": 29,
     "metadata": {},
     "output_type": "execute_result"
    }
   ],
   "source": [
    "right_child"
   ]
  },
  {
   "cell_type": "code",
   "execution_count": 30,
   "metadata": {},
   "outputs": [],
   "source": [
    "left_child1 = []\n",
    "right_child1 = []"
   ]
  },
  {
   "cell_type": "code",
   "execution_count": 31,
   "metadata": {},
   "outputs": [],
   "source": [
    "for row in left_child:\n",
    "    if row[0] < left_child[0][0]:\n",
    "        left_child1.append(row)\n",
    "    else:\n",
    "        right_child1.append(row)"
   ]
  },
  {
   "cell_type": "code",
   "execution_count": 32,
   "metadata": {},
   "outputs": [
    {
     "data": {
      "text/plain": [
       "[[-1.1905, -1.8785, 1.0],\n",
       " [-0.7139, 1.5846, 1.0],\n",
       " [-0.8883, 2.1408, 1.0],\n",
       " [-0.6922, 0.0993, 1.0],\n",
       " [-0.7576, 0.7386, 1.0],\n",
       " [-1.1144, -1.7059, 1.0],\n",
       " [-2.1381, -0.06, 1.0],\n",
       " [-1.4951, 0.0373, 1.0],\n",
       " [-2.0015, 0.8355, 1.0],\n",
       " [-0.8891, 1.2634, 1.0],\n",
       " [-0.8695, -0.7947, 1.0],\n",
       " [-0.8198, -5.4449, 3.0]]"
      ]
     },
     "execution_count": 32,
     "metadata": {},
     "output_type": "execute_result"
    }
   ],
   "source": [
    "left_child1"
   ]
  },
  {
   "cell_type": "code",
   "execution_count": 33,
   "metadata": {},
   "outputs": [
    {
     "data": {
      "text/plain": [
       "[[-0.5498, 0.0943, 1.0],\n",
       " [-0.0382, 1.8829, 1.0],\n",
       " [0.0555, -0.6139, 1.0],\n",
       " [0.587, -1.2067, 1.0],\n",
       " [0.5453, 0.2509, 1.0],\n",
       " [-0.3927, -0.622, 1.0],\n",
       " [-0.424, 0.7772, 1.0],\n",
       " [0.6612, -1.7296, 1.0],\n",
       " [0.8029, 0.9739, 1.0],\n",
       " [0.8563, -1.4245, 1.0],\n",
       " [0.0397, -1.3799, 1.0],\n",
       " [-0.3428, -0.478, 1.0],\n",
       " [0.3832, -0.1189, 1.0],\n",
       " [0.4172, 1.0132, 1.0],\n",
       " [0.1166, 0.9435, 2.0],\n",
       " [0.6896, 3.916, 2.0],\n",
       " [0.929, 3.3611, 2.0],\n",
       " [1.0101, 1.8737, 2.0],\n",
       " [0.4212, 3.5322, 2.0],\n",
       " [0.338, 2.0947, 2.0],\n",
       " [-0.5332, 3.1421, 2.0],\n",
       " [0.338, 3.0801, 2.0],\n",
       " [0.0988, 1.9522, 2.0],\n",
       " [0.3688, 2.8904, 2.0],\n",
       " [0.8358, -2.3349, 3.0],\n",
       " [0.5365, -3.6555, 3.0],\n",
       " [0.8168, -3.1133, 3.0],\n",
       " [1.1039, -2.2261, 3.0],\n",
       " [0.6757, -2.5379, 3.0],\n",
       " [-0.2029, -3.842, 3.0],\n",
       " [1.0335, -2.6042, 3.0],\n",
       " [0.9638, -2.9449, 3.0],\n",
       " [0.3505, -3.1887, 3.0],\n",
       " [0.5994, -3.0513, 3.0]]"
      ]
     },
     "execution_count": 33,
     "metadata": {},
     "output_type": "execute_result"
    }
   ],
   "source": [
    "right_child1"
   ]
  },
  {
   "cell_type": "code",
   "execution_count": 34,
   "metadata": {},
   "outputs": [
    {
     "data": {
      "text/plain": [
       "90"
      ]
     },
     "execution_count": 34,
     "metadata": {},
     "output_type": "execute_result"
    }
   ],
   "source": [
    "len(train_data)"
   ]
  },
  {
   "cell_type": "code",
   "execution_count": 35,
   "metadata": {},
   "outputs": [
    {
     "data": {
      "text/plain": [
       "46"
      ]
     },
     "execution_count": 35,
     "metadata": {},
     "output_type": "execute_result"
    }
   ],
   "source": [
    "len(left_child) # 12 + 34"
   ]
  },
  {
   "cell_type": "code",
   "execution_count": 36,
   "metadata": {},
   "outputs": [
    {
     "data": {
      "text/plain": [
       "45"
      ]
     },
     "execution_count": 36,
     "metadata": {},
     "output_type": "execute_result"
    }
   ],
   "source": [
    "len(right_child)"
   ]
  },
  {
   "cell_type": "code",
   "execution_count": 37,
   "metadata": {},
   "outputs": [
    {
     "data": {
      "text/plain": [
       "12"
      ]
     },
     "execution_count": 37,
     "metadata": {},
     "output_type": "execute_result"
    }
   ],
   "source": [
    "len(left_child1) # child of left child"
   ]
  },
  {
   "cell_type": "code",
   "execution_count": 38,
   "metadata": {},
   "outputs": [
    {
     "data": {
      "text/plain": [
       "34"
      ]
     },
     "execution_count": 38,
     "metadata": {},
     "output_type": "execute_result"
    }
   ],
   "source": [
    "len(right_child1) # child of left child"
   ]
  },
  {
   "cell_type": "code",
   "execution_count": 39,
   "metadata": {},
   "outputs": [],
   "source": [
    "left_child = np.array(left_child)\n",
    "right_child = np.array(right_child)"
   ]
  },
  {
   "cell_type": "code",
   "execution_count": 40,
   "metadata": {},
   "outputs": [],
   "source": [
    "children = [left_child, right_child]"
   ]
  },
  {
   "cell_type": "code",
   "execution_count": 84,
   "metadata": {},
   "outputs": [],
   "source": [
    "def apply_split(feature_index, threshold, data):\n",
    "    \"\"\"\n",
    "        This function splits the dataset on certain value of a feature\n",
    "        Parameters:\n",
    "        feature_index (int): Index of selected feature\n",
    "        \n",
    "        threshold : Value of the feature split point\n",
    "        \n",
    "\n",
    "        Returns:\n",
    "        np.array: Two new groups of split instances\n",
    "\n",
    "    \"\"\"\n",
    "    instances = data.tolist()\n",
    "    left_child = []\n",
    "    right_child = []\n",
    "    for row in instances:\n",
    "        if row[feature_index] < threshold:\n",
    "            left_child.append(row)\n",
    "        else:\n",
    "            right_child.append(row)\n",
    "    left_child = np.array(left_child)\n",
    "    right_child = np.array(right_child)\n",
    "    return left_child, right_child"
   ]
  },
  {
   "cell_type": "markdown",
   "metadata": {},
   "source": [
    "calculate gini index"
   ]
  },
  {
   "cell_type": "code",
   "execution_count": 42,
   "metadata": {},
   "outputs": [],
   "source": [
    "n = len(left_child) + len(right_child)"
   ]
  },
  {
   "cell_type": "code",
   "execution_count": 43,
   "metadata": {},
   "outputs": [
    {
     "data": {
      "text/plain": [
       "91"
      ]
     },
     "execution_count": 43,
     "metadata": {},
     "output_type": "execute_result"
    }
   ],
   "source": [
    "n"
   ]
  },
  {
   "cell_type": "code",
   "execution_count": 44,
   "metadata": {},
   "outputs": [],
   "source": [
    "m1 = len(left_child)"
   ]
  },
  {
   "cell_type": "code",
   "execution_count": 45,
   "metadata": {},
   "outputs": [
    {
     "data": {
      "text/plain": [
       "46"
      ]
     },
     "execution_count": 45,
     "metadata": {},
     "output_type": "execute_result"
    }
   ],
   "source": [
    "m1"
   ]
  },
  {
   "cell_type": "code",
   "execution_count": 46,
   "metadata": {},
   "outputs": [],
   "source": [
    "# Create a list with each instance's class value\n",
    "y1 = []\n",
    "for row in left_child:\n",
    "    y1.append(row[-1])"
   ]
  },
  {
   "cell_type": "code",
   "execution_count": 47,
   "metadata": {},
   "outputs": [
    {
     "data": {
      "text/plain": [
       "[np.float64(1.0),\n",
       " np.float64(1.0),\n",
       " np.float64(1.0),\n",
       " np.float64(1.0),\n",
       " np.float64(1.0),\n",
       " np.float64(1.0),\n",
       " np.float64(1.0),\n",
       " np.float64(1.0),\n",
       " np.float64(1.0),\n",
       " np.float64(1.0),\n",
       " np.float64(1.0),\n",
       " np.float64(1.0),\n",
       " np.float64(1.0),\n",
       " np.float64(1.0),\n",
       " np.float64(1.0),\n",
       " np.float64(1.0),\n",
       " np.float64(1.0),\n",
       " np.float64(1.0),\n",
       " np.float64(1.0),\n",
       " np.float64(1.0),\n",
       " np.float64(1.0),\n",
       " np.float64(1.0),\n",
       " np.float64(1.0),\n",
       " np.float64(1.0),\n",
       " np.float64(1.0),\n",
       " np.float64(2.0),\n",
       " np.float64(2.0),\n",
       " np.float64(2.0),\n",
       " np.float64(2.0),\n",
       " np.float64(2.0),\n",
       " np.float64(2.0),\n",
       " np.float64(2.0),\n",
       " np.float64(2.0),\n",
       " np.float64(2.0),\n",
       " np.float64(2.0),\n",
       " np.float64(3.0),\n",
       " np.float64(3.0),\n",
       " np.float64(3.0),\n",
       " np.float64(3.0),\n",
       " np.float64(3.0),\n",
       " np.float64(3.0),\n",
       " np.float64(3.0),\n",
       " np.float64(3.0),\n",
       " np.float64(3.0),\n",
       " np.float64(3.0),\n",
       " np.float64(3.0)]"
      ]
     },
     "execution_count": 47,
     "metadata": {},
     "output_type": "execute_result"
    }
   ],
   "source": [
    "y1"
   ]
  },
  {
   "cell_type": "code",
   "execution_count": 48,
   "metadata": {},
   "outputs": [],
   "source": [
    "freq1 = Counter(y1).values()"
   ]
  },
  {
   "cell_type": "code",
   "execution_count": 49,
   "metadata": {},
   "outputs": [
    {
     "data": {
      "text/plain": [
       "dict_values([25, 10, 11])"
      ]
     },
     "execution_count": 49,
     "metadata": {},
     "output_type": "execute_result"
    }
   ],
   "source": [
    "freq1 # for class 1 , 2 , 3"
   ]
  },
  {
   "cell_type": "code",
   "execution_count": 50,
   "metadata": {},
   "outputs": [],
   "source": [
    "# gini of this first node or value\n",
    "node_gini1 = 1\n",
    "for i in freq1:\n",
    "    node_gini1 = node_gini1 - (i/m1)**2  # 1 - (25/46)^2 - (10/46)^2 - (11/46)^2\n"
   ]
  },
  {
   "cell_type": "code",
   "execution_count": 51,
   "metadata": {},
   "outputs": [
    {
     "data": {
      "text/plain": [
       "0.6001890359168242"
      ]
     },
     "execution_count": 51,
     "metadata": {},
     "output_type": "execute_result"
    }
   ],
   "source": [
    "node_gini1 # if all are in same class gin 0 gini increse with increaed impurity , \n",
    "# 0 indicates that all elements belong to the same class (perfectly pure).\n",
    "# 1 indicates that the elements are evenly distributed among all classes (perfectly impure).\n",
    "# A value between 0 and 1 indicates the level of impurity."
   ]
  },
  {
   "cell_type": "code",
   "execution_count": 52,
   "metadata": {},
   "outputs": [],
   "source": [
    "gini = 0"
   ]
  },
  {
   "cell_type": "code",
   "execution_count": 53,
   "metadata": {},
   "outputs": [],
   "source": [
    "gini = gini + (m1 / n) * node_gini1 "
   ]
  },
  {
   "cell_type": "code",
   "execution_count": 54,
   "metadata": {},
   "outputs": [
    {
     "data": {
      "text/plain": [
       "0.303392259913999"
      ]
     },
     "execution_count": 54,
     "metadata": {},
     "output_type": "execute_result"
    }
   ],
   "source": [
    "gini # calculate node_gini for right child then calculate gini finally add thid 2 gini to get total gini"
   ]
  },
  {
   "cell_type": "code",
   "execution_count": 85,
   "metadata": {},
   "outputs": [],
   "source": [
    "# This function calculates the gini index of a split in the dataset\n",
    "# Firstly the gini score is calculated for each child node and the resulting Gini is \n",
    "# the weighted sum of gini_left and gini_right\n",
    "\n",
    "def calculate_gini( child_nodes):\n",
    "        \"\"\"\n",
    "            This function calculates the gini index of a split in the dataset\n",
    "            Firstly the gini score is calculated for each child note and the resulting Gini is the weighted sum of gini_left and gini_right\n",
    "\n",
    "            Parameters:\n",
    "            child_nodes (list of np arrays): The two groups of instances resulting from the split\n",
    "\n",
    "            Returns:\n",
    "            float:Gini index of the split \n",
    "\n",
    "        \"\"\"\n",
    "        n = 0\n",
    "        # Calculate number of all instances of the parent node\n",
    "        for node in child_nodes:\n",
    "            n = n + len(node)\n",
    "        gini = 0\n",
    "        # Calculate gini index for each child node\n",
    "        for node in child_nodes:\n",
    "            m = len(node)\n",
    "\n",
    "            # Avoid division by zero if a child node is empty\n",
    "            if m == 0:\n",
    "                continue\n",
    "\n",
    "            # Create a list with each instance's class value\n",
    "            y = []\n",
    "            for row in node:\n",
    "                y.append(row[-1])\n",
    "\n",
    "            # Count the frequency for each class value\n",
    "            freq = Counter(y).values()\n",
    "            node_gini = 1\n",
    "            for i in freq:\n",
    "                node_gini = node_gini - (i / m) ** 2\n",
    "            gini = gini + (m / n) * node_gini\n",
    "        return gini"
   ]
  },
  {
   "cell_type": "code",
   "execution_count": 56,
   "metadata": {},
   "outputs": [],
   "source": [
    "gini_score = 1000\n",
    "\n",
    "if gini < gini_score:\n",
    "    gini_score = gini\n",
    "    f_index = 0\n",
    "    f_value = value\n",
    "    child_nodes = [left_child, right_child]\n",
    "\n",
    "# print(\"Chosen feature is {} and its value is {} with gini index {}\".format(f_index,f_value,gini_score))\n",
    "node = {\"feature\": f_index, \"value\": f_value, \"children\": child_nodes}"
   ]
  },
  {
   "cell_type": "code",
   "execution_count": 57,
   "metadata": {},
   "outputs": [
    {
     "data": {
      "text/plain": [
       "{'feature': 0,\n",
       " 'value': np.float64(1.1107),\n",
       " 'children': [array([[-0.5498,  0.0943,  1.    ],\n",
       "         [-0.0382,  1.8829,  1.    ],\n",
       "         [ 0.0555, -0.6139,  1.    ],\n",
       "         [ 0.587 , -1.2067,  1.    ],\n",
       "         [ 0.5453,  0.2509,  1.    ],\n",
       "         [-0.3927, -0.622 ,  1.    ],\n",
       "         [-1.1905, -1.8785,  1.    ],\n",
       "         [-0.424 ,  0.7772,  1.    ],\n",
       "         [-0.7139,  1.5846,  1.    ],\n",
       "         [-0.8883,  2.1408,  1.    ],\n",
       "         [-0.6922,  0.0993,  1.    ],\n",
       "         [-0.7576,  0.7386,  1.    ],\n",
       "         [-1.1144, -1.7059,  1.    ],\n",
       "         [ 0.6612, -1.7296,  1.    ],\n",
       "         [-2.1381, -0.06  ,  1.    ],\n",
       "         [-1.4951,  0.0373,  1.    ],\n",
       "         [ 0.8029,  0.9739,  1.    ],\n",
       "         [ 0.8563, -1.4245,  1.    ],\n",
       "         [ 0.0397, -1.3799,  1.    ],\n",
       "         [-2.0015,  0.8355,  1.    ],\n",
       "         [-0.3428, -0.478 ,  1.    ],\n",
       "         [-0.8891,  1.2634,  1.    ],\n",
       "         [ 0.3832, -0.1189,  1.    ],\n",
       "         [ 0.4172,  1.0132,  1.    ],\n",
       "         [-0.8695, -0.7947,  1.    ],\n",
       "         [ 0.1166,  0.9435,  2.    ],\n",
       "         [ 0.6896,  3.916 ,  2.    ],\n",
       "         [ 0.929 ,  3.3611,  2.    ],\n",
       "         [ 1.0101,  1.8737,  2.    ],\n",
       "         [ 0.4212,  3.5322,  2.    ],\n",
       "         [ 0.338 ,  2.0947,  2.    ],\n",
       "         [-0.5332,  3.1421,  2.    ],\n",
       "         [ 0.338 ,  3.0801,  2.    ],\n",
       "         [ 0.0988,  1.9522,  2.    ],\n",
       "         [ 0.3688,  2.8904,  2.    ],\n",
       "         [ 0.8358, -2.3349,  3.    ],\n",
       "         [ 0.5365, -3.6555,  3.    ],\n",
       "         [ 0.8168, -3.1133,  3.    ],\n",
       "         [ 1.1039, -2.2261,  3.    ],\n",
       "         [ 0.6757, -2.5379,  3.    ],\n",
       "         [-0.2029, -3.842 ,  3.    ],\n",
       "         [ 1.0335, -2.6042,  3.    ],\n",
       "         [ 0.9638, -2.9449,  3.    ],\n",
       "         [-0.8198, -5.4449,  3.    ],\n",
       "         [ 0.3505, -3.1887,  3.    ],\n",
       "         [ 0.5994, -3.0513,  3.    ]]),\n",
       "  array([[ 1.1107, -2.1079,  1.    ],\n",
       "         [ 1.1107, -2.1079,  1.    ],\n",
       "         [ 1.435 ,  1.2334,  1.    ],\n",
       "         [ 1.3857,  1.2178,  1.    ],\n",
       "         [ 1.5607,  1.5862,  1.    ],\n",
       "         [ 1.2331,  1.7421,  1.    ],\n",
       "         [ 2.9737,  3.6438,  2.    ],\n",
       "         [ 3.768 ,  1.8649,  2.    ],\n",
       "         [ 1.2234,  2.9899,  2.    ],\n",
       "         [ 2.3009,  0.415 ,  2.    ],\n",
       "         [ 3.7693,  3.8027,  2.    ],\n",
       "         [ 1.945 ,  3.4208,  2.    ],\n",
       "         [ 5.0027,  2.787 ,  2.    ],\n",
       "         [ 2.0751,  2.2628,  2.    ],\n",
       "         [ 1.9113,  3.6777,  2.    ],\n",
       "         [ 2.3127,  3.913 ,  2.    ],\n",
       "         [ 1.9392,  2.3976,  2.    ],\n",
       "         [ 3.1218,  2.5495,  2.    ],\n",
       "         [ 1.7032,  1.1509,  2.    ],\n",
       "         [ 2.7686,  0.9402,  2.    ],\n",
       "         [ 2.1696,  2.9285,  2.    ],\n",
       "         [ 3.6886,  0.4054,  2.    ],\n",
       "         [ 2.6315,  3.1962,  2.    ],\n",
       "         [ 1.403 ,  1.1841,  2.    ],\n",
       "         [ 2.8739,  2.7777,  2.    ],\n",
       "         [ 1.1254,  3.2404,  2.    ],\n",
       "         [ 1.4758, -1.6387,  3.    ],\n",
       "         [ 1.9289, -1.8191,  3.    ],\n",
       "         [ 2.5741, -1.3213,  3.    ],\n",
       "         [ 2.1917, -1.2852,  3.    ],\n",
       "         [ 2.6863, -1.8834,  3.    ],\n",
       "         [ 3.1102, -0.4854,  3.    ],\n",
       "         [ 3.7073, -0.6466,  3.    ],\n",
       "         [ 3.6394, -0.4097,  3.    ],\n",
       "         [ 2.9295, -0.3819,  3.    ],\n",
       "         [ 1.3432, -1.7717,  3.    ],\n",
       "         [ 1.3754, -2.2236,  3.    ],\n",
       "         [ 2.421 , -1.9788,  3.    ],\n",
       "         [ 1.9552, -1.553 ,  3.    ],\n",
       "         [ 2.4943, -1.8116,  3.    ],\n",
       "         [ 1.9761, -1.0664,  3.    ],\n",
       "         [ 2.2076, -1.6728,  3.    ],\n",
       "         [ 1.9941, -1.8826,  3.    ],\n",
       "         [ 1.7487, -2.9644,  3.    ],\n",
       "         [ 1.416 , -2.4234,  3.    ]])]}"
      ]
     },
     "execution_count": 57,
     "metadata": {},
     "output_type": "execute_result"
    }
   ],
   "source": [
    "node"
   ]
  },
  {
   "cell_type": "code",
   "execution_count": 86,
   "metadata": {},
   "outputs": [],
   "source": [
    "def find_best_split( data):\n",
    "        \"\"\"\n",
    "            This function finds the best split on the dataset on each iteration of the algorithm by evaluating\n",
    "            all possible splits and applying the one with the minimum Gini index.\n",
    "            Parameters:\n",
    "            data: Dataset\n",
    "\n",
    "            Returns node (dict): Dictionary with the index of the splitting feature and its value and the two child nodes\n",
    "\n",
    "        \"\"\"\n",
    "\n",
    "        num_of_features = len(data[0]) - 1\n",
    "        gini_score = 1000\n",
    "        f_index = 0\n",
    "        f_value = 0\n",
    "        # Iterate through each feature and find minimum gini score\n",
    "        for column in range(num_of_features):\n",
    "            for row in data:\n",
    "                value = row[column]\n",
    "                l, r = apply_split(column, value, data)\n",
    "                children = [l, r]\n",
    "                score = calculate_gini(children)\n",
    "                # print(\"Candidate split feature X{} < {} with Gini score {}\".format(column,value,score))\n",
    "                if score < gini_score:\n",
    "                    gini_score = score\n",
    "                    f_index = column\n",
    "                    f_value = value\n",
    "                    child_nodes = children\n",
    "        # print(\"Chosen feature is {} and its value is {} with gini index {}\".format(f_index,f_value,gini_score))\n",
    "        node = {\"feature\": f_index, \"value\": f_value, \"children\": child_nodes}\n",
    "        return node\n"
   ]
  },
  {
   "cell_type": "markdown",
   "metadata": {},
   "source": [
    "now create tree from this node as parent or root which has depth 1"
   ]
  },
  {
   "cell_type": "code",
   "execution_count": 59,
   "metadata": {},
   "outputs": [],
   "source": [
    "tree = node\n",
    "depth = 1"
   ]
  },
  {
   "cell_type": "code",
   "execution_count": 60,
   "metadata": {},
   "outputs": [],
   "source": [
    "l, r = node['children']"
   ]
  },
  {
   "cell_type": "code",
   "execution_count": 61,
   "metadata": {},
   "outputs": [
    {
     "data": {
      "text/plain": [
       "(46, 3)"
      ]
     },
     "execution_count": 61,
     "metadata": {},
     "output_type": "execute_result"
    }
   ],
   "source": [
    "l.shape"
   ]
  },
  {
   "cell_type": "code",
   "execution_count": 62,
   "metadata": {},
   "outputs": [
    {
     "data": {
      "text/plain": [
       "138"
      ]
     },
     "execution_count": 62,
     "metadata": {},
     "output_type": "execute_result"
    }
   ],
   "source": [
    "l.size # 46*3"
   ]
  },
  {
   "cell_type": "code",
   "execution_count": 63,
   "metadata": {},
   "outputs": [
    {
     "data": {
      "text/plain": [
       "np.float64(1.0)"
      ]
     },
     "execution_count": 63,
     "metadata": {},
     "output_type": "execute_result"
    }
   ],
   "source": [
    "r[0][-1]"
   ]
  },
  {
   "cell_type": "code",
   "execution_count": 64,
   "metadata": {},
   "outputs": [],
   "source": [
    "\n",
    "if l.size == 0:\n",
    "    yr = []\n",
    "    for row in r:\n",
    "        yr.append(row[-1]) # class or target\n",
    "    occurence_count = Counter(yr)\n",
    "    occurence_count.most_common(1)[0][0]\n",
    "    "
   ]
  },
  {
   "cell_type": "code",
   "execution_count": 65,
   "metadata": {},
   "outputs": [
    {
     "name": "stdout",
     "output_type": "stream",
     "text": [
      "Counter({np.float64(2.0): 20, np.float64(3.0): 19, np.float64(1.0): 6})\n"
     ]
    }
   ],
   "source": [
    "yr = []\n",
    "for row in r:\n",
    "    yr.append(row[-1]) # class or target\n",
    "occurence_count = Counter(yr)\n",
    "print(occurence_count)\n",
    "c_value = occurence_count.most_common(1)[0][0] # most frequent class or target"
   ]
  },
  {
   "cell_type": "code",
   "execution_count": 66,
   "metadata": {},
   "outputs": [],
   "source": [
    "# del node[\"children\"]"
   ]
  },
  {
   "cell_type": "code",
   "execution_count": 67,
   "metadata": {},
   "outputs": [
    {
     "data": {
      "text/plain": [
       "{'feature': 0,\n",
       " 'value': np.float64(1.1107),\n",
       " 'children': [array([[-0.5498,  0.0943,  1.    ],\n",
       "         [-0.0382,  1.8829,  1.    ],\n",
       "         [ 0.0555, -0.6139,  1.    ],\n",
       "         [ 0.587 , -1.2067,  1.    ],\n",
       "         [ 0.5453,  0.2509,  1.    ],\n",
       "         [-0.3927, -0.622 ,  1.    ],\n",
       "         [-1.1905, -1.8785,  1.    ],\n",
       "         [-0.424 ,  0.7772,  1.    ],\n",
       "         [-0.7139,  1.5846,  1.    ],\n",
       "         [-0.8883,  2.1408,  1.    ],\n",
       "         [-0.6922,  0.0993,  1.    ],\n",
       "         [-0.7576,  0.7386,  1.    ],\n",
       "         [-1.1144, -1.7059,  1.    ],\n",
       "         [ 0.6612, -1.7296,  1.    ],\n",
       "         [-2.1381, -0.06  ,  1.    ],\n",
       "         [-1.4951,  0.0373,  1.    ],\n",
       "         [ 0.8029,  0.9739,  1.    ],\n",
       "         [ 0.8563, -1.4245,  1.    ],\n",
       "         [ 0.0397, -1.3799,  1.    ],\n",
       "         [-2.0015,  0.8355,  1.    ],\n",
       "         [-0.3428, -0.478 ,  1.    ],\n",
       "         [-0.8891,  1.2634,  1.    ],\n",
       "         [ 0.3832, -0.1189,  1.    ],\n",
       "         [ 0.4172,  1.0132,  1.    ],\n",
       "         [-0.8695, -0.7947,  1.    ],\n",
       "         [ 0.1166,  0.9435,  2.    ],\n",
       "         [ 0.6896,  3.916 ,  2.    ],\n",
       "         [ 0.929 ,  3.3611,  2.    ],\n",
       "         [ 1.0101,  1.8737,  2.    ],\n",
       "         [ 0.4212,  3.5322,  2.    ],\n",
       "         [ 0.338 ,  2.0947,  2.    ],\n",
       "         [-0.5332,  3.1421,  2.    ],\n",
       "         [ 0.338 ,  3.0801,  2.    ],\n",
       "         [ 0.0988,  1.9522,  2.    ],\n",
       "         [ 0.3688,  2.8904,  2.    ],\n",
       "         [ 0.8358, -2.3349,  3.    ],\n",
       "         [ 0.5365, -3.6555,  3.    ],\n",
       "         [ 0.8168, -3.1133,  3.    ],\n",
       "         [ 1.1039, -2.2261,  3.    ],\n",
       "         [ 0.6757, -2.5379,  3.    ],\n",
       "         [-0.2029, -3.842 ,  3.    ],\n",
       "         [ 1.0335, -2.6042,  3.    ],\n",
       "         [ 0.9638, -2.9449,  3.    ],\n",
       "         [-0.8198, -5.4449,  3.    ],\n",
       "         [ 0.3505, -3.1887,  3.    ],\n",
       "         [ 0.5994, -3.0513,  3.    ]]),\n",
       "  array([[ 1.1107, -2.1079,  1.    ],\n",
       "         [ 1.1107, -2.1079,  1.    ],\n",
       "         [ 1.435 ,  1.2334,  1.    ],\n",
       "         [ 1.3857,  1.2178,  1.    ],\n",
       "         [ 1.5607,  1.5862,  1.    ],\n",
       "         [ 1.2331,  1.7421,  1.    ],\n",
       "         [ 2.9737,  3.6438,  2.    ],\n",
       "         [ 3.768 ,  1.8649,  2.    ],\n",
       "         [ 1.2234,  2.9899,  2.    ],\n",
       "         [ 2.3009,  0.415 ,  2.    ],\n",
       "         [ 3.7693,  3.8027,  2.    ],\n",
       "         [ 1.945 ,  3.4208,  2.    ],\n",
       "         [ 5.0027,  2.787 ,  2.    ],\n",
       "         [ 2.0751,  2.2628,  2.    ],\n",
       "         [ 1.9113,  3.6777,  2.    ],\n",
       "         [ 2.3127,  3.913 ,  2.    ],\n",
       "         [ 1.9392,  2.3976,  2.    ],\n",
       "         [ 3.1218,  2.5495,  2.    ],\n",
       "         [ 1.7032,  1.1509,  2.    ],\n",
       "         [ 2.7686,  0.9402,  2.    ],\n",
       "         [ 2.1696,  2.9285,  2.    ],\n",
       "         [ 3.6886,  0.4054,  2.    ],\n",
       "         [ 2.6315,  3.1962,  2.    ],\n",
       "         [ 1.403 ,  1.1841,  2.    ],\n",
       "         [ 2.8739,  2.7777,  2.    ],\n",
       "         [ 1.1254,  3.2404,  2.    ],\n",
       "         [ 1.4758, -1.6387,  3.    ],\n",
       "         [ 1.9289, -1.8191,  3.    ],\n",
       "         [ 2.5741, -1.3213,  3.    ],\n",
       "         [ 2.1917, -1.2852,  3.    ],\n",
       "         [ 2.6863, -1.8834,  3.    ],\n",
       "         [ 3.1102, -0.4854,  3.    ],\n",
       "         [ 3.7073, -0.6466,  3.    ],\n",
       "         [ 3.6394, -0.4097,  3.    ],\n",
       "         [ 2.9295, -0.3819,  3.    ],\n",
       "         [ 1.3432, -1.7717,  3.    ],\n",
       "         [ 1.3754, -2.2236,  3.    ],\n",
       "         [ 2.421 , -1.9788,  3.    ],\n",
       "         [ 1.9552, -1.553 ,  3.    ],\n",
       "         [ 2.4943, -1.8116,  3.    ],\n",
       "         [ 1.9761, -1.0664,  3.    ],\n",
       "         [ 2.2076, -1.6728,  3.    ],\n",
       "         [ 1.9941, -1.8826,  3.    ],\n",
       "         [ 1.7487, -2.9644,  3.    ],\n",
       "         [ 1.416 , -2.4234,  3.    ]])]}"
      ]
     },
     "execution_count": 67,
     "metadata": {},
     "output_type": "execute_result"
    }
   ],
   "source": [
    "node"
   ]
  },
  {
   "cell_type": "code",
   "execution_count": 68,
   "metadata": {},
   "outputs": [],
   "source": [
    "node[\"left\"] = node[\"right\"] = {\"class_value\": c_value, \"depth\": depth}"
   ]
  },
  {
   "cell_type": "code",
   "execution_count": 69,
   "metadata": {},
   "outputs": [
    {
     "data": {
      "text/plain": [
       "{'feature': 0,\n",
       " 'value': np.float64(1.1107),\n",
       " 'children': [array([[-0.5498,  0.0943,  1.    ],\n",
       "         [-0.0382,  1.8829,  1.    ],\n",
       "         [ 0.0555, -0.6139,  1.    ],\n",
       "         [ 0.587 , -1.2067,  1.    ],\n",
       "         [ 0.5453,  0.2509,  1.    ],\n",
       "         [-0.3927, -0.622 ,  1.    ],\n",
       "         [-1.1905, -1.8785,  1.    ],\n",
       "         [-0.424 ,  0.7772,  1.    ],\n",
       "         [-0.7139,  1.5846,  1.    ],\n",
       "         [-0.8883,  2.1408,  1.    ],\n",
       "         [-0.6922,  0.0993,  1.    ],\n",
       "         [-0.7576,  0.7386,  1.    ],\n",
       "         [-1.1144, -1.7059,  1.    ],\n",
       "         [ 0.6612, -1.7296,  1.    ],\n",
       "         [-2.1381, -0.06  ,  1.    ],\n",
       "         [-1.4951,  0.0373,  1.    ],\n",
       "         [ 0.8029,  0.9739,  1.    ],\n",
       "         [ 0.8563, -1.4245,  1.    ],\n",
       "         [ 0.0397, -1.3799,  1.    ],\n",
       "         [-2.0015,  0.8355,  1.    ],\n",
       "         [-0.3428, -0.478 ,  1.    ],\n",
       "         [-0.8891,  1.2634,  1.    ],\n",
       "         [ 0.3832, -0.1189,  1.    ],\n",
       "         [ 0.4172,  1.0132,  1.    ],\n",
       "         [-0.8695, -0.7947,  1.    ],\n",
       "         [ 0.1166,  0.9435,  2.    ],\n",
       "         [ 0.6896,  3.916 ,  2.    ],\n",
       "         [ 0.929 ,  3.3611,  2.    ],\n",
       "         [ 1.0101,  1.8737,  2.    ],\n",
       "         [ 0.4212,  3.5322,  2.    ],\n",
       "         [ 0.338 ,  2.0947,  2.    ],\n",
       "         [-0.5332,  3.1421,  2.    ],\n",
       "         [ 0.338 ,  3.0801,  2.    ],\n",
       "         [ 0.0988,  1.9522,  2.    ],\n",
       "         [ 0.3688,  2.8904,  2.    ],\n",
       "         [ 0.8358, -2.3349,  3.    ],\n",
       "         [ 0.5365, -3.6555,  3.    ],\n",
       "         [ 0.8168, -3.1133,  3.    ],\n",
       "         [ 1.1039, -2.2261,  3.    ],\n",
       "         [ 0.6757, -2.5379,  3.    ],\n",
       "         [-0.2029, -3.842 ,  3.    ],\n",
       "         [ 1.0335, -2.6042,  3.    ],\n",
       "         [ 0.9638, -2.9449,  3.    ],\n",
       "         [-0.8198, -5.4449,  3.    ],\n",
       "         [ 0.3505, -3.1887,  3.    ],\n",
       "         [ 0.5994, -3.0513,  3.    ]]),\n",
       "  array([[ 1.1107, -2.1079,  1.    ],\n",
       "         [ 1.1107, -2.1079,  1.    ],\n",
       "         [ 1.435 ,  1.2334,  1.    ],\n",
       "         [ 1.3857,  1.2178,  1.    ],\n",
       "         [ 1.5607,  1.5862,  1.    ],\n",
       "         [ 1.2331,  1.7421,  1.    ],\n",
       "         [ 2.9737,  3.6438,  2.    ],\n",
       "         [ 3.768 ,  1.8649,  2.    ],\n",
       "         [ 1.2234,  2.9899,  2.    ],\n",
       "         [ 2.3009,  0.415 ,  2.    ],\n",
       "         [ 3.7693,  3.8027,  2.    ],\n",
       "         [ 1.945 ,  3.4208,  2.    ],\n",
       "         [ 5.0027,  2.787 ,  2.    ],\n",
       "         [ 2.0751,  2.2628,  2.    ],\n",
       "         [ 1.9113,  3.6777,  2.    ],\n",
       "         [ 2.3127,  3.913 ,  2.    ],\n",
       "         [ 1.9392,  2.3976,  2.    ],\n",
       "         [ 3.1218,  2.5495,  2.    ],\n",
       "         [ 1.7032,  1.1509,  2.    ],\n",
       "         [ 2.7686,  0.9402,  2.    ],\n",
       "         [ 2.1696,  2.9285,  2.    ],\n",
       "         [ 3.6886,  0.4054,  2.    ],\n",
       "         [ 2.6315,  3.1962,  2.    ],\n",
       "         [ 1.403 ,  1.1841,  2.    ],\n",
       "         [ 2.8739,  2.7777,  2.    ],\n",
       "         [ 1.1254,  3.2404,  2.    ],\n",
       "         [ 1.4758, -1.6387,  3.    ],\n",
       "         [ 1.9289, -1.8191,  3.    ],\n",
       "         [ 2.5741, -1.3213,  3.    ],\n",
       "         [ 2.1917, -1.2852,  3.    ],\n",
       "         [ 2.6863, -1.8834,  3.    ],\n",
       "         [ 3.1102, -0.4854,  3.    ],\n",
       "         [ 3.7073, -0.6466,  3.    ],\n",
       "         [ 3.6394, -0.4097,  3.    ],\n",
       "         [ 2.9295, -0.3819,  3.    ],\n",
       "         [ 1.3432, -1.7717,  3.    ],\n",
       "         [ 1.3754, -2.2236,  3.    ],\n",
       "         [ 2.421 , -1.9788,  3.    ],\n",
       "         [ 1.9552, -1.553 ,  3.    ],\n",
       "         [ 2.4943, -1.8116,  3.    ],\n",
       "         [ 1.9761, -1.0664,  3.    ],\n",
       "         [ 2.2076, -1.6728,  3.    ],\n",
       "         [ 1.9941, -1.8826,  3.    ],\n",
       "         [ 1.7487, -2.9644,  3.    ],\n",
       "         [ 1.416 , -2.4234,  3.    ]])],\n",
       " 'left': {'class_value': np.float64(2.0), 'depth': 1},\n",
       " 'right': {'class_value': np.float64(2.0), 'depth': 1}}"
      ]
     },
     "execution_count": 69,
     "metadata": {},
     "output_type": "execute_result"
    }
   ],
   "source": [
    "node"
   ]
  },
  {
   "cell_type": "code",
   "execution_count": 87,
   "metadata": {},
   "outputs": [],
   "source": [
    "def calc_class(node):\n",
    "    \"\"\"\n",
    "        it is use in termination of tree node or leaf node\n",
    "\n",
    "        This function calculates the most frequent class value in a group of instances\n",
    "        Parameters:\n",
    "        node: Group of instances\n",
    "\n",
    "        Returns : Most common class value\n",
    "\n",
    "    \"\"\"\n",
    "    # Create a list with each instance's class value\n",
    "    y = []\n",
    "    for row in node:\n",
    "        y.append(row[-1])\n",
    "    # Find most common class value\n",
    "    occurence_count = Counter(y)\n",
    "    return occurence_count.most_common(1)[0][0]  # high probablity of the most common class value would be target or leaf class\n",
    "# if we go along this path of the tree there is a chance to get the target or most common class value "
   ]
  },
  {
   "cell_type": "code",
   "execution_count": null,
   "metadata": {},
   "outputs": [],
   "source": [
    "# y = []: Initializes an empty list y to store the class values.\n",
    "# for row in node:: Iterates over each row in the node dataset.\n",
    "# y.append(row[-1]): Appends the last element of each row (i.e., the class value) to the y list.\n",
    "# occurence_count = Counter(y): Uses the Counter class from the collections module to count the occurrences of each class value in the y list.\n",
    "# return occurence_count.most_common(1)[0][0]: Returns the most common class value.\n",
    "# Explanation:\n",
    "# The Counter class creates a dictionary where the keys are the unique class values and the values are their corresponding counts.\n",
    "# The most_common(1) method returns a list of tuples containing the most common class value and its count. The [0][0] indexing extracts the most common class value."
   ]
  },
  {
   "cell_type": "code",
   "execution_count": 71,
   "metadata": {},
   "outputs": [
    {
     "data": {
      "text/plain": [
       "1"
      ]
     },
     "execution_count": 71,
     "metadata": {},
     "output_type": "execute_result"
    }
   ],
   "source": [
    "depth"
   ]
  },
  {
   "cell_type": "code",
   "execution_count": 72,
   "metadata": {},
   "outputs": [
    {
     "data": {
      "text/plain": [
       "5"
      ]
     },
     "execution_count": 72,
     "metadata": {},
     "output_type": "execute_result"
    }
   ],
   "source": [
    "max_depth"
   ]
  },
  {
   "cell_type": "code",
   "execution_count": 73,
   "metadata": {},
   "outputs": [
    {
     "data": {
      "text/plain": [
       "array([[-0.5498,  0.0943,  1.    ],\n",
       "       [-0.0382,  1.8829,  1.    ],\n",
       "       [ 0.0555, -0.6139,  1.    ],\n",
       "       [ 0.587 , -1.2067,  1.    ],\n",
       "       [ 0.5453,  0.2509,  1.    ],\n",
       "       [-0.3927, -0.622 ,  1.    ],\n",
       "       [-1.1905, -1.8785,  1.    ],\n",
       "       [-0.424 ,  0.7772,  1.    ],\n",
       "       [-0.7139,  1.5846,  1.    ],\n",
       "       [-0.8883,  2.1408,  1.    ],\n",
       "       [-0.6922,  0.0993,  1.    ],\n",
       "       [-0.7576,  0.7386,  1.    ],\n",
       "       [-1.1144, -1.7059,  1.    ],\n",
       "       [ 0.6612, -1.7296,  1.    ],\n",
       "       [-2.1381, -0.06  ,  1.    ],\n",
       "       [-1.4951,  0.0373,  1.    ],\n",
       "       [ 0.8029,  0.9739,  1.    ],\n",
       "       [ 0.8563, -1.4245,  1.    ],\n",
       "       [ 0.0397, -1.3799,  1.    ],\n",
       "       [-2.0015,  0.8355,  1.    ],\n",
       "       [-0.3428, -0.478 ,  1.    ],\n",
       "       [-0.8891,  1.2634,  1.    ],\n",
       "       [ 0.3832, -0.1189,  1.    ],\n",
       "       [ 0.4172,  1.0132,  1.    ],\n",
       "       [-0.8695, -0.7947,  1.    ],\n",
       "       [ 0.1166,  0.9435,  2.    ],\n",
       "       [ 0.6896,  3.916 ,  2.    ],\n",
       "       [ 0.929 ,  3.3611,  2.    ],\n",
       "       [ 1.0101,  1.8737,  2.    ],\n",
       "       [ 0.4212,  3.5322,  2.    ],\n",
       "       [ 0.338 ,  2.0947,  2.    ],\n",
       "       [-0.5332,  3.1421,  2.    ],\n",
       "       [ 0.338 ,  3.0801,  2.    ],\n",
       "       [ 0.0988,  1.9522,  2.    ],\n",
       "       [ 0.3688,  2.8904,  2.    ],\n",
       "       [ 0.8358, -2.3349,  3.    ],\n",
       "       [ 0.5365, -3.6555,  3.    ],\n",
       "       [ 0.8168, -3.1133,  3.    ],\n",
       "       [ 1.1039, -2.2261,  3.    ],\n",
       "       [ 0.6757, -2.5379,  3.    ],\n",
       "       [-0.2029, -3.842 ,  3.    ],\n",
       "       [ 1.0335, -2.6042,  3.    ],\n",
       "       [ 0.9638, -2.9449,  3.    ],\n",
       "       [-0.8198, -5.4449,  3.    ],\n",
       "       [ 0.3505, -3.1887,  3.    ],\n",
       "       [ 0.5994, -3.0513,  3.    ]])"
      ]
     },
     "execution_count": 73,
     "metadata": {},
     "output_type": "execute_result"
    }
   ],
   "source": [
    "l"
   ]
  },
  {
   "cell_type": "code",
   "execution_count": 76,
   "metadata": {},
   "outputs": [
    {
     "data": {
      "text/plain": [
       "{'feature': 0,\n",
       " 'value': np.float64(1.1107),\n",
       " 'children': [array([[-0.5498,  0.0943,  1.    ],\n",
       "         [-0.0382,  1.8829,  1.    ],\n",
       "         [ 0.0555, -0.6139,  1.    ],\n",
       "         [ 0.587 , -1.2067,  1.    ],\n",
       "         [ 0.5453,  0.2509,  1.    ],\n",
       "         [-0.3927, -0.622 ,  1.    ],\n",
       "         [-1.1905, -1.8785,  1.    ],\n",
       "         [-0.424 ,  0.7772,  1.    ],\n",
       "         [-0.7139,  1.5846,  1.    ],\n",
       "         [-0.8883,  2.1408,  1.    ],\n",
       "         [-0.6922,  0.0993,  1.    ],\n",
       "         [-0.7576,  0.7386,  1.    ],\n",
       "         [-1.1144, -1.7059,  1.    ],\n",
       "         [ 0.6612, -1.7296,  1.    ],\n",
       "         [-2.1381, -0.06  ,  1.    ],\n",
       "         [-1.4951,  0.0373,  1.    ],\n",
       "         [ 0.8029,  0.9739,  1.    ],\n",
       "         [ 0.8563, -1.4245,  1.    ],\n",
       "         [ 0.0397, -1.3799,  1.    ],\n",
       "         [-2.0015,  0.8355,  1.    ],\n",
       "         [-0.3428, -0.478 ,  1.    ],\n",
       "         [-0.8891,  1.2634,  1.    ],\n",
       "         [ 0.3832, -0.1189,  1.    ],\n",
       "         [ 0.4172,  1.0132,  1.    ],\n",
       "         [-0.8695, -0.7947,  1.    ],\n",
       "         [ 0.1166,  0.9435,  2.    ],\n",
       "         [ 0.6896,  3.916 ,  2.    ],\n",
       "         [ 0.929 ,  3.3611,  2.    ],\n",
       "         [ 1.0101,  1.8737,  2.    ],\n",
       "         [ 0.4212,  3.5322,  2.    ],\n",
       "         [ 0.338 ,  2.0947,  2.    ],\n",
       "         [-0.5332,  3.1421,  2.    ],\n",
       "         [ 0.338 ,  3.0801,  2.    ],\n",
       "         [ 0.0988,  1.9522,  2.    ],\n",
       "         [ 0.3688,  2.8904,  2.    ],\n",
       "         [ 0.8358, -2.3349,  3.    ],\n",
       "         [ 0.5365, -3.6555,  3.    ],\n",
       "         [ 0.8168, -3.1133,  3.    ],\n",
       "         [ 1.1039, -2.2261,  3.    ],\n",
       "         [ 0.6757, -2.5379,  3.    ],\n",
       "         [-0.2029, -3.842 ,  3.    ],\n",
       "         [ 1.0335, -2.6042,  3.    ],\n",
       "         [ 0.9638, -2.9449,  3.    ],\n",
       "         [-0.8198, -5.4449,  3.    ],\n",
       "         [ 0.3505, -3.1887,  3.    ],\n",
       "         [ 0.5994, -3.0513,  3.    ]]),\n",
       "  array([[ 1.1107, -2.1079,  1.    ],\n",
       "         [ 1.1107, -2.1079,  1.    ],\n",
       "         [ 1.435 ,  1.2334,  1.    ],\n",
       "         [ 1.3857,  1.2178,  1.    ],\n",
       "         [ 1.5607,  1.5862,  1.    ],\n",
       "         [ 1.2331,  1.7421,  1.    ],\n",
       "         [ 2.9737,  3.6438,  2.    ],\n",
       "         [ 3.768 ,  1.8649,  2.    ],\n",
       "         [ 1.2234,  2.9899,  2.    ],\n",
       "         [ 2.3009,  0.415 ,  2.    ],\n",
       "         [ 3.7693,  3.8027,  2.    ],\n",
       "         [ 1.945 ,  3.4208,  2.    ],\n",
       "         [ 5.0027,  2.787 ,  2.    ],\n",
       "         [ 2.0751,  2.2628,  2.    ],\n",
       "         [ 1.9113,  3.6777,  2.    ],\n",
       "         [ 2.3127,  3.913 ,  2.    ],\n",
       "         [ 1.9392,  2.3976,  2.    ],\n",
       "         [ 3.1218,  2.5495,  2.    ],\n",
       "         [ 1.7032,  1.1509,  2.    ],\n",
       "         [ 2.7686,  0.9402,  2.    ],\n",
       "         [ 2.1696,  2.9285,  2.    ],\n",
       "         [ 3.6886,  0.4054,  2.    ],\n",
       "         [ 2.6315,  3.1962,  2.    ],\n",
       "         [ 1.403 ,  1.1841,  2.    ],\n",
       "         [ 2.8739,  2.7777,  2.    ],\n",
       "         [ 1.1254,  3.2404,  2.    ],\n",
       "         [ 1.4758, -1.6387,  3.    ],\n",
       "         [ 1.9289, -1.8191,  3.    ],\n",
       "         [ 2.5741, -1.3213,  3.    ],\n",
       "         [ 2.1917, -1.2852,  3.    ],\n",
       "         [ 2.6863, -1.8834,  3.    ],\n",
       "         [ 3.1102, -0.4854,  3.    ],\n",
       "         [ 3.7073, -0.6466,  3.    ],\n",
       "         [ 3.6394, -0.4097,  3.    ],\n",
       "         [ 2.9295, -0.3819,  3.    ],\n",
       "         [ 1.3432, -1.7717,  3.    ],\n",
       "         [ 1.3754, -2.2236,  3.    ],\n",
       "         [ 2.421 , -1.9788,  3.    ],\n",
       "         [ 1.9552, -1.553 ,  3.    ],\n",
       "         [ 2.4943, -1.8116,  3.    ],\n",
       "         [ 1.9761, -1.0664,  3.    ],\n",
       "         [ 2.2076, -1.6728,  3.    ],\n",
       "         [ 1.9941, -1.8826,  3.    ],\n",
       "         [ 1.7487, -2.9644,  3.    ],\n",
       "         [ 1.416 , -2.4234,  3.    ]])],\n",
       " 'left': {'class_value': np.float64(2.0), 'depth': 1},\n",
       " 'right': {'class_value': np.float64(2.0), 'depth': 1}}"
      ]
     },
     "execution_count": 76,
     "metadata": {},
     "output_type": "execute_result"
    }
   ],
   "source": [
    "node"
   ]
  },
  {
   "cell_type": "code",
   "execution_count": 88,
   "metadata": {},
   "outputs": [],
   "source": [
    "def recursive_split(node, depth):\n",
    "    \"\"\"\n",
    "        Recursive function that builds the decision tree by applying split on every child node until they become terminal.\n",
    "        Cases to terminate a node is: i.max depth of tree is reached ii.minimum size of node is not met iii.child node is empty\n",
    "        Parameters:\n",
    "        node: Group of instances\n",
    "        depth (int): Current depth of the tree\n",
    "\n",
    "\n",
    "    \"\"\"\n",
    "    l, r = node[\"children\"]\n",
    "    del node[\"children\"]\n",
    "    if l.size == 0: # termination point\n",
    "        c_value = calc_class(r)\n",
    "        node[\"left\"] = node[\"right\"] = {\"class_value\": c_value, \"depth\": depth}\n",
    "        return\n",
    "    elif r.size == 0: # termination point\n",
    "        c_value = calc_class(l)\n",
    "        node[\"left\"] = node[\"right\"] = {\"class_value\": c_value, \"depth\": depth}\n",
    "        return\n",
    "    \n",
    "\n",
    "    # Check if tree has reached max depth\n",
    "    if depth >= max_depth: # termination point\n",
    "        # Terminate left child node\n",
    "        c_value = calc_class(l)\n",
    "        node[\"left\"] = {\"class_value\": c_value, \"depth\": depth}\n",
    "        # Terminate right child node\n",
    "        c_value = calc_class(r)\n",
    "        node[\"right\"] = {\"class_value\": c_value, \"depth\": depth}\n",
    "        return\n",
    "    \n",
    "\n",
    "\n",
    "    # process left child\n",
    "    if len(l) <= min_node_size:\n",
    "        c_value = calc_class(l)\n",
    "        node[\"left\"] = {\"class_value\": c_value, \"depth\": depth}\n",
    "    else:\n",
    "        node[\"left\"] = find_best_split(l)\n",
    "        recursive_split(node[\"left\"], depth + 1)\n",
    "\n",
    "\n",
    "\n",
    "\n",
    "    # process right child\n",
    "    if len(r) <= min_node_size:\n",
    "        c_value = calc_class(r)\n",
    "        node[\"right\"] = {\"class_value\": c_value, \"depth\": depth}\n",
    "    else:\n",
    "        node[\"right\"] = find_best_split(r)\n",
    "        recursive_split(node[\"right\"], depth + 1)"
   ]
  },
  {
   "cell_type": "code",
   "execution_count": 78,
   "metadata": {},
   "outputs": [],
   "source": [
    "# l, r = node[\"children\"]: Unpacks the left and right child nodes from the node dictionary.\n",
    "# del node[\"children\"]: Removes the \"children\" key from the node dictionary, as it's no longer needed.\n",
    "# if l.size == 0: and elif r.size == 0:: Checks if either the left or right child node is empty.\n",
    "# Handling Empty Child Nodes:\n",
    "# If either child node is empty:\n",
    "# c_value = .calc_class(r) or c_value = .calc_class(l): Calculates the class value for the non-empty child node using the calc_class method.\n",
    "# node[\"left\"] = node[\"right\"] = {\"class_value\": c_value, \"depth\": depth}: Assigns the calculated class value to both the left and right child nodes, along with the current depth.\n",
    "# return: Exits the function, as there's no need to further process the empty child node.\n",
    "# Purpose:\n",
    "# This code ensures that:\n",
    "# Empty child nodes are properly handled and terminated.\n",
    "# The decision tree construction process doesn't attempt to split empty nodes.\n",
    "# The class value for the non-empty child node is correctly assigned to both child nodes.\n",
    "\n",
    "# if depth >= .max_depth:: Checks if the current depth (depth) is greater than or equal to the maximum allowed depth (.max_depth).\n",
    "# If true, the code terminates both the left and right child nodes by:\n",
    "# Terminating Child Nodes:\n",
    "# c_value = .calc_class(l): Calculates the class value for the left child node (l) using the calc_class method.\n",
    "# node[\"left\"] = {\"class_value\": c_value, \"depth\": depth}: Assigns the calculated class value and current depth to the left child node.\n",
    "# c_value = .calc_class(r): Calculates the class value for the right child node (r) using the calc_class method.\n",
    "# node[\"right\"] = {\"class_value\": c_value, \"depth\": depth}: Assigns the calculated class value and current depth to the right child node.\n",
    "\n",
    "# if depth >= .max_depth:: Checks if the current depth (depth) is greater than or equal to the maximum allowed depth (.max_depth).\n",
    "# If true, the code terminates both the left and right child nodes by:\n",
    "# Terminating Child Nodes:\n",
    "# c_value = .calc_class(l): Calculates the class value for the left child node (l) using the calc_class method.\n",
    "# node[\"left\"] = {\"class_value\": c_value, \"depth\": depth}: Assigns the calculated class value and current depth to the left child node.\n",
    "# c_value = .calc_class(r): Calculates the class value for the right child node (r) using the calc_class method.\n",
    "# node[\"right\"] = {\"class_value\": c_value, \"depth\": depth}: Assigns the calculated class value and current depth to the right child node.\n",
    "\n",
    "# Left Child Node:\n",
    "# if len(l) <= .min_node_size:: Checks if the number of instances in the left child node (l) is less than or equal to the minimum allowed node size (.min_node_size).\n",
    "# If true, the code terminates the left child node by:\n",
    "# c_value = .calc_class(l): Calculating the class value for the left child node using the calc_class method.\n",
    "# node[\"left\"] = {\"class_value\": c_value, \"depth\": depth}: Assigning the calculated class value and current depth to the left child node.\n",
    "# If false, the code splits the left child node by:\n",
    "# node[\"left\"] = .find_best_split(l): Finding the best split for the left child node using the find_best_split method.\n",
    "# .recursive_split(node[\"left\"], depth + 1): Recursively splitting the left child node with increased depth."
   ]
  },
  {
   "cell_type": "code",
   "execution_count": 89,
   "metadata": {},
   "outputs": [],
   "source": [
    "def train(X):\n",
    "    \"\"\"\n",
    "        Apply the recursive split algorithm on the data in order to build the decision tree\n",
    "        Parameters:\n",
    "        X (np.array): Training data\n",
    "        \n",
    "        Returns tree (dict): The decision tree in the form of a dictionary.\n",
    "    \"\"\"\n",
    "    # Create initial node\n",
    "    tree = find_best_split(X)\n",
    "    # Generate the rest of the tree via recursion\n",
    "    recursive_split(tree, 1)\n",
    "    final_tree = tree\n",
    "    return tree"
   ]
  },
  {
   "cell_type": "code",
   "execution_count": 104,
   "metadata": {},
   "outputs": [],
   "source": [
    "final_tree = train(X=train_data)"
   ]
  },
  {
   "cell_type": "code",
   "execution_count": 105,
   "metadata": {},
   "outputs": [
    {
     "data": {
      "text/plain": [
       "{'feature': 1,\n",
       " 'value': np.float64(-0.1189),\n",
       " 'left': {'feature': 0,\n",
       "  'value': np.float64(0.3505),\n",
       "  'left': {'feature': 1,\n",
       "   'value': np.float64(-1.8785),\n",
       "   'left': {'feature': 0,\n",
       "    'value': np.float64(-0.2029),\n",
       "    'left': {'class_value': np.float64(3.0), 'depth': 4},\n",
       "    'right': {'class_value': np.float64(3.0), 'depth': 4}},\n",
       "   'right': {'feature': 0,\n",
       "    'value': np.float64(0.0555),\n",
       "    'left': {'feature': 0,\n",
       "     'value': np.float64(-0.3927),\n",
       "     'left': {'class_value': np.float64(1.0), 'depth': 5},\n",
       "     'right': {'class_value': np.float64(1.0), 'depth': 5}},\n",
       "    'right': {'class_value': np.float64(1.0), 'depth': 4}}},\n",
       "  'right': {'feature': 0,\n",
       "   'value': np.float64(1.3432),\n",
       "   'left': {'feature': 1,\n",
       "    'value': np.float64(-2.1079),\n",
       "    'left': {'feature': 0,\n",
       "     'value': np.float64(0.8358),\n",
       "     'left': {'class_value': np.float64(3.0), 'depth': 5},\n",
       "     'right': {'class_value': np.float64(3.0), 'depth': 5}},\n",
       "    'right': {'feature': 0,\n",
       "     'value': np.float64(1.1107),\n",
       "     'left': {'class_value': np.float64(1.0), 'depth': 5},\n",
       "     'right': {'class_value': np.float64(1.0), 'depth': 5}}},\n",
       "   'right': {'feature': 0,\n",
       "    'value': np.float64(1.4758),\n",
       "    'left': {'feature': 0,\n",
       "     'value': np.float64(1.3432),\n",
       "     'left': {'class_value': np.float64(3.0), 'depth': 5},\n",
       "     'right': {'class_value': np.float64(3.0), 'depth': 5}},\n",
       "    'right': {'feature': 0,\n",
       "     'value': np.float64(1.4758),\n",
       "     'left': {'class_value': np.float64(3.0), 'depth': 5},\n",
       "     'right': {'class_value': np.float64(3.0), 'depth': 5}}}}},\n",
       " 'right': {'feature': 1,\n",
       "  'value': np.float64(1.8649),\n",
       "  'left': {'feature': 0,\n",
       "   'value': np.float64(1.7032),\n",
       "   'left': {'feature': 0,\n",
       "    'value': np.float64(0.1166),\n",
       "    'left': {'feature': 0,\n",
       "     'value': np.float64(-0.5498),\n",
       "     'left': {'class_value': np.float64(1.0), 'depth': 5},\n",
       "     'right': {'class_value': np.float64(1.0), 'depth': 5}},\n",
       "    'right': {'feature': 0,\n",
       "     'value': np.float64(0.3832),\n",
       "     'left': {'class_value': np.float64(2.0), 'depth': 5},\n",
       "     'right': {'class_value': np.float64(1.0), 'depth': 5}}},\n",
       "   'right': {'feature': 0,\n",
       "    'value': np.float64(2.3009),\n",
       "    'left': {'class_value': np.float64(2.0), 'depth': 4},\n",
       "    'right': {'feature': 0,\n",
       "     'value': np.float64(2.3009),\n",
       "     'left': {'class_value': np.float64(2.0), 'depth': 5},\n",
       "     'right': {'class_value': np.float64(2.0), 'depth': 5}}}},\n",
       "  'right': {'feature': 0,\n",
       "   'value': np.float64(0.0988),\n",
       "   'left': {'feature': 1,\n",
       "    'value': np.float64(3.1421),\n",
       "    'left': {'feature': 0,\n",
       "     'value': np.float64(-0.0382),\n",
       "     'left': {'class_value': np.float64(1.0), 'depth': 5},\n",
       "     'right': {'class_value': np.float64(1.0), 'depth': 5}},\n",
       "    'right': {'class_value': np.float64(2.0), 'depth': 4}},\n",
       "   'right': {'feature': 0,\n",
       "    'value': np.float64(2.9737),\n",
       "    'left': {'feature': 0,\n",
       "     'value': np.float64(0.6896),\n",
       "     'left': {'class_value': np.float64(2.0), 'depth': 5},\n",
       "     'right': {'class_value': np.float64(2.0), 'depth': 5}},\n",
       "    'right': {'feature': 0,\n",
       "     'value': np.float64(2.9737),\n",
       "     'left': {'class_value': np.float64(2.0), 'depth': 5},\n",
       "     'right': {'class_value': np.float64(2.0), 'depth': 5}}}}}}"
      ]
     },
     "execution_count": 105,
     "metadata": {},
     "output_type": "execute_result"
    }
   ],
   "source": [
    "final_tree"
   ]
  },
  {
   "cell_type": "code",
   "execution_count": 91,
   "metadata": {},
   "outputs": [],
   "source": [
    "import json"
   ]
  },
  {
   "cell_type": "code",
   "execution_count": 106,
   "metadata": {},
   "outputs": [],
   "source": [
    "tree_json = json.dumps(final_tree)"
   ]
  },
  {
   "cell_type": "code",
   "execution_count": 107,
   "metadata": {},
   "outputs": [
    {
     "data": {
      "text/plain": [
       "'{\"feature\": 1, \"value\": -0.1189, \"left\": {\"feature\": 0, \"value\": 0.3505, \"left\": {\"feature\": 1, \"value\": -1.8785, \"left\": {\"feature\": 0, \"value\": -0.2029, \"left\": {\"class_value\": 3.0, \"depth\": 4}, \"right\": {\"class_value\": 3.0, \"depth\": 4}}, \"right\": {\"feature\": 0, \"value\": 0.0555, \"left\": {\"feature\": 0, \"value\": -0.3927, \"left\": {\"class_value\": 1.0, \"depth\": 5}, \"right\": {\"class_value\": 1.0, \"depth\": 5}}, \"right\": {\"class_value\": 1.0, \"depth\": 4}}}, \"right\": {\"feature\": 0, \"value\": 1.3432, \"left\": {\"feature\": 1, \"value\": -2.1079, \"left\": {\"feature\": 0, \"value\": 0.8358, \"left\": {\"class_value\": 3.0, \"depth\": 5}, \"right\": {\"class_value\": 3.0, \"depth\": 5}}, \"right\": {\"feature\": 0, \"value\": 1.1107, \"left\": {\"class_value\": 1.0, \"depth\": 5}, \"right\": {\"class_value\": 1.0, \"depth\": 5}}}, \"right\": {\"feature\": 0, \"value\": 1.4758, \"left\": {\"feature\": 0, \"value\": 1.3432, \"left\": {\"class_value\": 3.0, \"depth\": 5}, \"right\": {\"class_value\": 3.0, \"depth\": 5}}, \"right\": {\"feature\": 0, \"value\": 1.4758, \"left\": {\"class_value\": 3.0, \"depth\": 5}, \"right\": {\"class_value\": 3.0, \"depth\": 5}}}}}, \"right\": {\"feature\": 1, \"value\": 1.8649, \"left\": {\"feature\": 0, \"value\": 1.7032, \"left\": {\"feature\": 0, \"value\": 0.1166, \"left\": {\"feature\": 0, \"value\": -0.5498, \"left\": {\"class_value\": 1.0, \"depth\": 5}, \"right\": {\"class_value\": 1.0, \"depth\": 5}}, \"right\": {\"feature\": 0, \"value\": 0.3832, \"left\": {\"class_value\": 2.0, \"depth\": 5}, \"right\": {\"class_value\": 1.0, \"depth\": 5}}}, \"right\": {\"feature\": 0, \"value\": 2.3009, \"left\": {\"class_value\": 2.0, \"depth\": 4}, \"right\": {\"feature\": 0, \"value\": 2.3009, \"left\": {\"class_value\": 2.0, \"depth\": 5}, \"right\": {\"class_value\": 2.0, \"depth\": 5}}}}, \"right\": {\"feature\": 0, \"value\": 0.0988, \"left\": {\"feature\": 1, \"value\": 3.1421, \"left\": {\"feature\": 0, \"value\": -0.0382, \"left\": {\"class_value\": 1.0, \"depth\": 5}, \"right\": {\"class_value\": 1.0, \"depth\": 5}}, \"right\": {\"class_value\": 2.0, \"depth\": 4}}, \"right\": {\"feature\": 0, \"value\": 2.9737, \"left\": {\"feature\": 0, \"value\": 0.6896, \"left\": {\"class_value\": 2.0, \"depth\": 5}, \"right\": {\"class_value\": 2.0, \"depth\": 5}}, \"right\": {\"feature\": 0, \"value\": 2.9737, \"left\": {\"class_value\": 2.0, \"depth\": 5}, \"right\": {\"class_value\": 2.0, \"depth\": 5}}}}}}'"
      ]
     },
     "execution_count": 107,
     "metadata": {},
     "output_type": "execute_result"
    }
   ],
   "source": [
    "tree_json"
   ]
  },
  {
   "cell_type": "code",
   "execution_count": 108,
   "metadata": {},
   "outputs": [],
   "source": [
    "with open('tree.json', 'w') as fp:\n",
    "    json.dump(final_tree, fp)"
   ]
  },
  {
   "cell_type": "code",
   "execution_count": 101,
   "metadata": {},
   "outputs": [],
   "source": [
    "def predict_single(tree, instance):\n",
    "    \n",
    "    \"\"\"\n",
    "        This function outputs the class value of the instance given based on the decision tree created previously.\n",
    "        Parameters:\n",
    "        tree (dict): Decision tree\n",
    "        instance(id np.array): Single instance of data\n",
    "\n",
    "        Returns (float): predicted class value of the given instance\n",
    "    \"\"\"\n",
    "        \n",
    "    if not tree:\n",
    "        print(\"ERROR: Please train the decision tree first\")\n",
    "        return -1\n",
    "    if \"feature\" in tree:\n",
    "        if instance[tree[\"feature\"]] < tree[\"value\"]:\n",
    "            return predict_single(tree[\"left\"], instance)\n",
    "        else:\n",
    "            return predict_single(tree[\"right\"], instance)\n",
    "    else:\n",
    "        return tree[\"class_value\"]\n"
   ]
  },
  {
   "cell_type": "code",
   "execution_count": 102,
   "metadata": {},
   "outputs": [],
   "source": [
    "def predict(X):\n",
    "        \"\"\"\n",
    "        This function outputs the class value for each instance of the given dataset.\n",
    "        Parameters:\n",
    "        X (np.array): Dataset with labels\n",
    "        \n",
    "        Returns y (np.array): array with the predicted class values of the dataset\n",
    "        \"\"\"\n",
    "        y_predict = []\n",
    "        for row in X:\n",
    "            y_predict.append(predict_single(final_tree, row))\n",
    "        return np.array(y_predict)"
   ]
  },
  {
   "cell_type": "code",
   "execution_count": 109,
   "metadata": {},
   "outputs": [],
   "source": [
    "y_pred = predict(train_data)"
   ]
  },
  {
   "cell_type": "code",
   "execution_count": 110,
   "metadata": {},
   "outputs": [
    {
     "data": {
      "text/plain": [
       "array([1., 1., 1., 1., 1., 1., 1., 1., 1., 1., 1., 1., 1., 1., 1., 1., 1.,\n",
       "       1., 1., 1., 1., 1., 1., 1., 1., 1., 1., 1., 1., 1., 2., 2., 2., 2.,\n",
       "       2., 2., 2., 2., 2., 2., 2., 2., 2., 2., 2., 2., 2., 2., 2., 2., 2.,\n",
       "       2., 2., 2., 2., 1., 2., 2., 2., 2., 3., 3., 3., 3., 3., 3., 3., 3.,\n",
       "       3., 3., 3., 3., 3., 3., 3., 3., 3., 3., 3., 3., 3., 3., 3., 3., 3.,\n",
       "       3., 3., 3., 3., 3.])"
      ]
     },
     "execution_count": 110,
     "metadata": {},
     "output_type": "execute_result"
    }
   ],
   "source": [
    "y_pred"
   ]
  },
  {
   "cell_type": "code",
   "execution_count": 111,
   "metadata": {},
   "outputs": [
    {
     "data": {
      "text/plain": [
       "array([1., 1., 1., 1., 1., 1., 1., 1., 1., 1., 1., 1., 1., 1., 1., 1., 1.,\n",
       "       1., 1., 1., 1., 1., 1., 1., 1., 1., 1., 1., 1., 1., 2., 2., 2., 2.,\n",
       "       2., 2., 2., 2., 2., 2., 2., 2., 2., 2., 2., 2., 2., 2., 2., 2., 2.,\n",
       "       2., 2., 2., 2., 2., 2., 2., 2., 2., 3., 3., 3., 3., 3., 3., 3., 3.,\n",
       "       3., 3., 3., 3., 3., 3., 3., 3., 3., 3., 3., 3., 3., 3., 3., 3., 3.,\n",
       "       3., 3., 3., 3., 3.])"
      ]
     },
     "execution_count": 111,
     "metadata": {},
     "output_type": "execute_result"
    }
   ],
   "source": [
    "train_y"
   ]
  },
  {
   "cell_type": "code",
   "execution_count": 112,
   "metadata": {},
   "outputs": [
    {
     "name": "stdout",
     "output_type": "stream",
     "text": [
      "Accuracy: 0.9888888888888889\n"
     ]
    }
   ],
   "source": [
    "print(f\"Accuracy: {sum(y_pred == train_y) / train_y.shape[0]}\")"
   ]
  },
  {
   "cell_type": "code",
   "execution_count": 113,
   "metadata": {},
   "outputs": [],
   "source": [
    "def print_dt( tree, depth=0):\n",
    "        if \"feature\" in tree:\n",
    "            print(\n",
    "                \"\\nSPLIT NODE: feature #{} < {} depth:{}\\n\".format(\n",
    "                    tree[\"feature\"], tree[\"value\"], depth\n",
    "                )\n",
    "            )\n",
    "            print_dt(tree[\"left\"], depth + 1)\n",
    "            print_dt(tree[\"right\"], depth + 1)\n",
    "        else:\n",
    "            print(\n",
    "                \"TERMINAL NODE: class value:{} depth:{}\".format(\n",
    "                    tree[\"class_value\"], tree[\"depth\"]\n",
    "                )\n",
    "            )"
   ]
  },
  {
   "cell_type": "code",
   "execution_count": 114,
   "metadata": {},
   "outputs": [
    {
     "name": "stdout",
     "output_type": "stream",
     "text": [
      "\n",
      "SPLIT NODE: feature #1 < -0.1189 depth:0\n",
      "\n",
      "\n",
      "SPLIT NODE: feature #0 < 0.3505 depth:1\n",
      "\n",
      "\n",
      "SPLIT NODE: feature #1 < -1.8785 depth:2\n",
      "\n",
      "\n",
      "SPLIT NODE: feature #0 < -0.2029 depth:3\n",
      "\n",
      "TERMINAL NODE: class value:3.0 depth:4\n",
      "TERMINAL NODE: class value:3.0 depth:4\n",
      "\n",
      "SPLIT NODE: feature #0 < 0.0555 depth:3\n",
      "\n",
      "\n",
      "SPLIT NODE: feature #0 < -0.3927 depth:4\n",
      "\n",
      "TERMINAL NODE: class value:1.0 depth:5\n",
      "TERMINAL NODE: class value:1.0 depth:5\n",
      "TERMINAL NODE: class value:1.0 depth:4\n",
      "\n",
      "SPLIT NODE: feature #0 < 1.3432 depth:2\n",
      "\n",
      "\n",
      "SPLIT NODE: feature #1 < -2.1079 depth:3\n",
      "\n",
      "\n",
      "SPLIT NODE: feature #0 < 0.8358 depth:4\n",
      "\n",
      "TERMINAL NODE: class value:3.0 depth:5\n",
      "TERMINAL NODE: class value:3.0 depth:5\n",
      "\n",
      "SPLIT NODE: feature #0 < 1.1107 depth:4\n",
      "\n",
      "TERMINAL NODE: class value:1.0 depth:5\n",
      "TERMINAL NODE: class value:1.0 depth:5\n",
      "\n",
      "SPLIT NODE: feature #0 < 1.4758 depth:3\n",
      "\n",
      "\n",
      "SPLIT NODE: feature #0 < 1.3432 depth:4\n",
      "\n",
      "TERMINAL NODE: class value:3.0 depth:5\n",
      "TERMINAL NODE: class value:3.0 depth:5\n",
      "\n",
      "SPLIT NODE: feature #0 < 1.4758 depth:4\n",
      "\n",
      "TERMINAL NODE: class value:3.0 depth:5\n",
      "TERMINAL NODE: class value:3.0 depth:5\n",
      "\n",
      "SPLIT NODE: feature #1 < 1.8649 depth:1\n",
      "\n",
      "\n",
      "SPLIT NODE: feature #0 < 1.7032 depth:2\n",
      "\n",
      "\n",
      "SPLIT NODE: feature #0 < 0.1166 depth:3\n",
      "\n",
      "\n",
      "SPLIT NODE: feature #0 < -0.5498 depth:4\n",
      "\n",
      "TERMINAL NODE: class value:1.0 depth:5\n",
      "TERMINAL NODE: class value:1.0 depth:5\n",
      "\n",
      "SPLIT NODE: feature #0 < 0.3832 depth:4\n",
      "\n",
      "TERMINAL NODE: class value:2.0 depth:5\n",
      "TERMINAL NODE: class value:1.0 depth:5\n",
      "\n",
      "SPLIT NODE: feature #0 < 2.3009 depth:3\n",
      "\n",
      "TERMINAL NODE: class value:2.0 depth:4\n",
      "\n",
      "SPLIT NODE: feature #0 < 2.3009 depth:4\n",
      "\n",
      "TERMINAL NODE: class value:2.0 depth:5\n",
      "TERMINAL NODE: class value:2.0 depth:5\n",
      "\n",
      "SPLIT NODE: feature #0 < 0.0988 depth:2\n",
      "\n",
      "\n",
      "SPLIT NODE: feature #1 < 3.1421 depth:3\n",
      "\n",
      "\n",
      "SPLIT NODE: feature #0 < -0.0382 depth:4\n",
      "\n",
      "TERMINAL NODE: class value:1.0 depth:5\n",
      "TERMINAL NODE: class value:1.0 depth:5\n",
      "TERMINAL NODE: class value:2.0 depth:4\n",
      "\n",
      "SPLIT NODE: feature #0 < 2.9737 depth:3\n",
      "\n",
      "\n",
      "SPLIT NODE: feature #0 < 0.6896 depth:4\n",
      "\n",
      "TERMINAL NODE: class value:2.0 depth:5\n",
      "TERMINAL NODE: class value:2.0 depth:5\n",
      "\n",
      "SPLIT NODE: feature #0 < 2.9737 depth:4\n",
      "\n",
      "TERMINAL NODE: class value:2.0 depth:5\n",
      "TERMINAL NODE: class value:2.0 depth:5\n"
     ]
    }
   ],
   "source": [
    "print_dt(final_tree)"
   ]
  },
  {
   "cell_type": "code",
   "execution_count": null,
   "metadata": {},
   "outputs": [],
   "source": []
  }
 ],
 "metadata": {
  "kernelspec": {
   "display_name": "Python 3",
   "language": "python",
   "name": "python3"
  },
  "language_info": {
   "codemirror_mode": {
    "name": "ipython",
    "version": 3
   },
   "file_extension": ".py",
   "mimetype": "text/x-python",
   "name": "python",
   "nbconvert_exporter": "python",
   "pygments_lexer": "ipython3",
   "version": "3.11.0"
  }
 },
 "nbformat": 4,
 "nbformat_minor": 2
}
