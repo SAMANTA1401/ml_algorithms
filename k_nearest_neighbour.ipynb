{
 "cells": [
  {
   "cell_type": "code",
   "execution_count": 1,
   "metadata": {},
   "outputs": [],
   "source": [
    "import numpy as np"
   ]
  },
  {
   "cell_type": "code",
   "execution_count": null,
   "metadata": {},
   "outputs": [],
   "source": [
    "X = np.array([[1, 1], [3, 1], [1, 4], [2, 4], [3, 3], [5, 1]])\n",
    "y = np.array([0, 0, 0, 1, 1, 1])"
   ]
  },
  {
   "cell_type": "code",
   "execution_count": 3,
   "metadata": {},
   "outputs": [],
   "source": [
    "X = np.loadtxt(\"data.txt\", delimiter=\",\")\n",
    "y = np.loadtxt(\"target.txt\")\n",
    "\n"
   ]
  },
  {
   "cell_type": "code",
   "execution_count": 4,
   "metadata": {},
   "outputs": [
    {
     "data": {
      "text/plain": [
       "array([[ 1.1107, -2.1079,  1.    ],\n",
       "       [-0.5498,  0.0943,  1.    ],\n",
       "       [-0.0382,  1.8829,  1.    ],\n",
       "       [ 0.0555, -0.6139,  1.    ],\n",
       "       [ 0.587 , -1.2067,  1.    ]])"
      ]
     },
     "execution_count": 4,
     "metadata": {},
     "output_type": "execute_result"
    }
   ],
   "source": [
    "X[:5]"
   ]
  },
  {
   "cell_type": "code",
   "execution_count": 5,
   "metadata": {},
   "outputs": [],
   "source": [
    "X = X[:,:2]"
   ]
  },
  {
   "cell_type": "code",
   "execution_count": 6,
   "metadata": {},
   "outputs": [
    {
     "data": {
      "text/plain": [
       "array([[ 1.1107, -2.1079],\n",
       "       [-0.5498,  0.0943],\n",
       "       [-0.0382,  1.8829],\n",
       "       [ 0.0555, -0.6139],\n",
       "       [ 0.587 , -1.2067]])"
      ]
     },
     "execution_count": 6,
     "metadata": {},
     "output_type": "execute_result"
    }
   ],
   "source": [
    "X[:5]"
   ]
  },
  {
   "cell_type": "code",
   "execution_count": 7,
   "metadata": {},
   "outputs": [],
   "source": [
    "k = 1"
   ]
  },
  {
   "cell_type": "code",
   "execution_count": 8,
   "metadata": {},
   "outputs": [],
   "source": [
    "eps = 1e-8"
   ]
  },
  {
   "cell_type": "code",
   "execution_count": 9,
   "metadata": {},
   "outputs": [],
   "source": [
    "X_train = X"
   ]
  },
  {
   "cell_type": "code",
   "execution_count": 10,
   "metadata": {},
   "outputs": [],
   "source": [
    "y_train = y"
   ]
  },
  {
   "cell_type": "code",
   "execution_count": 11,
   "metadata": {},
   "outputs": [],
   "source": [
    "num_loop = 0"
   ]
  },
  {
   "cell_type": "code",
   "execution_count": 12,
   "metadata": {},
   "outputs": [],
   "source": [
    "X_test = X[:,:2]"
   ]
  },
  {
   "cell_type": "code",
   "execution_count": 14,
   "metadata": {},
   "outputs": [
    {
     "data": {
      "text/plain": [
       "array([[ 1.1107, -2.1079],\n",
       "       [-0.5498,  0.0943],\n",
       "       [-0.0382,  1.8829],\n",
       "       [ 0.0555, -0.6139],\n",
       "       [ 0.587 , -1.2067]])"
      ]
     },
     "execution_count": 14,
     "metadata": {},
     "output_type": "execute_result"
    }
   ],
   "source": [
    "X_test[:5]"
   ]
  },
  {
   "cell_type": "markdown",
   "metadata": {},
   "source": [
    "to find (X_train - Xtest)^2"
   ]
  },
  {
   "cell_type": "markdown",
   "metadata": {},
   "source": [
    "(a-b)^2 = a^2 - 2a (dot) b + b^2"
   ]
  },
  {
   "cell_type": "code",
   "execution_count": 15,
   "metadata": {},
   "outputs": [],
   "source": [
    "X_test_squared = np.sum(X_test ** 2, axis=1, keepdims=True)"
   ]
  },
  {
   "cell_type": "code",
   "execution_count": 17,
   "metadata": {},
   "outputs": [
    {
     "data": {
      "text/plain": [
       "array([[5.6768969 ],\n",
       "       [0.31117253],\n",
       "       [3.54677165],\n",
       "       [0.37995346],\n",
       "       [1.80069389]])"
      ]
     },
     "execution_count": 17,
     "metadata": {},
     "output_type": "execute_result"
    }
   ],
   "source": [
    "X_test_squared[:5]"
   ]
  },
  {
   "cell_type": "code",
   "execution_count": 22,
   "metadata": {},
   "outputs": [
    {
     "data": {
      "text/plain": [
       "(90, 1)"
      ]
     },
     "execution_count": 22,
     "metadata": {},
     "output_type": "execute_result"
    }
   ],
   "source": [
    "X_test_squared.shape"
   ]
  },
  {
   "cell_type": "code",
   "execution_count": 18,
   "metadata": {},
   "outputs": [],
   "source": [
    "X_train_squared = np.sum(X_train ** 2, axis=1, keepdims=True)"
   ]
  },
  {
   "cell_type": "code",
   "execution_count": 20,
   "metadata": {},
   "outputs": [
    {
     "data": {
      "text/plain": [
       "array([[5.6768969 ],\n",
       "       [0.31117253],\n",
       "       [3.54677165],\n",
       "       [0.37995346],\n",
       "       [1.80069389]])"
      ]
     },
     "execution_count": 20,
     "metadata": {},
     "output_type": "execute_result"
    }
   ],
   "source": [
    "X_train_squared[:5]"
   ]
  },
  {
   "cell_type": "code",
   "execution_count": 23,
   "metadata": {},
   "outputs": [
    {
     "data": {
      "text/plain": [
       "(90, 1)"
      ]
     },
     "execution_count": 23,
     "metadata": {},
     "output_type": "execute_result"
    }
   ],
   "source": [
    "X_train_squared.shape"
   ]
  },
  {
   "cell_type": "code",
   "execution_count": 21,
   "metadata": {},
   "outputs": [],
   "source": [
    "two_X_test_X_train = np.dot(X_test, X_train.T) # 90x1 . 1x90 = 90x90\n"
   ]
  },
  {
   "cell_type": "code",
   "execution_count": 24,
   "metadata": {},
   "outputs": [
    {
     "data": {
      "text/plain": [
       "array([[ 5.6768969 , -0.80943783, -4.01139365, ...,  6.18317941,\n",
       "         8.19093985,  6.68103606],\n",
       "       [-0.80943783,  0.31117253,  0.19855983, ..., -1.27388536,\n",
       "        -1.24097818, -1.00704342],\n",
       "       [-4.01139365,  0.19855983,  3.54677165, ..., -3.62092216,\n",
       "        -5.6484691 , -4.61711106],\n",
       "       ...,\n",
       "       [ 6.18317941, -1.27388536, -3.62092216, ...,  7.52061757,\n",
       "         9.06786211,  7.38593844],\n",
       "       [ 8.19093985, -1.24097818, -5.6484691 , ...,  9.06786211,\n",
       "        11.84561905,  9.66008616],\n",
       "       [ 6.68103606, -1.00704342, -4.61711106, ...,  7.38593844,\n",
       "         9.66008616,  7.87792356]], shape=(90, 90))"
      ]
     },
     "execution_count": 24,
     "metadata": {},
     "output_type": "execute_result"
    }
   ],
   "source": [
    "two_X_test_X_train"
   ]
  },
  {
   "cell_type": "code",
   "execution_count": 27,
   "metadata": {},
   "outputs": [],
   "source": [
    "distance = eps + X_test_squared - 2 * two_X_test_X_train + X_train_squared.T   # = (X_train - Xtest)^2"
   ]
  },
  {
   "cell_type": "code",
   "execution_count": 61,
   "metadata": {},
   "outputs": [],
   "source": [
    "def train(X, y):\n",
    "    X_train = X\n",
    "    y_train = y"
   ]
  },
  {
   "cell_type": "code",
   "execution_count": 28,
   "metadata": {},
   "outputs": [],
   "source": [
    "def compute_distance_vectorized( X_test):\n",
    "        \"\"\"\n",
    "        Can be tricky to understand this, we utilize heavy\n",
    "        vecotorization as well as numpy broadcasting.\n",
    "        Idea: if we have two vectors a, b (two examples)\n",
    "        and for vectors we can compute (a-b)^2 = a^2 - 2a (dot) b + b^2\n",
    "        expanding on this and doing so for every vector lends to the \n",
    "        heavy vectorized formula for all examples at the same time.\n",
    "        \"\"\"\n",
    "        X_test_squared = np.sum(X_test ** 2, axis=1, keepdims=True)\n",
    "        X_train_squared = np.sum(X_train ** 2, axis=1, keepdims=True)\n",
    "        two_X_test_X_train = np.dot(X_test, X_train.T)\n",
    "\n",
    "        # (Taking sqrt is not necessary: min distance won't change since sqrt is monotone)\n",
    "        return np.sqrt(\n",
    "            eps + X_test_squared - 2 * two_X_test_X_train + X_train_squared.T\n",
    "        )"
   ]
  },
  {
   "cell_type": "code",
   "execution_count": null,
   "metadata": {},
   "outputs": [],
   "source": [
    "# X_test_squared = np.sum(X_test ** 2, axis=1, keepdims=True):\n",
    "# Squares each element of X_test.\n",
    "# Sums the squared elements along the rows (axis=1).\n",
    "# Keeps the result as a 2D array with one column using keepdims=True.\n",
    "# X_train_squared = np.sum(self.X_train ** 2, axis=1, keepdims=True):\n",
    "# Squares each element of X_train.\n",
    "# Sums the squared elements along the rows (axis=1).\n",
    "# Keeps the result as a 2D array with one column using keepdims=True.\n",
    "# two_X_test_X_train = np.dot(X_test, self.X_train.T):\n",
    "# Computes the dot product of X_test and the transpose of X_train.\n",
    "# This gives the matrix product of X_test and X_train, where each element is the dot product of a row in X_test and a row in X_train.\n",
    "# return np.sqrt(self.eps + X_test_squared - 2 * two_X_test_X_train + X_train_squared.T):\n",
    "# Computes the Euclidean distance between each row in X_test and each row in X_train using the formula: sqrt(a^2 - 2a(dot)b + b^2).\n",
    "# self.eps is added to the result to avoid division by zero.\n",
    "# The result is a matrix where each element is the Euclidean distance between a row in X_test and a row in X_train."
   ]
  },
  {
   "cell_type": "code",
   "execution_count": 55,
   "metadata": {},
   "outputs": [
    {
     "data": {
      "text/plain": [
       "array([[ 1.1107, -2.1079],\n",
       "       [-0.5498,  0.0943],\n",
       "       [-0.0382,  1.8829],\n",
       "       [ 0.0555, -0.6139],\n",
       "       [ 0.587 , -1.2067],\n",
       "       [ 0.5453,  0.2509],\n",
       "       [-0.3927, -0.622 ],\n",
       "       [-1.1905, -1.8785],\n",
       "       [-0.424 ,  0.7772],\n",
       "       [-0.7139,  1.5846],\n",
       "       [-0.8883,  2.1408],\n",
       "       [-0.6922,  0.0993],\n",
       "       [ 1.435 ,  1.2334],\n",
       "       [-0.7576,  0.7386],\n",
       "       [-1.1144, -1.7059],\n",
       "       [ 0.6612, -1.7296],\n",
       "       [-2.1381, -0.06  ],\n",
       "       [ 1.3857,  1.2178],\n",
       "       [-1.4951,  0.0373],\n",
       "       [ 0.8029,  0.9739],\n",
       "       [ 1.5607,  1.5862],\n",
       "       [ 0.8563, -1.4245],\n",
       "       [ 0.0397, -1.3799],\n",
       "       [ 1.2331,  1.7421],\n",
       "       [-2.0015,  0.8355],\n",
       "       [-0.3428, -0.478 ],\n",
       "       [-0.8891,  1.2634],\n",
       "       [ 0.3832, -0.1189],\n",
       "       [ 0.4172,  1.0132],\n",
       "       [-0.8695, -0.7947],\n",
       "       [ 2.9737,  3.6438],\n",
       "       [ 3.768 ,  1.8649],\n",
       "       [ 0.1166,  0.9435],\n",
       "       [ 0.6896,  3.916 ],\n",
       "       [ 1.2234,  2.9899],\n",
       "       [ 2.3009,  0.415 ],\n",
       "       [ 3.7693,  3.8027],\n",
       "       [ 1.945 ,  3.4208],\n",
       "       [ 0.929 ,  3.3611],\n",
       "       [ 5.0027,  2.787 ],\n",
       "       [ 1.0101,  1.8737],\n",
       "       [ 2.0751,  2.2628],\n",
       "       [ 1.9113,  3.6777],\n",
       "       [ 2.3127,  3.913 ],\n",
       "       [ 1.9392,  2.3976],\n",
       "       [ 3.1218,  2.5495],\n",
       "       [ 1.7032,  1.1509],\n",
       "       [ 0.4212,  3.5322],\n",
       "       [ 2.7686,  0.9402],\n",
       "       [ 2.1696,  2.9285],\n",
       "       [ 0.338 ,  2.0947],\n",
       "       [ 3.6886,  0.4054],\n",
       "       [ 2.6315,  3.1962],\n",
       "       [-0.5332,  3.1421],\n",
       "       [ 0.338 ,  3.0801],\n",
       "       [ 1.403 ,  1.1841],\n",
       "       [ 2.8739,  2.7777],\n",
       "       [ 1.1254,  3.2404],\n",
       "       [ 0.0988,  1.9522],\n",
       "       [ 0.3688,  2.8904],\n",
       "       [ 1.4758, -1.6387],\n",
       "       [ 1.9289, -1.8191],\n",
       "       [ 2.5741, -1.3213],\n",
       "       [ 2.1917, -1.2852],\n",
       "       [ 0.8358, -2.3349],\n",
       "       [ 2.6863, -1.8834],\n",
       "       [ 3.1102, -0.4854],\n",
       "       [ 3.7073, -0.6466],\n",
       "       [ 3.6394, -0.4097],\n",
       "       [ 0.5365, -3.6555],\n",
       "       [ 2.9295, -0.3819],\n",
       "       [ 0.8168, -3.1133],\n",
       "       [ 1.3432, -1.7717],\n",
       "       [ 1.1039, -2.2261],\n",
       "       [ 1.3754, -2.2236],\n",
       "       [ 0.6757, -2.5379],\n",
       "       [-0.2029, -3.842 ],\n",
       "       [ 2.421 , -1.9788],\n",
       "       [ 1.0335, -2.6042],\n",
       "       [ 0.9638, -2.9449],\n",
       "       [-0.8198, -5.4449],\n",
       "       [ 1.9552, -1.553 ],\n",
       "       [ 0.3505, -3.1887],\n",
       "       [ 2.4943, -1.8116],\n",
       "       [ 1.9761, -1.0664],\n",
       "       [ 0.5994, -3.0513],\n",
       "       [ 2.2076, -1.6728],\n",
       "       [ 1.9941, -1.8826],\n",
       "       [ 1.7487, -2.9644],\n",
       "       [ 1.416 , -2.4234]])"
      ]
     },
     "execution_count": 55,
     "metadata": {},
     "output_type": "execute_result"
    }
   ],
   "source": [
    "X_train"
   ]
  },
  {
   "cell_type": "code",
   "execution_count": 56,
   "metadata": {},
   "outputs": [
    {
     "data": {
      "text/plain": [
       "array([ 1.1107, -2.1079])"
      ]
     },
     "execution_count": 56,
     "metadata": {},
     "output_type": "execute_result"
    }
   ],
   "source": [
    "X_test[0, :]"
   ]
  },
  {
   "cell_type": "code",
   "execution_count": 54,
   "metadata": {},
   "outputs": [
    {
     "data": {
      "text/plain": [
       "array([[ 0.    ,  0.    ],\n",
       "       [-1.6605,  2.2022],\n",
       "       [-1.1489,  3.9908],\n",
       "       [-1.0552,  1.494 ],\n",
       "       [-0.5237,  0.9012],\n",
       "       [-0.5654,  2.3588],\n",
       "       [-1.5034,  1.4859],\n",
       "       [-2.3012,  0.2294],\n",
       "       [-1.5347,  2.8851],\n",
       "       [-1.8246,  3.6925],\n",
       "       [-1.999 ,  4.2487],\n",
       "       [-1.8029,  2.2072],\n",
       "       [ 0.3243,  3.3413],\n",
       "       [-1.8683,  2.8465],\n",
       "       [-2.2251,  0.402 ],\n",
       "       [-0.4495,  0.3783],\n",
       "       [-3.2488,  2.0479],\n",
       "       [ 0.275 ,  3.3257],\n",
       "       [-2.6058,  2.1452],\n",
       "       [-0.3078,  3.0818],\n",
       "       [ 0.45  ,  3.6941],\n",
       "       [-0.2544,  0.6834],\n",
       "       [-1.071 ,  0.728 ],\n",
       "       [ 0.1224,  3.85  ],\n",
       "       [-3.1122,  2.9434],\n",
       "       [-1.4535,  1.6299],\n",
       "       [-1.9998,  3.3713],\n",
       "       [-0.7275,  1.989 ],\n",
       "       [-0.6935,  3.1211],\n",
       "       [-1.9802,  1.3132],\n",
       "       [ 1.863 ,  5.7517],\n",
       "       [ 2.6573,  3.9728],\n",
       "       [-0.9941,  3.0514],\n",
       "       [-0.4211,  6.0239],\n",
       "       [ 0.1127,  5.0978],\n",
       "       [ 1.1902,  2.5229],\n",
       "       [ 2.6586,  5.9106],\n",
       "       [ 0.8343,  5.5287],\n",
       "       [-0.1817,  5.469 ],\n",
       "       [ 3.892 ,  4.8949],\n",
       "       [-0.1006,  3.9816],\n",
       "       [ 0.9644,  4.3707],\n",
       "       [ 0.8006,  5.7856],\n",
       "       [ 1.202 ,  6.0209],\n",
       "       [ 0.8285,  4.5055],\n",
       "       [ 2.0111,  4.6574],\n",
       "       [ 0.5925,  3.2588],\n",
       "       [-0.6895,  5.6401],\n",
       "       [ 1.6579,  3.0481],\n",
       "       [ 1.0589,  5.0364],\n",
       "       [-0.7727,  4.2026],\n",
       "       [ 2.5779,  2.5133],\n",
       "       [ 1.5208,  5.3041],\n",
       "       [-1.6439,  5.25  ],\n",
       "       [-0.7727,  5.188 ],\n",
       "       [ 0.2923,  3.292 ],\n",
       "       [ 1.7632,  4.8856],\n",
       "       [ 0.0147,  5.3483],\n",
       "       [-1.0119,  4.0601],\n",
       "       [-0.7419,  4.9983],\n",
       "       [ 0.3651,  0.4692],\n",
       "       [ 0.8182,  0.2888],\n",
       "       [ 1.4634,  0.7866],\n",
       "       [ 1.081 ,  0.8227],\n",
       "       [-0.2749, -0.227 ],\n",
       "       [ 1.5756,  0.2245],\n",
       "       [ 1.9995,  1.6225],\n",
       "       [ 2.5966,  1.4613],\n",
       "       [ 2.5287,  1.6982],\n",
       "       [-0.5742, -1.5476],\n",
       "       [ 1.8188,  1.726 ],\n",
       "       [-0.2939, -1.0054],\n",
       "       [ 0.2325,  0.3362],\n",
       "       [-0.0068, -0.1182],\n",
       "       [ 0.2647, -0.1157],\n",
       "       [-0.435 , -0.43  ],\n",
       "       [-1.3136, -1.7341],\n",
       "       [ 1.3103,  0.1291],\n",
       "       [-0.0772, -0.4963],\n",
       "       [-0.1469, -0.837 ],\n",
       "       [-1.9305, -3.337 ],\n",
       "       [ 0.8445,  0.5549],\n",
       "       [-0.7602, -1.0808],\n",
       "       [ 1.3836,  0.2963],\n",
       "       [ 0.8654,  1.0415],\n",
       "       [-0.5113, -0.9434],\n",
       "       [ 1.0969,  0.4351],\n",
       "       [ 0.8834,  0.2253],\n",
       "       [ 0.638 , -0.8565],\n",
       "       [ 0.3053, -0.3155]])"
      ]
     },
     "execution_count": 54,
     "metadata": {},
     "output_type": "execute_result"
    }
   ],
   "source": [
    "X_train - X_test[0, :] # for first row of test  numpy broadcast"
   ]
  },
  {
   "cell_type": "code",
   "execution_count": 57,
   "metadata": {},
   "outputs": [],
   "source": [
    "def compute_distance_one_loop(X_test):\n",
    "        \"\"\"\n",
    "        Much better than two-loops but not as fast as fully vectorized version.\n",
    "        Utilize Numpy broadcasting in X_train - X_test[i,:]\n",
    "        \"\"\"\n",
    "        num_test = X_test.shape[0]\n",
    "        num_train = X_train.shape[0]\n",
    "        distances = np.zeros((num_test, num_train))\n",
    "\n",
    "        for i in range(num_test):\n",
    "            # (Taking sqrt is not necessary: min distance won't change since sqrt is monotone)\n",
    "            distances[i, :] = np.sqrt(\n",
    "                eps + np.sum((X_train - X_test[i, :]) ** 2, axis=1)\n",
    "            )\n",
    "\n",
    "        return distances"
   ]
  },
  {
   "cell_type": "code",
   "execution_count": 59,
   "metadata": {},
   "outputs": [
    {
     "data": {
      "text/plain": [
       "array([0., 0.])"
      ]
     },
     "execution_count": 59,
     "metadata": {},
     "output_type": "execute_result"
    }
   ],
   "source": [
    "(X_test[0, :] - X_train[0, :])"
   ]
  },
  {
   "cell_type": "code",
   "execution_count": 58,
   "metadata": {},
   "outputs": [],
   "source": [
    "def compute_distance_two_loops(X_test):\n",
    "        \"\"\"\n",
    "        Inefficient naive implementation, use only\n",
    "        as a way of understanding what kNN is doing\n",
    "        \"\"\"\n",
    "\n",
    "        num_test = X_test.shape[0]\n",
    "        num_train = X_train.shape[0]\n",
    "        distances = np.zeros((num_test, num_train))\n",
    "\n",
    "        for i in range(num_test):\n",
    "            for j in range(num_train):\n",
    "                # (Taking sqrt is not necessary: min distance won't change since sqrt is monotone)\n",
    "                distances[i, j] = np.sqrt(\n",
    "                    eps + np.sum((X_test[i, :] - X_train[j, :]) ** 2)\n",
    "                )\n",
    "\n",
    "        return distances"
   ]
  },
  {
   "cell_type": "code",
   "execution_count": 45,
   "metadata": {},
   "outputs": [],
   "source": [
    "num_test = distance.shape[0]"
   ]
  },
  {
   "cell_type": "code",
   "execution_count": 46,
   "metadata": {},
   "outputs": [
    {
     "data": {
      "text/plain": [
       "90"
      ]
     },
     "execution_count": 46,
     "metadata": {},
     "output_type": "execute_result"
    }
   ],
   "source": [
    "num_test"
   ]
  },
  {
   "cell_type": "code",
   "execution_count": 31,
   "metadata": {},
   "outputs": [],
   "source": [
    "y_pred = np.zeros(num_test)"
   ]
  },
  {
   "cell_type": "code",
   "execution_count": 32,
   "metadata": {},
   "outputs": [
    {
     "data": {
      "text/plain": [
       "array([[0., 0., 0., ..., 0., 0., 0.],\n",
       "       [0., 0., 0., ..., 0., 0., 0.],\n",
       "       [0., 0., 0., ..., 0., 0., 0.],\n",
       "       ...,\n",
       "       [0., 0., 0., ..., 0., 0., 0.],\n",
       "       [0., 0., 0., ..., 0., 0., 0.],\n",
       "       [0., 0., 0., ..., 0., 0., 0.]], shape=(90, 90))"
      ]
     },
     "execution_count": 32,
     "metadata": {},
     "output_type": "execute_result"
    }
   ],
   "source": [
    "y_pred "
   ]
  },
  {
   "cell_type": "code",
   "execution_count": 33,
   "metadata": {},
   "outputs": [],
   "source": [
    "y_indices = np.argsort(distance[0, :])# indexes after sorting the first row of distances"
   ]
  },
  {
   "cell_type": "code",
   "execution_count": 35,
   "metadata": {},
   "outputs": [
    {
     "data": {
      "text/plain": [
       "(90,)"
      ]
     },
     "execution_count": 35,
     "metadata": {},
     "output_type": "execute_result"
    }
   ],
   "source": [
    "y_indices.shape"
   ]
  },
  {
   "cell_type": "code",
   "execution_count": 34,
   "metadata": {},
   "outputs": [
    {
     "data": {
      "text/plain": [
       "array([ 0, 73, 74, 64, 72, 89, 78, 15, 60, 75, 21, 79, 61, 87, 81,  4, 71,\n",
       "       88, 85, 86, 22, 77, 82, 84, 63, 83, 65, 69, 62,  3,  6, 27, 76, 25,\n",
       "       14,  7, 29,  5, 70, 66,  1, 35, 11, 67, 68, 19, 28, 32,  8, 55, 46,\n",
       "       17, 12, 18, 13, 48, 51, 20, 16, 23, 80, 26, 40,  9,  2, 58, 50, 24,\n",
       "       41, 44, 10, 31, 59, 45, 34, 49, 56, 54, 57, 38, 53, 52, 37, 47, 42,\n",
       "       33, 30, 43, 39, 36])"
      ]
     },
     "execution_count": 34,
     "metadata": {},
     "output_type": "execute_result"
    }
   ],
   "source": [
    "y_indices # for first row of distances"
   ]
  },
  {
   "cell_type": "code",
   "execution_count": 36,
   "metadata": {},
   "outputs": [
    {
     "data": {
      "text/plain": [
       "array([1., 3., 3., 3., 3., 3., 3., 1., 3., 3., 1., 3., 3., 3., 3., 1., 3.,\n",
       "       3., 3., 3., 1., 3., 3., 3., 3., 3., 3., 3., 3., 1., 1., 1., 3., 1.,\n",
       "       1., 1., 1., 1., 3., 3., 1., 2., 1., 3., 3., 1., 1., 2., 1., 2., 2.,\n",
       "       1., 1., 1., 1., 2., 2., 1., 1., 1., 3., 1., 2., 1., 1., 2., 2., 1.,\n",
       "       2., 2., 1., 2., 2., 2., 2., 2., 2., 2., 2., 2., 2., 2., 2., 2., 2.,\n",
       "       2., 2., 2., 2., 2.])"
      ]
     },
     "execution_count": 36,
     "metadata": {},
     "output_type": "execute_result"
    }
   ],
   "source": [
    "y_train[y_indices] # traget for first row of distances"
   ]
  },
  {
   "cell_type": "code",
   "execution_count": 40,
   "metadata": {},
   "outputs": [],
   "source": [
    "k_closest_classes = y_train[y_indices[:k]].astype(int)"
   ]
  },
  {
   "cell_type": "code",
   "execution_count": 42,
   "metadata": {},
   "outputs": [
    {
     "data": {
      "text/plain": [
       "array([1])"
      ]
     },
     "execution_count": 42,
     "metadata": {},
     "output_type": "execute_result"
    }
   ],
   "source": [
    "k_closest_classes # for first row of distances"
   ]
  },
  {
   "cell_type": "code",
   "execution_count": null,
   "metadata": {},
   "outputs": [],
   "source": [
    "# np.bincount(k_closest_classes) is a NumPy function that counts the number of occurrences of each class label in the k_closest_classes array.\n",
    "# How it works:\n",
    "# np.bincount takes an array of non-negative integers as input.\n",
    "# It returns an array where the i-th element represents the number of times the integer i appears in the input array.\n",
    "# Example:\n",
    "# Suppose k_closest_classes = [1, 0, 1, 2, 1, 0]. Then:\n",
    "\n",
    "# Class label 0 appears 2 times.\n",
    "# Class label 1 appears 3 times.\n",
    "# Class label 2 appears 1 time."
   ]
  },
  {
   "cell_type": "code",
   "execution_count": 41,
   "metadata": {},
   "outputs": [
    {
     "data": {
      "text/plain": [
       "array([0, 1])"
      ]
     },
     "execution_count": 41,
     "metadata": {},
     "output_type": "execute_result"
    }
   ],
   "source": [
    "np.bincount(k_closest_classes) # class 0 appears 0 times and class 1 appears 1 times"
   ]
  },
  {
   "cell_type": "code",
   "execution_count": 43,
   "metadata": {},
   "outputs": [
    {
     "data": {
      "text/plain": [
       "np.int64(0)"
      ]
     },
     "execution_count": 43,
     "metadata": {},
     "output_type": "execute_result"
    }
   ],
   "source": [
    "np.argmax(np.argmax(k_closest_classes)) # class "
   ]
  },
  {
   "cell_type": "code",
   "execution_count": 47,
   "metadata": {},
   "outputs": [],
   "source": [
    "for i in range(num_test):\n",
    "    y_indices = np.argsort(distance[i, :])\n",
    "    k_closest_classes = y_train[y_indices[: k]].astype(int)\n",
    "    y_pred[i] = np.argmax(np.bincount(k_closest_classes))"
   ]
  },
  {
   "cell_type": "code",
   "execution_count": 48,
   "metadata": {},
   "outputs": [
    {
     "data": {
      "text/plain": [
       "array([89, 74, 73, 78,  0, 64, 88, 72, 79, 75, 60, 87, 61, 71, 81, 15, 85,\n",
       "       86, 77, 21, 83, 82, 63, 65, 84,  4, 69, 62, 22, 76,  3, 27, 70,  6,\n",
       "       66, 25, 14,  7, 29,  5, 67, 35, 68,  1, 11, 19, 28, 46, 55, 32, 48,\n",
       "       51, 17, 12,  8, 80, 18, 13, 20, 23, 16, 40, 26,  9,  2, 58, 50, 24,\n",
       "       41, 44, 31, 10, 45, 56, 49, 59, 34, 54, 57, 52, 38, 37, 53, 47, 42,\n",
       "       30, 39, 33, 43, 36])"
      ]
     },
     "execution_count": 48,
     "metadata": {},
     "output_type": "execute_result"
    }
   ],
   "source": [
    "y_indices # for last row"
   ]
  },
  {
   "cell_type": "code",
   "execution_count": 49,
   "metadata": {},
   "outputs": [
    {
     "data": {
      "text/plain": [
       "array([3])"
      ]
     },
     "execution_count": 49,
     "metadata": {},
     "output_type": "execute_result"
    }
   ],
   "source": [
    "k_closest_classes # for last row"
   ]
  },
  {
   "cell_type": "code",
   "execution_count": 50,
   "metadata": {},
   "outputs": [
    {
     "data": {
      "text/plain": [
       "array([[1., 1., 1., ..., 1., 1., 1.],\n",
       "       [1., 1., 1., ..., 1., 1., 1.],\n",
       "       [1., 1., 1., ..., 1., 1., 1.],\n",
       "       ...,\n",
       "       [3., 3., 3., ..., 3., 3., 3.],\n",
       "       [3., 3., 3., ..., 3., 3., 3.],\n",
       "       [3., 3., 3., ..., 3., 3., 3.]], shape=(90, 90))"
      ]
     },
     "execution_count": 50,
     "metadata": {},
     "output_type": "execute_result"
    }
   ],
   "source": [
    "y_pred"
   ]
  },
  {
   "cell_type": "code",
   "execution_count": 52,
   "metadata": {},
   "outputs": [
    {
     "data": {
      "text/plain": [
       "array([3., 3., 3., 3., 3., 3., 3., 3., 3., 3., 3., 3., 3., 3., 3., 3., 3.,\n",
       "       3., 3., 3., 3., 3., 3., 3., 3., 3., 3., 3., 3., 3., 3., 3., 3., 3.,\n",
       "       3., 3., 3., 3., 3., 3., 3., 3., 3., 3., 3., 3., 3., 3., 3., 3., 3.,\n",
       "       3., 3., 3., 3., 3., 3., 3., 3., 3., 3., 3., 3., 3., 3., 3., 3., 3.,\n",
       "       3., 3., 3., 3., 3., 3., 3., 3., 3., 3., 3., 3., 3., 3., 3., 3., 3.,\n",
       "       3., 3., 3., 3., 3.])"
      ]
     },
     "execution_count": 52,
     "metadata": {},
     "output_type": "execute_result"
    }
   ],
   "source": [
    "y_pred[89] # for last row"
   ]
  },
  {
   "cell_type": "code",
   "execution_count": 53,
   "metadata": {},
   "outputs": [],
   "source": [
    "def predict_labels( distances):\n",
    "        num_test = distances.shape[0]\n",
    "        y_pred = np.zeros(num_test)\n",
    "\n",
    "        for i in range(num_test):\n",
    "            y_indices = np.argsort(distances[i, :])\n",
    "            k_closest_classes = y_train[y_indices[: k]].astype(int)\n",
    "            y_pred[i] = np.argmax(np.bincount(k_closest_classes))\n",
    "\n",
    "        return y_pred"
   ]
  },
  {
   "cell_type": "code",
   "execution_count": 60,
   "metadata": {},
   "outputs": [],
   "source": [
    "def predict( X_test, num_loops=0):\n",
    "        if num_loops == 0:\n",
    "            distances = compute_distance_vectorized(X_test)\n",
    "\n",
    "        elif num_loops == 1:\n",
    "            distances = compute_distance_one_loop(X_test)\n",
    "\n",
    "        else:\n",
    "            distances = compute_distance_two_loops(X_test)\n",
    "\n",
    "        return predict_labels(distances)"
   ]
  },
  {
   "cell_type": "code",
   "execution_count": 62,
   "metadata": {},
   "outputs": [],
   "source": [
    "train(X, y)"
   ]
  },
  {
   "cell_type": "code",
   "execution_count": 63,
   "metadata": {},
   "outputs": [
    {
     "data": {
      "text/plain": [
       "array([1., 1., 1., 1., 1., 1., 1., 1., 1., 1., 1., 1., 1., 1., 1., 1., 1.,\n",
       "       1., 1., 1., 1., 1., 1., 1., 1., 1., 1., 1., 1., 1., 2., 2., 2., 2.,\n",
       "       2., 2., 2., 2., 2., 2., 2., 2., 2., 2., 2., 2., 2., 2., 2., 2., 2.,\n",
       "       2., 2., 2., 2., 2., 2., 2., 2., 2., 3., 3., 3., 3., 3., 3., 3., 3.,\n",
       "       3., 3., 3., 3., 3., 3., 3., 3., 3., 3., 3., 3., 3., 3., 3., 3., 3.,\n",
       "       3., 3., 3., 3., 3.])"
      ]
     },
     "execution_count": 63,
     "metadata": {},
     "output_type": "execute_result"
    }
   ],
   "source": [
    "predict(X, num_loops=0)"
   ]
  },
  {
   "cell_type": "code",
   "execution_count": 64,
   "metadata": {},
   "outputs": [
    {
     "data": {
      "text/plain": [
       "array([1., 1., 1., 1., 1., 1., 1., 1., 1., 1., 1., 1., 1., 1., 1., 1., 1.,\n",
       "       1., 1., 1., 1., 1., 1., 1., 1., 1., 1., 1., 1., 1., 2., 2., 2., 2.,\n",
       "       2., 2., 2., 2., 2., 2., 2., 2., 2., 2., 2., 2., 2., 2., 2., 2., 2.,\n",
       "       2., 2., 2., 2., 2., 2., 2., 2., 2., 3., 3., 3., 3., 3., 3., 3., 3.,\n",
       "       3., 3., 3., 3., 3., 3., 3., 3., 3., 3., 3., 3., 3., 3., 3., 3., 3.,\n",
       "       3., 3., 3., 3., 3.])"
      ]
     },
     "execution_count": 64,
     "metadata": {},
     "output_type": "execute_result"
    }
   ],
   "source": [
    "predict(X, num_loops=1)"
   ]
  },
  {
   "cell_type": "code",
   "execution_count": 65,
   "metadata": {},
   "outputs": [
    {
     "data": {
      "text/plain": [
       "array([1., 1., 1., 1., 1., 1., 1., 1., 1., 1., 1., 1., 1., 1., 1., 1., 1.,\n",
       "       1., 1., 1., 1., 1., 1., 1., 1., 1., 1., 1., 1., 1., 2., 2., 2., 2.,\n",
       "       2., 2., 2., 2., 2., 2., 2., 2., 2., 2., 2., 2., 2., 2., 2., 2., 2.,\n",
       "       2., 2., 2., 2., 2., 2., 2., 2., 2., 3., 3., 3., 3., 3., 3., 3., 3.,\n",
       "       3., 3., 3., 3., 3., 3., 3., 3., 3., 3., 3., 3., 3., 3., 3., 3., 3.,\n",
       "       3., 3., 3., 3., 3.])"
      ]
     },
     "execution_count": 65,
     "metadata": {},
     "output_type": "execute_result"
    }
   ],
   "source": [
    "predict(X, num_loops=2)"
   ]
  },
  {
   "cell_type": "code",
   "execution_count": null,
   "metadata": {},
   "outputs": [],
   "source": []
  }
 ],
 "metadata": {
  "kernelspec": {
   "display_name": "Python 3",
   "language": "python",
   "name": "python3"
  },
  "language_info": {
   "codemirror_mode": {
    "name": "ipython",
    "version": 3
   },
   "file_extension": ".py",
   "mimetype": "text/x-python",
   "name": "python",
   "nbconvert_exporter": "python",
   "pygments_lexer": "ipython3",
   "version": "3.11.0"
  }
 },
 "nbformat": 4,
 "nbformat_minor": 2
}
